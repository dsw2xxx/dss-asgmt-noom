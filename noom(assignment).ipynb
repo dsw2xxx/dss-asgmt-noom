{
  "cells": [
    {
      "metadata": {
        "id": "view-in-github",
        "colab_type": "text"
      },
      "cell_type": "markdown",
      "source": "<a href=\"https://colab.research.google.com/github/dsw2xxx/dss-asgmt-noom/blob/master/noom(assignment).ipynb\" target=\"_parent\"><img src=\"https://colab.research.google.com/assets/colab-badge.svg\" alt=\"Open In Colab\"/></a>"
    },
    {
      "metadata": {
        "colab_type": "text",
        "id": "E0q6CL_hxs2g"
      },
      "cell_type": "markdown",
      "source": "## 눔(Noom)의 데이터분석 팀에 오신 것을 환영합니다!\n\n(이 쥬피터 노트북은 다음의 링크 https://bit.ly/dsa-0102-ipynb 데이터는 https://bit.ly/dsa-noom 에서 다운받을 수 있습니다.)\n\n \n\n안녕하세요! [눔(Noom)](http://noom.com/) 데이터분석팀에 오신 것을 환영합니다.\n\n[눔(Noom Inc.)](http://noom.com/)은 모바일 플랫폼을 통해 건강관리 서비스를 제공하는 회사로서 2008년, 정세주 대표와 구글 수석 엔지니어 출신이자 공동창업자인 아텀 페타코브(Artem Petakov)에 의해 설립되었습니다. 눔(Noom)은 미국, 일본, 독일, 한국 등 14개국에서 4,600만명이 가입한 글로벌 서비스로 성장하였고, 2009년과 2010년 연이어 구글(Google) 이 선정한 가장 혁신적인 개발 스타트업 중 하나로 선정되었습니다.\n\n눔은 지금까지 다양한 서비스를 오픈해왔지만, 그 중에서도 가장 중요한 서비스를 하나 꼽자면 **눔 코치(Noom Coach)** 입니다.\n\n<img src=\"https://www.dropbox.com/s/b0gsp4jncwwnoq0/noom-coach-logo.jpg?dl=1\" alt=\"drawing\" width=\"200\"/>\n\n눔 코치(Noom Coach) 어플리케이션의 사용자는 이 어플리케이션에서 본인의 식단과 운동에 대한 기록을 남길 수 있습니다. 이 기록을 바탕으로 사용자는 본인이 건강한 식습관 생활을 갖추고 있는지 스스로 판단할 수 있습니다. 또한 유료 모델에 가입하면 전문적인 코치가 채팅으로 통해 1대1로 식단과 운동을 코칭해줍니다.\n\n\n오늘 이 쥬피터 노트북을 받은 수강생분은 하루동안 눔의 일일 데이터 분석가(Data Analyst)로서 일을 할 것입니다. 눔의 내부 데이터를 다른 데이터 분석가가 이용할 수 있도록 정리하고, 정리한 데이터를 바탕으로 운영, 기획, 마케팅, 코칭 팀의 요청사항을 분석한 뒤 이 분석 결과를 전달하는 것이 오늘의 목표입니다.\n\n눔(Noom)과 같이 데이터에 기반한 의사결정으로 일 하는 스타트업에서 데이터 분석가(Data Analyst)의 역할은 매우 중요합니다. 가령 눔의 마케팅 팀은 데이터 분석가(Data Analyst)의 분석 결과를 바탕으로 페이스북 광고 채널의 예산을 재조정(rebalancing)할 수 있습니다. 운영팀은 데이터 분석가(Data Analyst)가 찾아낸 VIP고객에게 혜택을 제공해줌으로서 그들이 계속 서비스를 이용하게 할 수 있습니다. 코칭 팀은 데이터 분석가(Data Analyst)가 분석한 고객의 코칭 만족도를 바탕으로 코칭 방침을 개선할 수 있습니다.\n\n\n반면 데이터 분석가(Data Analyst)가 정확한 분석 결과를 전달해주지 못한다면, 마케팅팀은 마케팅 예산을 재조정(rebalancing)하는데 실패함으로써 회사의 매출을 감소시킬 수 있습니다. 운영팀은 VIP 고객의 이탈을 막지 못해 회사에 큰 손해를 끼칠 수 있습니다. 코칭팀은 고객들에게 만족스러운 코칭을 제공해주지 못함으로써 서비스의 만족도를 낮추고 회사의 매출과 성장에 악영향을 줄 수 있습니다.\n\n그러므로 데이터를 정확하게 분석하는 것은 무엇보다도 중요합니다. 하기에 제시한 15개의 데이터 분석 요청을 프로그래밍 언어 파이썬([Python](http://python.org/))과 파이썬의 데이터 분석 패키지 판다스([Pandas](https://www.python.org/))를 활용해 풀어주세요.\n\n숙련된 데이터분석가는 하기의 요청을 늦어도 반나절(3~4시간) 안에는 해결할 수 있습니다. 즉, **4시간 안에 모든 문제를 풀 수 있다면 합격입니다.**\n\n문제를 풀 때 다른 자료를 참고하거나, 구글에 검색하는 것 모두 허용합니다. (문제 중에는 구글에 검색하지 않으면 풀 수 없는 문제도 준비해놓았습니다) 관련 자료는 [10 minutes to pandas](https://pandas.pydata.org/pandas-docs/stable/10min.html)를 강력 추천합니다. 또는 이전 수업에서 학습한 내용을 참고하는 것도 적극 추천합니다."
    },
    {
      "metadata": {
        "id": "ISbH_BOF8stf",
        "colab_type": "code",
        "colab": {},
        "trusted": true
      },
      "cell_type": "code",
      "source": "import pandas as pd\nimport numpy as np\n\npd.options.display.max_columns = 100",
      "execution_count": 156,
      "outputs": []
    },
    {
      "metadata": {
        "colab_type": "text",
        "id": "hcQ0Yfkixs22"
      },
      "cell_type": "markdown",
      "source": "## 데이터 로딩하기\n\n먼저 데이터를 로딩해오겠습니다. 데이터를 읽어올때는 [판다스(Pandas)](https://pandas.pydata.org/)의 [read_csv](https://pandas.pydata.org/pandas-docs/stable/generated/pandas.read_csv.html) 라는 기능을 사용합니다.\n\n여기서 파일의 경로를 지정하는 방법에 주의하셔야 합니다. read_csv를 실행할 때 (**FileNotFoundError**)라는 이름의 에러가 난다면 경로가 제대로 지정이 되지 않은 것입니다. 만일 파일의 경로를 지정하는 법이 생각나지 않는다면 [다음의 링크](http://88240.tistory.com/122)를 통해 경로를 지정하는 법을 복습해주세요."
    },
    {
      "metadata": {
        "id": "89hQmiwBBydk",
        "colab_type": "code",
        "colab": {},
        "trusted": true
      },
      "cell_type": "code",
      "source": "url_user = 'https://raw.githubusercontent.com/dsw2xxx/dss-asgmt-noom/master/datasets/noom_user.csv'",
      "execution_count": 157,
      "outputs": []
    },
    {
      "metadata": {
        "id": "38h1V5yYCo5t",
        "colab_type": "code",
        "outputId": "5b3e375d-3af6-4339-e9e6-c8b01c2b48af",
        "colab": {
          "base_uri": "https://localhost:8080/",
          "height": 221
        },
        "trusted": true
      },
      "cell_type": "code",
      "source": "# noom.csv 파일을 읽어옵니다.\n# 이 데이터는 사용자의 프로필(성별, 나이 등)과 구매 정보 등을 담고 있습니다.\n# 또한 이 과정에서 구매 날짜(Purchased At)는 별도로 날짜 컬럼으로 해석할 수 있게 parse_dates 옵션에 추각합니다.\n# parse_dates는 to_datetime과 동일한 기능이고 csv파일을 불러오는 동시에 변환이 가능하다.\n# 이 결과를 raw_data라는 이름의 변수에 할당합니다.\nraw_data = pd.read_csv(url_user, parse_dates=['Purchased At'])\n\nprint(raw_data.shape)\nraw_data.head()",
      "execution_count": 158,
      "outputs": [
        {
          "output_type": "stream",
          "text": "(10000, 14)\n",
          "name": "stdout"
        },
        {
          "output_type": "execute_result",
          "execution_count": 158,
          "data": {
            "text/plain": "  Access Code Name  Gender   Age  Height  Initial Weight  Lowest Weight  \\\n0    Y9RY2VSI  김승혜  FEMALE  25.0   172.0            66.9           65.8   \n1    3GTN3S3B  허승준    MALE  26.0   176.0            70.0            NaN   \n2    6B0IG276  이지민  FEMALE  23.0   171.0            98.0            NaN   \n3    EMGRU2MO  장설윤  FEMALE  20.0   160.0            70.7            NaN   \n4    1ELG96TX  서성빈  FEMALE  28.0   165.0            55.5            NaN   \n\n   Target Weight         Product Name     Status   Price  \\\n0      55.000000          눔 체중감량 프로그램  completed  112500   \n1      65.000000          눔 체중감량 프로그램  completed   44780   \n2      91.140000  눔 체중감량 프로그램 (천원 체험)  completed  132000   \n3      53.000000  눔 체중감량 프로그램 (천원 체험)  completed  112500   \n4      51.615002          눔 체중감량 프로그램  completed   44780   \n\n             Purchased At Payment Type   Channel  \n0 2017-04-14 19:03:29.976    Recurring    others  \n1 2017-05-23 20:53:54.368    Recurring    others  \n2 2017-08-23 23:39:21.840    Recurring  facebook  \n3 2017-08-28 20:18:22.824    Recurring     naver  \n4 2017-05-07 17:50:30.944    Recurring  facebook  ",
            "text/html": "<div>\n<table border=\"1\" class=\"dataframe\">\n  <thead>\n    <tr style=\"text-align: right;\">\n      <th></th>\n      <th>Access Code</th>\n      <th>Name</th>\n      <th>Gender</th>\n      <th>Age</th>\n      <th>Height</th>\n      <th>Initial Weight</th>\n      <th>Lowest Weight</th>\n      <th>Target Weight</th>\n      <th>Product Name</th>\n      <th>Status</th>\n      <th>Price</th>\n      <th>Purchased At</th>\n      <th>Payment Type</th>\n      <th>Channel</th>\n    </tr>\n  </thead>\n  <tbody>\n    <tr>\n      <th>0</th>\n      <td>Y9RY2VSI</td>\n      <td>김승혜</td>\n      <td>FEMALE</td>\n      <td>25.0</td>\n      <td>172.0</td>\n      <td>66.9</td>\n      <td>65.8</td>\n      <td>55.000000</td>\n      <td>눔 체중감량 프로그램</td>\n      <td>completed</td>\n      <td>112500</td>\n      <td>2017-04-14 19:03:29.976</td>\n      <td>Recurring</td>\n      <td>others</td>\n    </tr>\n    <tr>\n      <th>1</th>\n      <td>3GTN3S3B</td>\n      <td>허승준</td>\n      <td>MALE</td>\n      <td>26.0</td>\n      <td>176.0</td>\n      <td>70.0</td>\n      <td>NaN</td>\n      <td>65.000000</td>\n      <td>눔 체중감량 프로그램</td>\n      <td>completed</td>\n      <td>44780</td>\n      <td>2017-05-23 20:53:54.368</td>\n      <td>Recurring</td>\n      <td>others</td>\n    </tr>\n    <tr>\n      <th>2</th>\n      <td>6B0IG276</td>\n      <td>이지민</td>\n      <td>FEMALE</td>\n      <td>23.0</td>\n      <td>171.0</td>\n      <td>98.0</td>\n      <td>NaN</td>\n      <td>91.140000</td>\n      <td>눔 체중감량 프로그램 (천원 체험)</td>\n      <td>completed</td>\n      <td>132000</td>\n      <td>2017-08-23 23:39:21.840</td>\n      <td>Recurring</td>\n      <td>facebook</td>\n    </tr>\n    <tr>\n      <th>3</th>\n      <td>EMGRU2MO</td>\n      <td>장설윤</td>\n      <td>FEMALE</td>\n      <td>20.0</td>\n      <td>160.0</td>\n      <td>70.7</td>\n      <td>NaN</td>\n      <td>53.000000</td>\n      <td>눔 체중감량 프로그램 (천원 체험)</td>\n      <td>completed</td>\n      <td>112500</td>\n      <td>2017-08-28 20:18:22.824</td>\n      <td>Recurring</td>\n      <td>naver</td>\n    </tr>\n    <tr>\n      <th>4</th>\n      <td>1ELG96TX</td>\n      <td>서성빈</td>\n      <td>FEMALE</td>\n      <td>28.0</td>\n      <td>165.0</td>\n      <td>55.5</td>\n      <td>NaN</td>\n      <td>51.615002</td>\n      <td>눔 체중감량 프로그램</td>\n      <td>completed</td>\n      <td>44780</td>\n      <td>2017-05-07 17:50:30.944</td>\n      <td>Recurring</td>\n      <td>facebook</td>\n    </tr>\n  </tbody>\n</table>\n</div>"
          },
          "metadata": {}
        }
      ]
    },
    {
      "metadata": {
        "colab_type": "text",
        "id": "m_CF8kcuxs3J"
      },
      "cell_type": "markdown",
      "source": "컬럼에 대한 설명은 다음과 같습니다.\n\n  * **Access Code** - 고객의 접근 코드, 쉽게 말해 고객을 식별할 수 있는 정보라고 보면 됩니다.\n  * **Name** - 고객의 이름입니다. 한글로 되어있습니다.\n  * **Gender** - 고객의 성별입니다. MALE과 FEMALE, 그리고 빈 값(NaN)으로 되어있습니다.\n  * **Age** - 고객의 나이입니다.\n  * **Height** - 고객의 키입니다. cm 기준입니다.\n  * **Initial Weight** - 고객이 처음 눔 코치에 회원 가입 했을 당시의 몸무게입니다. kg 기준입니다.\n  * **Lowest Weight** - 고객이 눔 코치를 이용하는 동안 측정한 몸무게 중, 가장 낮은 몸무게입니다. kg 기준입니다.\n  * **Target Weight** - 고객이 눔 코치를 처음 회원 가입할 때 설정한 목표 몸무게입니다. kg 기준입니다.\n  * **Product Name** - 눔 코치 프로그램의 상세 제품명입니다.\n  * **Status** - 고객의 유료 서비스 결제 현황입니다. 결제중(complete), 결제 취소(cancelled), 환불 완료(refunded)로 되어있습니다.\n  * **Price** - 서비스를 구입할 당시의 가격입니다. 원(₩) 기준입니다.\n  * **Purchased At** - 서비스를 구입할 당시의 시간입니다.\n  * **Payment Type** - 결제 방식입니다. 현재는 Recurring(구독형 결제)만 있습니다.\n  * **Channel** - 서비스 구입 경로입니다. 구글, 페이스북, 네이버 등 다양한 경로를 통해 서비스를 구입하고 있습니다.\n  \n"
    },
    {
      "metadata": {
        "id": "8VGJInTP7KFM",
        "colab_type": "code",
        "outputId": "5c16c290-1b28-4a96-ae1d-23b09890e8e5",
        "colab": {
          "base_uri": "https://localhost:8080/",
          "height": 374
        },
        "trusted": true
      },
      "cell_type": "code",
      "source": "raw_data.info()",
      "execution_count": 159,
      "outputs": [
        {
          "output_type": "stream",
          "text": "<class 'pandas.core.frame.DataFrame'>\nRangeIndex: 10000 entries, 0 to 9999\nData columns (total 14 columns):\nAccess Code       10000 non-null object\nName              10000 non-null object\nGender            9869 non-null object\nAge               9869 non-null float64\nHeight            9869 non-null float64\nInitial Weight    9869 non-null float64\nLowest Weight     5777 non-null float64\nTarget Weight     9869 non-null float64\nProduct Name      10000 non-null object\nStatus            10000 non-null object\nPrice             10000 non-null int64\nPurchased At      10000 non-null datetime64[ns]\nPayment Type      10000 non-null object\nChannel           10000 non-null object\ndtypes: datetime64[ns](1), float64(5), int64(1), object(7)\nmemory usage: 1.1+ MB\n",
          "name": "stdout"
        }
      ]
    },
    {
      "metadata": {
        "id": "7C4m0-uIg1gm",
        "colab_type": "text"
      },
      "cell_type": "markdown",
      "source": "Access Code 값의 총 개수가 10000이다. 하지만 Gender, Age, Height, Initial Weight, Target Weight 각각의 값의 총 개수는 9869개이다. 해당 값 모두 가입 시 입력하는 항목이기 때문에 가입 과정에서 누락되었을 가능성이 높다. 거기기에 Lowest Weight의 총 개수는 5777개로 알 수 없는 데이터 누락이 발생한 걸 알 수 있다.\n"
    },
    {
      "metadata": {
        "id": "yr5f1DQmjNuc",
        "colab_type": "text"
      },
      "cell_type": "markdown",
      "source": "##### Let's take a look at column 'Gender'"
    },
    {
      "metadata": {
        "id": "V710gSHziYdY",
        "colab_type": "code",
        "colab": {
          "base_uri": "https://localhost:8080/",
          "height": 419
        },
        "outputId": "d2384dfa-86b5-43df-f1ba-cf0ce02ee7f3",
        "trusted": true
      },
      "cell_type": "code",
      "source": "# raw_data.loc[raw_data['Gender'].isnull() == True, 'Gender']\nraw_data.loc[raw_data['Gender'].isnull() == True]",
      "execution_count": 160,
      "outputs": [
        {
          "output_type": "execute_result",
          "execution_count": 160,
          "data": {
            "text/plain": "     Access Code Name Gender  Age  Height  Initial Weight  Lowest Weight  \\\n39      F9MES5MW  최소현    NaN  NaN     NaN             NaN            NaN   \n147     DK8EDHF5  유설아    NaN  NaN     NaN             NaN            NaN   \n149     ZXH510NF  권서주    NaN  NaN     NaN             NaN            NaN   \n213     YH4PR9H8  양선아    NaN  NaN     NaN             NaN            NaN   \n309     CYKXD5S9  전수윤    NaN  NaN     NaN             NaN            NaN   \n339     LL69ZXS5  오채솔    NaN  NaN     NaN             NaN            NaN   \n566     WDN9H48G  최소율    NaN  NaN     NaN             NaN            NaN   \n573     F4JLIS9Q  배슬빈    NaN  NaN     NaN             NaN            NaN   \n620     CLSA31B7  오서혜    NaN  NaN     NaN             NaN            NaN   \n670     3AHDAW38  백슬은    NaN  NaN     NaN             NaN            NaN   \n695     5N6EMB96  장성아    NaN  NaN     NaN             NaN            NaN   \n739     8OTEZR0F  권슬윤    NaN  NaN     NaN             NaN            NaN   \n789     ZWT44QXZ  조서원    NaN  NaN     NaN             NaN            NaN   \n878     U3RONDTR  백수민    NaN  NaN     NaN             NaN            NaN   \n1025    2H02TRNS  문채민    NaN  NaN     NaN             NaN            NaN   \n1028    AXUW711Z  김소희    NaN  NaN     NaN             NaN            NaN   \n1138    6LOGTCE2  손솔비    NaN  NaN     NaN             NaN            NaN   \n1221    4UF2E9KJ  백세현    NaN  NaN     NaN             NaN            NaN   \n1225    KSTFGIQA  권승희    NaN  NaN     NaN             NaN            NaN   \n1236    BWCUVWXT  박채이    NaN  NaN     NaN             NaN            NaN   \n1282    E3JZXQXC  김슬윤    NaN  NaN     NaN             NaN            NaN   \n1330    91LFEO97  신채설    NaN  NaN     NaN             NaN            NaN   \n1456    8CB9OWMY  강지안    NaN  NaN     NaN             NaN            NaN   \n1529    Y1OA5N48  오승이    NaN  NaN     NaN             NaN            NaN   \n1552    JCR8HZNK  오지수    NaN  NaN     NaN             NaN            NaN   \n1768    QFBHY021  손세연    NaN  NaN     NaN             NaN            NaN   \n2120    Z5YIQ4ST  정초빈    NaN  NaN     NaN             NaN            NaN   \n2231    RYA4W0YD  강채민    NaN  NaN     NaN             NaN            NaN   \n2350    UHI2LVCP  임솔영    NaN  NaN     NaN             NaN            NaN   \n2395    8IIA6MAM  유세현    NaN  NaN     NaN             NaN            NaN   \n...          ...  ...    ...  ...     ...             ...            ...   \n7692    XUXPF5T8  한채아    NaN  NaN     NaN             NaN            NaN   \n7838    BZ5FY3IL  홍지아    NaN  NaN     NaN             NaN            NaN   \n7976    4FJ8IKAK  송초은    NaN  NaN     NaN             NaN            NaN   \n8031    I3KMOMQN  유서진    NaN  NaN     NaN             NaN            NaN   \n8110    WVGEX712  권슬빈    NaN  NaN     NaN             NaN            NaN   \n8320    12A8JU0U  황수희    NaN  NaN     NaN             NaN            NaN   \n8349    359O9JP8  전세빈    NaN  NaN     NaN             NaN            NaN   \n8361    EF2RMGDU  홍설빈    NaN  NaN     NaN             NaN            NaN   \n8490    XYU3MUA8  김슬아    NaN  NaN     NaN             NaN            NaN   \n8526    JJ1HC4IJ  임지선    NaN  NaN     NaN             NaN            NaN   \n8565    P95MVYUL  손설연    NaN  NaN     NaN             NaN            NaN   \n8671    K0591R0C  강세빈    NaN  NaN     NaN             NaN            NaN   \n8677    GAALPKN5  임지수    NaN  NaN     NaN             NaN            NaN   \n8785    J5LQPBTI  배선이    NaN  NaN     NaN             NaN            NaN   \n8806    U3XFTP3S  문선희    NaN  NaN     NaN             NaN            NaN   \n8982    XRWBLJIW  홍초영    NaN  NaN     NaN             NaN            NaN   \n9057    EUSP1AVG  신초민    NaN  NaN     NaN             NaN            NaN   \n9081    2XGJW4PZ  조솔아    NaN  NaN     NaN             NaN            NaN   \n9094    NRZBB4R7  전세아    NaN  NaN     NaN             NaN            NaN   \n9301    07FGH8LB  송선정    NaN  NaN     NaN             NaN            NaN   \n9316    59GNDZUV  안소윤    NaN  NaN     NaN             NaN            NaN   \n9538    KYVIXQUC  박슬은    NaN  NaN     NaN             NaN           61.0   \n9573    1X1DMEJJ  손솔희    NaN  NaN     NaN             NaN            NaN   \n9715    MOMG89UA  이서희    NaN  NaN     NaN             NaN            NaN   \n9735    1ZNMN0Z3  윤솔비    NaN  NaN     NaN             NaN            NaN   \n9821    PPUQD8MN  권지민    NaN  NaN     NaN             NaN            NaN   \n9849    3R4RSYVM  송세아    NaN  NaN     NaN             NaN            NaN   \n9937    2QH14F3K  허승예    NaN  NaN     NaN             NaN            NaN   \n9970    8J0TNHPK  송소빈    NaN  NaN     NaN             NaN            NaN   \n9972    V3GWI0ON  임수윤    NaN  NaN     NaN             NaN            NaN   \n\n      Target Weight         Product Name     Status   Price  \\\n39              NaN  눔 체중감량 프로그램 (천원 체험)  cancelled  112500   \n147             NaN  눔 체중감량 프로그램 (천원 체험)  completed  112500   \n149             NaN  눔 체중감량 프로그램 (천원 체험)  completed  112500   \n213             NaN  눔 체중감량 프로그램 (천원 체험)  completed  112500   \n309             NaN  눔 체중감량 프로그램 (천원 체험)  completed  112500   \n339             NaN  눔 체중감량 프로그램 (천원 체험)  cancelled  132000   \n566             NaN  눔 체중감량 프로그램 (천원 체험)  cancelled  112500   \n573             NaN  눔 체중감량 프로그램 (천원 체험)  completed  112500   \n620             NaN  눔 체중감량 프로그램 (천원 체험)  cancelled  112500   \n670             NaN          눔 체중감량 프로그램  completed  112500   \n695             NaN  눔 체중감량 프로그램 (천원 체험)  completed  112500   \n739             NaN  눔 체중감량 프로그램 (천원 체험)   refunded  112500   \n789             NaN  눔 체중감량 프로그램 (천원 체험)  completed  112500   \n878             NaN          눔 체중감량 프로그램   refunded   44780   \n1025            NaN  눔 체중감량 프로그램 (천원 체험)  completed  112500   \n1028            NaN          눔 체중감량 프로그램  cancelled  112500   \n1138            NaN  눔 체중감량 프로그램 (천원 체험)  completed  112500   \n1221            NaN  눔 체중감량 프로그램 (천원 체험)  completed  112500   \n1225            NaN          눔 체중감량 프로그램   refunded   44780   \n1236            NaN  눔 체중감량 프로그램 (천원 체험)  completed  112500   \n1282            NaN  눔 체중감량 프로그램 (천원 체험)   refunded  112500   \n1330            NaN  눔 체중감량 프로그램 (천원 체험)  completed  118000   \n1456            NaN  눔 체중감량 프로그램 (천원 체험)  cancelled  112500   \n1529            NaN  눔 체중감량 프로그램 (천원 체험)   refunded  112500   \n1552            NaN          눔 체중감량 프로그램  cancelled  112500   \n1768            NaN          눔 체중감량 프로그램  cancelled  112500   \n2120            NaN  눔 체중감량 프로그램 (천원 체험)  cancelled  118000   \n2231            NaN          눔 체중감량 프로그램  cancelled  112500   \n2350            NaN          눔 체중감량 프로그램  completed  112500   \n2395            NaN          눔 체중감량 프로그램  completed  112500   \n...             ...                  ...        ...     ...   \n7692            NaN          눔 체중감량 프로그램  cancelled  112500   \n7838            NaN          눔 체중감량 프로그램  completed  112500   \n7976            NaN  눔 체중감량 프로그램 (천원 체험)   refunded  112500   \n8031            NaN          눔 체중감량 프로그램  cancelled  112500   \n8110            NaN  눔 체중감량 프로그램 (천원 체험)   refunded  112500   \n8320            NaN  눔 체중감량 프로그램 (천원 체험)  cancelled  112500   \n8349            NaN  눔 체중감량 프로그램 (천원 체험)   refunded  112500   \n8361            NaN          눔 체중감량 프로그램  cancelled  112500   \n8490            NaN          눔 체중감량 프로그램  cancelled  112500   \n8526            NaN          눔 체중감량 프로그램  cancelled  112500   \n8565            NaN          눔 체중감량 프로그램  completed  112500   \n8671            NaN  눔 체중감량 프로그램 (천원 체험)  cancelled  112500   \n8677            NaN  눔 체중감량 프로그램 (천원 체험)  cancelled  112500   \n8785            NaN  눔 체중감량 프로그램 (천원 체험)  cancelled  112500   \n8806            NaN  눔 체중감량 프로그램 (천원 체험)  completed  112500   \n8982            NaN  눔 체중감량 프로그램 (천원 체험)  cancelled  112500   \n9057            NaN  눔 체중감량 프로그램 (천원 체험)  cancelled  112500   \n9081            NaN          눔 체중감량 프로그램  cancelled  112500   \n9094            NaN          눔 체중감량 프로그램  completed  112500   \n9301            NaN  눔 체중감량 프로그램 (천원 체험)  cancelled  112500   \n9316            NaN          눔 체중감량 프로그램  completed  112500   \n9538            NaN          눔 체중감량 프로그램  cancelled  112500   \n9573            NaN  눔 체중감량 프로그램 (천원 체험)  cancelled  112500   \n9715            NaN  눔 체중감량 프로그램 (천원 체험)  cancelled  112500   \n9735            NaN  눔 체중감량 프로그램 (천원 체험)  completed  112500   \n9821            NaN  눔 체중감량 프로그램 (천원 체험)   refunded  112500   \n9849            NaN  눔 체중감량 프로그램 (천원 체험)  cancelled  112500   \n9937            NaN  눔 체중감량 프로그램 (천원 체험)  completed  112500   \n9970            NaN          눔 체중감량 프로그램  cancelled  112500   \n9972            NaN  눔 체중감량 프로그램 (천원 체험)  cancelled  132000   \n\n                   Purchased At Payment Type    Channel  \n39   2017-08-30 23:28:27.032000    Recurring   facebook  \n147  2017-07-28 14:25:22.728000    Recurring   facebook  \n149  2017-06-12 11:12:43.352000    Recurring      email  \n213  2017-06-04 03:30:24.399999    Recurring   facebook  \n309  2017-06-27 12:44:28.152000    Recurring  instagram  \n339  2017-08-26 06:27:44.432000    Recurring   facebook  \n566  2017-06-25 22:49:21.896000    Recurring   facebook  \n573  2017-06-22 21:12:00.632000    Recurring   facebook  \n620  2017-07-12 04:14:04.288000    Recurring      naver  \n670  2017-05-08 02:28:30.864000    Recurring   facebook  \n695  2017-07-29 08:10:51.656000    Recurring     others  \n739  2017-08-30 08:34:25.048000    Recurring   facebook  \n789  2017-07-26 11:44:20.944000    Recurring      naver  \n878  2017-05-23 18:29:09.016000    Recurring     others  \n1025 2017-07-20 01:00:30.992000    Recurring   facebook  \n1028 2017-05-04 22:51:03.832000    Recurring   facebook  \n1138 2017-07-28 14:13:23.728000    Recurring   facebook  \n1221 2017-07-20 00:49:22.992000    Recurring   facebook  \n1225 2017-05-23 18:35:06.016000    Recurring     others  \n1236 2017-08-24 17:03:21.976000    Recurring   facebook  \n1282 2017-08-09 19:37:04.192000    Recurring   facebook  \n1330 2017-06-03 21:20:31.776000    Recurring      naver  \n1456 2017-08-11 03:34:36.712000    Recurring   facebook  \n1529 2017-08-15 19:09:48.880000    Recurring      naver  \n1552 2017-05-23 17:27:20.296000    Recurring     others  \n1768 2017-05-04 22:59:37.832000    Recurring   facebook  \n2120 2017-06-03 21:35:02.776000    Recurring      naver  \n2231 2017-04-30 01:13:09.352000    Recurring   facebook  \n2350 2017-05-04 22:49:09.832000    Recurring   facebook  \n2395 2017-05-02 11:28:41.960000    Recurring      naver  \n...                         ...          ...        ...  \n7692 2017-04-24 00:09:32.848000    Recurring     others  \n7838 2017-05-12 16:08:36.320000    Recurring   facebook  \n7976 2017-07-28 14:18:33.728000    Recurring   facebook  \n8031 2017-04-13 18:34:30.992000    Recurring   facebook  \n8110 2017-08-30 08:38:29.048000    Recurring   facebook  \n8320 2017-08-12 20:41:00.728000    Recurring   facebook  \n8349 2017-06-08 13:19:10.760000    Recurring      naver  \n8361 2017-04-13 18:40:34.992000    Recurring   facebook  \n8490 2017-05-15 14:21:47.960000    Recurring     google  \n8526 2017-05-04 22:46:26.832000    Recurring   facebook  \n8565 2017-04-16 03:21:38.072000    Recurring   facebook  \n8671 2017-06-04 03:26:16.399999    Recurring   facebook  \n8677 2017-06-25 22:36:14.896000    Recurring   facebook  \n8785 2017-07-30 01:40:08.816000    Recurring   facebook  \n8806 2017-08-29 10:45:08.720000    Recurring   facebook  \n8982 2017-08-16 20:27:36.624000    Recurring   facebook  \n9057 2017-05-30 08:46:45.808000    Recurring   facebook  \n9081 2017-05-04 22:56:15.832000    Recurring   facebook  \n9094 2017-05-07 20:47:09.424001    Recurring   facebook  \n9301 2017-07-22 23:59:05.616000    Recurring      naver  \n9316 2017-05-09 16:41:48.608000    Recurring   facebook  \n9538 2017-04-13 22:02:03.120000    Recurring   facebook  \n9573 2017-07-22 23:46:45.616000    Recurring      naver  \n9715 2017-07-04 12:17:19.336000    Recurring   facebook  \n9735 2017-07-29 08:26:28.656000    Recurring     others  \n9821 2017-07-26 11:36:52.944000    Recurring      naver  \n9849 2017-06-22 21:14:57.632000    Recurring   facebook  \n9937 2017-07-28 14:27:59.728000    Recurring   facebook  \n9970 2017-04-30 20:43:54.024000    Recurring     others  \n9972 2017-08-26 06:36:48.432000    Recurring   facebook  \n\n[131 rows x 14 columns]",
            "text/html": "<div>\n<table border=\"1\" class=\"dataframe\">\n  <thead>\n    <tr style=\"text-align: right;\">\n      <th></th>\n      <th>Access Code</th>\n      <th>Name</th>\n      <th>Gender</th>\n      <th>Age</th>\n      <th>Height</th>\n      <th>Initial Weight</th>\n      <th>Lowest Weight</th>\n      <th>Target Weight</th>\n      <th>Product Name</th>\n      <th>Status</th>\n      <th>Price</th>\n      <th>Purchased At</th>\n      <th>Payment Type</th>\n      <th>Channel</th>\n    </tr>\n  </thead>\n  <tbody>\n    <tr>\n      <th>39</th>\n      <td>F9MES5MW</td>\n      <td>최소현</td>\n      <td>NaN</td>\n      <td>NaN</td>\n      <td>NaN</td>\n      <td>NaN</td>\n      <td>NaN</td>\n      <td>NaN</td>\n      <td>눔 체중감량 프로그램 (천원 체험)</td>\n      <td>cancelled</td>\n      <td>112500</td>\n      <td>2017-08-30 23:28:27.032000</td>\n      <td>Recurring</td>\n      <td>facebook</td>\n    </tr>\n    <tr>\n      <th>147</th>\n      <td>DK8EDHF5</td>\n      <td>유설아</td>\n      <td>NaN</td>\n      <td>NaN</td>\n      <td>NaN</td>\n      <td>NaN</td>\n      <td>NaN</td>\n      <td>NaN</td>\n      <td>눔 체중감량 프로그램 (천원 체험)</td>\n      <td>completed</td>\n      <td>112500</td>\n      <td>2017-07-28 14:25:22.728000</td>\n      <td>Recurring</td>\n      <td>facebook</td>\n    </tr>\n    <tr>\n      <th>149</th>\n      <td>ZXH510NF</td>\n      <td>권서주</td>\n      <td>NaN</td>\n      <td>NaN</td>\n      <td>NaN</td>\n      <td>NaN</td>\n      <td>NaN</td>\n      <td>NaN</td>\n      <td>눔 체중감량 프로그램 (천원 체험)</td>\n      <td>completed</td>\n      <td>112500</td>\n      <td>2017-06-12 11:12:43.352000</td>\n      <td>Recurring</td>\n      <td>email</td>\n    </tr>\n    <tr>\n      <th>213</th>\n      <td>YH4PR9H8</td>\n      <td>양선아</td>\n      <td>NaN</td>\n      <td>NaN</td>\n      <td>NaN</td>\n      <td>NaN</td>\n      <td>NaN</td>\n      <td>NaN</td>\n      <td>눔 체중감량 프로그램 (천원 체험)</td>\n      <td>completed</td>\n      <td>112500</td>\n      <td>2017-06-04 03:30:24.399999</td>\n      <td>Recurring</td>\n      <td>facebook</td>\n    </tr>\n    <tr>\n      <th>309</th>\n      <td>CYKXD5S9</td>\n      <td>전수윤</td>\n      <td>NaN</td>\n      <td>NaN</td>\n      <td>NaN</td>\n      <td>NaN</td>\n      <td>NaN</td>\n      <td>NaN</td>\n      <td>눔 체중감량 프로그램 (천원 체험)</td>\n      <td>completed</td>\n      <td>112500</td>\n      <td>2017-06-27 12:44:28.152000</td>\n      <td>Recurring</td>\n      <td>instagram</td>\n    </tr>\n    <tr>\n      <th>339</th>\n      <td>LL69ZXS5</td>\n      <td>오채솔</td>\n      <td>NaN</td>\n      <td>NaN</td>\n      <td>NaN</td>\n      <td>NaN</td>\n      <td>NaN</td>\n      <td>NaN</td>\n      <td>눔 체중감량 프로그램 (천원 체험)</td>\n      <td>cancelled</td>\n      <td>132000</td>\n      <td>2017-08-26 06:27:44.432000</td>\n      <td>Recurring</td>\n      <td>facebook</td>\n    </tr>\n    <tr>\n      <th>566</th>\n      <td>WDN9H48G</td>\n      <td>최소율</td>\n      <td>NaN</td>\n      <td>NaN</td>\n      <td>NaN</td>\n      <td>NaN</td>\n      <td>NaN</td>\n      <td>NaN</td>\n      <td>눔 체중감량 프로그램 (천원 체험)</td>\n      <td>cancelled</td>\n      <td>112500</td>\n      <td>2017-06-25 22:49:21.896000</td>\n      <td>Recurring</td>\n      <td>facebook</td>\n    </tr>\n    <tr>\n      <th>573</th>\n      <td>F4JLIS9Q</td>\n      <td>배슬빈</td>\n      <td>NaN</td>\n      <td>NaN</td>\n      <td>NaN</td>\n      <td>NaN</td>\n      <td>NaN</td>\n      <td>NaN</td>\n      <td>눔 체중감량 프로그램 (천원 체험)</td>\n      <td>completed</td>\n      <td>112500</td>\n      <td>2017-06-22 21:12:00.632000</td>\n      <td>Recurring</td>\n      <td>facebook</td>\n    </tr>\n    <tr>\n      <th>620</th>\n      <td>CLSA31B7</td>\n      <td>오서혜</td>\n      <td>NaN</td>\n      <td>NaN</td>\n      <td>NaN</td>\n      <td>NaN</td>\n      <td>NaN</td>\n      <td>NaN</td>\n      <td>눔 체중감량 프로그램 (천원 체험)</td>\n      <td>cancelled</td>\n      <td>112500</td>\n      <td>2017-07-12 04:14:04.288000</td>\n      <td>Recurring</td>\n      <td>naver</td>\n    </tr>\n    <tr>\n      <th>670</th>\n      <td>3AHDAW38</td>\n      <td>백슬은</td>\n      <td>NaN</td>\n      <td>NaN</td>\n      <td>NaN</td>\n      <td>NaN</td>\n      <td>NaN</td>\n      <td>NaN</td>\n      <td>눔 체중감량 프로그램</td>\n      <td>completed</td>\n      <td>112500</td>\n      <td>2017-05-08 02:28:30.864000</td>\n      <td>Recurring</td>\n      <td>facebook</td>\n    </tr>\n    <tr>\n      <th>695</th>\n      <td>5N6EMB96</td>\n      <td>장성아</td>\n      <td>NaN</td>\n      <td>NaN</td>\n      <td>NaN</td>\n      <td>NaN</td>\n      <td>NaN</td>\n      <td>NaN</td>\n      <td>눔 체중감량 프로그램 (천원 체험)</td>\n      <td>completed</td>\n      <td>112500</td>\n      <td>2017-07-29 08:10:51.656000</td>\n      <td>Recurring</td>\n      <td>others</td>\n    </tr>\n    <tr>\n      <th>739</th>\n      <td>8OTEZR0F</td>\n      <td>권슬윤</td>\n      <td>NaN</td>\n      <td>NaN</td>\n      <td>NaN</td>\n      <td>NaN</td>\n      <td>NaN</td>\n      <td>NaN</td>\n      <td>눔 체중감량 프로그램 (천원 체험)</td>\n      <td>refunded</td>\n      <td>112500</td>\n      <td>2017-08-30 08:34:25.048000</td>\n      <td>Recurring</td>\n      <td>facebook</td>\n    </tr>\n    <tr>\n      <th>789</th>\n      <td>ZWT44QXZ</td>\n      <td>조서원</td>\n      <td>NaN</td>\n      <td>NaN</td>\n      <td>NaN</td>\n      <td>NaN</td>\n      <td>NaN</td>\n      <td>NaN</td>\n      <td>눔 체중감량 프로그램 (천원 체험)</td>\n      <td>completed</td>\n      <td>112500</td>\n      <td>2017-07-26 11:44:20.944000</td>\n      <td>Recurring</td>\n      <td>naver</td>\n    </tr>\n    <tr>\n      <th>878</th>\n      <td>U3RONDTR</td>\n      <td>백수민</td>\n      <td>NaN</td>\n      <td>NaN</td>\n      <td>NaN</td>\n      <td>NaN</td>\n      <td>NaN</td>\n      <td>NaN</td>\n      <td>눔 체중감량 프로그램</td>\n      <td>refunded</td>\n      <td>44780</td>\n      <td>2017-05-23 18:29:09.016000</td>\n      <td>Recurring</td>\n      <td>others</td>\n    </tr>\n    <tr>\n      <th>1025</th>\n      <td>2H02TRNS</td>\n      <td>문채민</td>\n      <td>NaN</td>\n      <td>NaN</td>\n      <td>NaN</td>\n      <td>NaN</td>\n      <td>NaN</td>\n      <td>NaN</td>\n      <td>눔 체중감량 프로그램 (천원 체험)</td>\n      <td>completed</td>\n      <td>112500</td>\n      <td>2017-07-20 01:00:30.992000</td>\n      <td>Recurring</td>\n      <td>facebook</td>\n    </tr>\n    <tr>\n      <th>1028</th>\n      <td>AXUW711Z</td>\n      <td>김소희</td>\n      <td>NaN</td>\n      <td>NaN</td>\n      <td>NaN</td>\n      <td>NaN</td>\n      <td>NaN</td>\n      <td>NaN</td>\n      <td>눔 체중감량 프로그램</td>\n      <td>cancelled</td>\n      <td>112500</td>\n      <td>2017-05-04 22:51:03.832000</td>\n      <td>Recurring</td>\n      <td>facebook</td>\n    </tr>\n    <tr>\n      <th>1138</th>\n      <td>6LOGTCE2</td>\n      <td>손솔비</td>\n      <td>NaN</td>\n      <td>NaN</td>\n      <td>NaN</td>\n      <td>NaN</td>\n      <td>NaN</td>\n      <td>NaN</td>\n      <td>눔 체중감량 프로그램 (천원 체험)</td>\n      <td>completed</td>\n      <td>112500</td>\n      <td>2017-07-28 14:13:23.728000</td>\n      <td>Recurring</td>\n      <td>facebook</td>\n    </tr>\n    <tr>\n      <th>1221</th>\n      <td>4UF2E9KJ</td>\n      <td>백세현</td>\n      <td>NaN</td>\n      <td>NaN</td>\n      <td>NaN</td>\n      <td>NaN</td>\n      <td>NaN</td>\n      <td>NaN</td>\n      <td>눔 체중감량 프로그램 (천원 체험)</td>\n      <td>completed</td>\n      <td>112500</td>\n      <td>2017-07-20 00:49:22.992000</td>\n      <td>Recurring</td>\n      <td>facebook</td>\n    </tr>\n    <tr>\n      <th>1225</th>\n      <td>KSTFGIQA</td>\n      <td>권승희</td>\n      <td>NaN</td>\n      <td>NaN</td>\n      <td>NaN</td>\n      <td>NaN</td>\n      <td>NaN</td>\n      <td>NaN</td>\n      <td>눔 체중감량 프로그램</td>\n      <td>refunded</td>\n      <td>44780</td>\n      <td>2017-05-23 18:35:06.016000</td>\n      <td>Recurring</td>\n      <td>others</td>\n    </tr>\n    <tr>\n      <th>1236</th>\n      <td>BWCUVWXT</td>\n      <td>박채이</td>\n      <td>NaN</td>\n      <td>NaN</td>\n      <td>NaN</td>\n      <td>NaN</td>\n      <td>NaN</td>\n      <td>NaN</td>\n      <td>눔 체중감량 프로그램 (천원 체험)</td>\n      <td>completed</td>\n      <td>112500</td>\n      <td>2017-08-24 17:03:21.976000</td>\n      <td>Recurring</td>\n      <td>facebook</td>\n    </tr>\n    <tr>\n      <th>1282</th>\n      <td>E3JZXQXC</td>\n      <td>김슬윤</td>\n      <td>NaN</td>\n      <td>NaN</td>\n      <td>NaN</td>\n      <td>NaN</td>\n      <td>NaN</td>\n      <td>NaN</td>\n      <td>눔 체중감량 프로그램 (천원 체험)</td>\n      <td>refunded</td>\n      <td>112500</td>\n      <td>2017-08-09 19:37:04.192000</td>\n      <td>Recurring</td>\n      <td>facebook</td>\n    </tr>\n    <tr>\n      <th>1330</th>\n      <td>91LFEO97</td>\n      <td>신채설</td>\n      <td>NaN</td>\n      <td>NaN</td>\n      <td>NaN</td>\n      <td>NaN</td>\n      <td>NaN</td>\n      <td>NaN</td>\n      <td>눔 체중감량 프로그램 (천원 체험)</td>\n      <td>completed</td>\n      <td>118000</td>\n      <td>2017-06-03 21:20:31.776000</td>\n      <td>Recurring</td>\n      <td>naver</td>\n    </tr>\n    <tr>\n      <th>1456</th>\n      <td>8CB9OWMY</td>\n      <td>강지안</td>\n      <td>NaN</td>\n      <td>NaN</td>\n      <td>NaN</td>\n      <td>NaN</td>\n      <td>NaN</td>\n      <td>NaN</td>\n      <td>눔 체중감량 프로그램 (천원 체험)</td>\n      <td>cancelled</td>\n      <td>112500</td>\n      <td>2017-08-11 03:34:36.712000</td>\n      <td>Recurring</td>\n      <td>facebook</td>\n    </tr>\n    <tr>\n      <th>1529</th>\n      <td>Y1OA5N48</td>\n      <td>오승이</td>\n      <td>NaN</td>\n      <td>NaN</td>\n      <td>NaN</td>\n      <td>NaN</td>\n      <td>NaN</td>\n      <td>NaN</td>\n      <td>눔 체중감량 프로그램 (천원 체험)</td>\n      <td>refunded</td>\n      <td>112500</td>\n      <td>2017-08-15 19:09:48.880000</td>\n      <td>Recurring</td>\n      <td>naver</td>\n    </tr>\n    <tr>\n      <th>1552</th>\n      <td>JCR8HZNK</td>\n      <td>오지수</td>\n      <td>NaN</td>\n      <td>NaN</td>\n      <td>NaN</td>\n      <td>NaN</td>\n      <td>NaN</td>\n      <td>NaN</td>\n      <td>눔 체중감량 프로그램</td>\n      <td>cancelled</td>\n      <td>112500</td>\n      <td>2017-05-23 17:27:20.296000</td>\n      <td>Recurring</td>\n      <td>others</td>\n    </tr>\n    <tr>\n      <th>1768</th>\n      <td>QFBHY021</td>\n      <td>손세연</td>\n      <td>NaN</td>\n      <td>NaN</td>\n      <td>NaN</td>\n      <td>NaN</td>\n      <td>NaN</td>\n      <td>NaN</td>\n      <td>눔 체중감량 프로그램</td>\n      <td>cancelled</td>\n      <td>112500</td>\n      <td>2017-05-04 22:59:37.832000</td>\n      <td>Recurring</td>\n      <td>facebook</td>\n    </tr>\n    <tr>\n      <th>2120</th>\n      <td>Z5YIQ4ST</td>\n      <td>정초빈</td>\n      <td>NaN</td>\n      <td>NaN</td>\n      <td>NaN</td>\n      <td>NaN</td>\n      <td>NaN</td>\n      <td>NaN</td>\n      <td>눔 체중감량 프로그램 (천원 체험)</td>\n      <td>cancelled</td>\n      <td>118000</td>\n      <td>2017-06-03 21:35:02.776000</td>\n      <td>Recurring</td>\n      <td>naver</td>\n    </tr>\n    <tr>\n      <th>2231</th>\n      <td>RYA4W0YD</td>\n      <td>강채민</td>\n      <td>NaN</td>\n      <td>NaN</td>\n      <td>NaN</td>\n      <td>NaN</td>\n      <td>NaN</td>\n      <td>NaN</td>\n      <td>눔 체중감량 프로그램</td>\n      <td>cancelled</td>\n      <td>112500</td>\n      <td>2017-04-30 01:13:09.352000</td>\n      <td>Recurring</td>\n      <td>facebook</td>\n    </tr>\n    <tr>\n      <th>2350</th>\n      <td>UHI2LVCP</td>\n      <td>임솔영</td>\n      <td>NaN</td>\n      <td>NaN</td>\n      <td>NaN</td>\n      <td>NaN</td>\n      <td>NaN</td>\n      <td>NaN</td>\n      <td>눔 체중감량 프로그램</td>\n      <td>completed</td>\n      <td>112500</td>\n      <td>2017-05-04 22:49:09.832000</td>\n      <td>Recurring</td>\n      <td>facebook</td>\n    </tr>\n    <tr>\n      <th>2395</th>\n      <td>8IIA6MAM</td>\n      <td>유세현</td>\n      <td>NaN</td>\n      <td>NaN</td>\n      <td>NaN</td>\n      <td>NaN</td>\n      <td>NaN</td>\n      <td>NaN</td>\n      <td>눔 체중감량 프로그램</td>\n      <td>completed</td>\n      <td>112500</td>\n      <td>2017-05-02 11:28:41.960000</td>\n      <td>Recurring</td>\n      <td>naver</td>\n    </tr>\n    <tr>\n      <th>...</th>\n      <td>...</td>\n      <td>...</td>\n      <td>...</td>\n      <td>...</td>\n      <td>...</td>\n      <td>...</td>\n      <td>...</td>\n      <td>...</td>\n      <td>...</td>\n      <td>...</td>\n      <td>...</td>\n      <td>...</td>\n      <td>...</td>\n      <td>...</td>\n    </tr>\n    <tr>\n      <th>7692</th>\n      <td>XUXPF5T8</td>\n      <td>한채아</td>\n      <td>NaN</td>\n      <td>NaN</td>\n      <td>NaN</td>\n      <td>NaN</td>\n      <td>NaN</td>\n      <td>NaN</td>\n      <td>눔 체중감량 프로그램</td>\n      <td>cancelled</td>\n      <td>112500</td>\n      <td>2017-04-24 00:09:32.848000</td>\n      <td>Recurring</td>\n      <td>others</td>\n    </tr>\n    <tr>\n      <th>7838</th>\n      <td>BZ5FY3IL</td>\n      <td>홍지아</td>\n      <td>NaN</td>\n      <td>NaN</td>\n      <td>NaN</td>\n      <td>NaN</td>\n      <td>NaN</td>\n      <td>NaN</td>\n      <td>눔 체중감량 프로그램</td>\n      <td>completed</td>\n      <td>112500</td>\n      <td>2017-05-12 16:08:36.320000</td>\n      <td>Recurring</td>\n      <td>facebook</td>\n    </tr>\n    <tr>\n      <th>7976</th>\n      <td>4FJ8IKAK</td>\n      <td>송초은</td>\n      <td>NaN</td>\n      <td>NaN</td>\n      <td>NaN</td>\n      <td>NaN</td>\n      <td>NaN</td>\n      <td>NaN</td>\n      <td>눔 체중감량 프로그램 (천원 체험)</td>\n      <td>refunded</td>\n      <td>112500</td>\n      <td>2017-07-28 14:18:33.728000</td>\n      <td>Recurring</td>\n      <td>facebook</td>\n    </tr>\n    <tr>\n      <th>8031</th>\n      <td>I3KMOMQN</td>\n      <td>유서진</td>\n      <td>NaN</td>\n      <td>NaN</td>\n      <td>NaN</td>\n      <td>NaN</td>\n      <td>NaN</td>\n      <td>NaN</td>\n      <td>눔 체중감량 프로그램</td>\n      <td>cancelled</td>\n      <td>112500</td>\n      <td>2017-04-13 18:34:30.992000</td>\n      <td>Recurring</td>\n      <td>facebook</td>\n    </tr>\n    <tr>\n      <th>8110</th>\n      <td>WVGEX712</td>\n      <td>권슬빈</td>\n      <td>NaN</td>\n      <td>NaN</td>\n      <td>NaN</td>\n      <td>NaN</td>\n      <td>NaN</td>\n      <td>NaN</td>\n      <td>눔 체중감량 프로그램 (천원 체험)</td>\n      <td>refunded</td>\n      <td>112500</td>\n      <td>2017-08-30 08:38:29.048000</td>\n      <td>Recurring</td>\n      <td>facebook</td>\n    </tr>\n    <tr>\n      <th>8320</th>\n      <td>12A8JU0U</td>\n      <td>황수희</td>\n      <td>NaN</td>\n      <td>NaN</td>\n      <td>NaN</td>\n      <td>NaN</td>\n      <td>NaN</td>\n      <td>NaN</td>\n      <td>눔 체중감량 프로그램 (천원 체험)</td>\n      <td>cancelled</td>\n      <td>112500</td>\n      <td>2017-08-12 20:41:00.728000</td>\n      <td>Recurring</td>\n      <td>facebook</td>\n    </tr>\n    <tr>\n      <th>8349</th>\n      <td>359O9JP8</td>\n      <td>전세빈</td>\n      <td>NaN</td>\n      <td>NaN</td>\n      <td>NaN</td>\n      <td>NaN</td>\n      <td>NaN</td>\n      <td>NaN</td>\n      <td>눔 체중감량 프로그램 (천원 체험)</td>\n      <td>refunded</td>\n      <td>112500</td>\n      <td>2017-06-08 13:19:10.760000</td>\n      <td>Recurring</td>\n      <td>naver</td>\n    </tr>\n    <tr>\n      <th>8361</th>\n      <td>EF2RMGDU</td>\n      <td>홍설빈</td>\n      <td>NaN</td>\n      <td>NaN</td>\n      <td>NaN</td>\n      <td>NaN</td>\n      <td>NaN</td>\n      <td>NaN</td>\n      <td>눔 체중감량 프로그램</td>\n      <td>cancelled</td>\n      <td>112500</td>\n      <td>2017-04-13 18:40:34.992000</td>\n      <td>Recurring</td>\n      <td>facebook</td>\n    </tr>\n    <tr>\n      <th>8490</th>\n      <td>XYU3MUA8</td>\n      <td>김슬아</td>\n      <td>NaN</td>\n      <td>NaN</td>\n      <td>NaN</td>\n      <td>NaN</td>\n      <td>NaN</td>\n      <td>NaN</td>\n      <td>눔 체중감량 프로그램</td>\n      <td>cancelled</td>\n      <td>112500</td>\n      <td>2017-05-15 14:21:47.960000</td>\n      <td>Recurring</td>\n      <td>google</td>\n    </tr>\n    <tr>\n      <th>8526</th>\n      <td>JJ1HC4IJ</td>\n      <td>임지선</td>\n      <td>NaN</td>\n      <td>NaN</td>\n      <td>NaN</td>\n      <td>NaN</td>\n      <td>NaN</td>\n      <td>NaN</td>\n      <td>눔 체중감량 프로그램</td>\n      <td>cancelled</td>\n      <td>112500</td>\n      <td>2017-05-04 22:46:26.832000</td>\n      <td>Recurring</td>\n      <td>facebook</td>\n    </tr>\n    <tr>\n      <th>8565</th>\n      <td>P95MVYUL</td>\n      <td>손설연</td>\n      <td>NaN</td>\n      <td>NaN</td>\n      <td>NaN</td>\n      <td>NaN</td>\n      <td>NaN</td>\n      <td>NaN</td>\n      <td>눔 체중감량 프로그램</td>\n      <td>completed</td>\n      <td>112500</td>\n      <td>2017-04-16 03:21:38.072000</td>\n      <td>Recurring</td>\n      <td>facebook</td>\n    </tr>\n    <tr>\n      <th>8671</th>\n      <td>K0591R0C</td>\n      <td>강세빈</td>\n      <td>NaN</td>\n      <td>NaN</td>\n      <td>NaN</td>\n      <td>NaN</td>\n      <td>NaN</td>\n      <td>NaN</td>\n      <td>눔 체중감량 프로그램 (천원 체험)</td>\n      <td>cancelled</td>\n      <td>112500</td>\n      <td>2017-06-04 03:26:16.399999</td>\n      <td>Recurring</td>\n      <td>facebook</td>\n    </tr>\n    <tr>\n      <th>8677</th>\n      <td>GAALPKN5</td>\n      <td>임지수</td>\n      <td>NaN</td>\n      <td>NaN</td>\n      <td>NaN</td>\n      <td>NaN</td>\n      <td>NaN</td>\n      <td>NaN</td>\n      <td>눔 체중감량 프로그램 (천원 체험)</td>\n      <td>cancelled</td>\n      <td>112500</td>\n      <td>2017-06-25 22:36:14.896000</td>\n      <td>Recurring</td>\n      <td>facebook</td>\n    </tr>\n    <tr>\n      <th>8785</th>\n      <td>J5LQPBTI</td>\n      <td>배선이</td>\n      <td>NaN</td>\n      <td>NaN</td>\n      <td>NaN</td>\n      <td>NaN</td>\n      <td>NaN</td>\n      <td>NaN</td>\n      <td>눔 체중감량 프로그램 (천원 체험)</td>\n      <td>cancelled</td>\n      <td>112500</td>\n      <td>2017-07-30 01:40:08.816000</td>\n      <td>Recurring</td>\n      <td>facebook</td>\n    </tr>\n    <tr>\n      <th>8806</th>\n      <td>U3XFTP3S</td>\n      <td>문선희</td>\n      <td>NaN</td>\n      <td>NaN</td>\n      <td>NaN</td>\n      <td>NaN</td>\n      <td>NaN</td>\n      <td>NaN</td>\n      <td>눔 체중감량 프로그램 (천원 체험)</td>\n      <td>completed</td>\n      <td>112500</td>\n      <td>2017-08-29 10:45:08.720000</td>\n      <td>Recurring</td>\n      <td>facebook</td>\n    </tr>\n    <tr>\n      <th>8982</th>\n      <td>XRWBLJIW</td>\n      <td>홍초영</td>\n      <td>NaN</td>\n      <td>NaN</td>\n      <td>NaN</td>\n      <td>NaN</td>\n      <td>NaN</td>\n      <td>NaN</td>\n      <td>눔 체중감량 프로그램 (천원 체험)</td>\n      <td>cancelled</td>\n      <td>112500</td>\n      <td>2017-08-16 20:27:36.624000</td>\n      <td>Recurring</td>\n      <td>facebook</td>\n    </tr>\n    <tr>\n      <th>9057</th>\n      <td>EUSP1AVG</td>\n      <td>신초민</td>\n      <td>NaN</td>\n      <td>NaN</td>\n      <td>NaN</td>\n      <td>NaN</td>\n      <td>NaN</td>\n      <td>NaN</td>\n      <td>눔 체중감량 프로그램 (천원 체험)</td>\n      <td>cancelled</td>\n      <td>112500</td>\n      <td>2017-05-30 08:46:45.808000</td>\n      <td>Recurring</td>\n      <td>facebook</td>\n    </tr>\n    <tr>\n      <th>9081</th>\n      <td>2XGJW4PZ</td>\n      <td>조솔아</td>\n      <td>NaN</td>\n      <td>NaN</td>\n      <td>NaN</td>\n      <td>NaN</td>\n      <td>NaN</td>\n      <td>NaN</td>\n      <td>눔 체중감량 프로그램</td>\n      <td>cancelled</td>\n      <td>112500</td>\n      <td>2017-05-04 22:56:15.832000</td>\n      <td>Recurring</td>\n      <td>facebook</td>\n    </tr>\n    <tr>\n      <th>9094</th>\n      <td>NRZBB4R7</td>\n      <td>전세아</td>\n      <td>NaN</td>\n      <td>NaN</td>\n      <td>NaN</td>\n      <td>NaN</td>\n      <td>NaN</td>\n      <td>NaN</td>\n      <td>눔 체중감량 프로그램</td>\n      <td>completed</td>\n      <td>112500</td>\n      <td>2017-05-07 20:47:09.424001</td>\n      <td>Recurring</td>\n      <td>facebook</td>\n    </tr>\n    <tr>\n      <th>9301</th>\n      <td>07FGH8LB</td>\n      <td>송선정</td>\n      <td>NaN</td>\n      <td>NaN</td>\n      <td>NaN</td>\n      <td>NaN</td>\n      <td>NaN</td>\n      <td>NaN</td>\n      <td>눔 체중감량 프로그램 (천원 체험)</td>\n      <td>cancelled</td>\n      <td>112500</td>\n      <td>2017-07-22 23:59:05.616000</td>\n      <td>Recurring</td>\n      <td>naver</td>\n    </tr>\n    <tr>\n      <th>9316</th>\n      <td>59GNDZUV</td>\n      <td>안소윤</td>\n      <td>NaN</td>\n      <td>NaN</td>\n      <td>NaN</td>\n      <td>NaN</td>\n      <td>NaN</td>\n      <td>NaN</td>\n      <td>눔 체중감량 프로그램</td>\n      <td>completed</td>\n      <td>112500</td>\n      <td>2017-05-09 16:41:48.608000</td>\n      <td>Recurring</td>\n      <td>facebook</td>\n    </tr>\n    <tr>\n      <th>9538</th>\n      <td>KYVIXQUC</td>\n      <td>박슬은</td>\n      <td>NaN</td>\n      <td>NaN</td>\n      <td>NaN</td>\n      <td>NaN</td>\n      <td>61.0</td>\n      <td>NaN</td>\n      <td>눔 체중감량 프로그램</td>\n      <td>cancelled</td>\n      <td>112500</td>\n      <td>2017-04-13 22:02:03.120000</td>\n      <td>Recurring</td>\n      <td>facebook</td>\n    </tr>\n    <tr>\n      <th>9573</th>\n      <td>1X1DMEJJ</td>\n      <td>손솔희</td>\n      <td>NaN</td>\n      <td>NaN</td>\n      <td>NaN</td>\n      <td>NaN</td>\n      <td>NaN</td>\n      <td>NaN</td>\n      <td>눔 체중감량 프로그램 (천원 체험)</td>\n      <td>cancelled</td>\n      <td>112500</td>\n      <td>2017-07-22 23:46:45.616000</td>\n      <td>Recurring</td>\n      <td>naver</td>\n    </tr>\n    <tr>\n      <th>9715</th>\n      <td>MOMG89UA</td>\n      <td>이서희</td>\n      <td>NaN</td>\n      <td>NaN</td>\n      <td>NaN</td>\n      <td>NaN</td>\n      <td>NaN</td>\n      <td>NaN</td>\n      <td>눔 체중감량 프로그램 (천원 체험)</td>\n      <td>cancelled</td>\n      <td>112500</td>\n      <td>2017-07-04 12:17:19.336000</td>\n      <td>Recurring</td>\n      <td>facebook</td>\n    </tr>\n    <tr>\n      <th>9735</th>\n      <td>1ZNMN0Z3</td>\n      <td>윤솔비</td>\n      <td>NaN</td>\n      <td>NaN</td>\n      <td>NaN</td>\n      <td>NaN</td>\n      <td>NaN</td>\n      <td>NaN</td>\n      <td>눔 체중감량 프로그램 (천원 체험)</td>\n      <td>completed</td>\n      <td>112500</td>\n      <td>2017-07-29 08:26:28.656000</td>\n      <td>Recurring</td>\n      <td>others</td>\n    </tr>\n    <tr>\n      <th>9821</th>\n      <td>PPUQD8MN</td>\n      <td>권지민</td>\n      <td>NaN</td>\n      <td>NaN</td>\n      <td>NaN</td>\n      <td>NaN</td>\n      <td>NaN</td>\n      <td>NaN</td>\n      <td>눔 체중감량 프로그램 (천원 체험)</td>\n      <td>refunded</td>\n      <td>112500</td>\n      <td>2017-07-26 11:36:52.944000</td>\n      <td>Recurring</td>\n      <td>naver</td>\n    </tr>\n    <tr>\n      <th>9849</th>\n      <td>3R4RSYVM</td>\n      <td>송세아</td>\n      <td>NaN</td>\n      <td>NaN</td>\n      <td>NaN</td>\n      <td>NaN</td>\n      <td>NaN</td>\n      <td>NaN</td>\n      <td>눔 체중감량 프로그램 (천원 체험)</td>\n      <td>cancelled</td>\n      <td>112500</td>\n      <td>2017-06-22 21:14:57.632000</td>\n      <td>Recurring</td>\n      <td>facebook</td>\n    </tr>\n    <tr>\n      <th>9937</th>\n      <td>2QH14F3K</td>\n      <td>허승예</td>\n      <td>NaN</td>\n      <td>NaN</td>\n      <td>NaN</td>\n      <td>NaN</td>\n      <td>NaN</td>\n      <td>NaN</td>\n      <td>눔 체중감량 프로그램 (천원 체험)</td>\n      <td>completed</td>\n      <td>112500</td>\n      <td>2017-07-28 14:27:59.728000</td>\n      <td>Recurring</td>\n      <td>facebook</td>\n    </tr>\n    <tr>\n      <th>9970</th>\n      <td>8J0TNHPK</td>\n      <td>송소빈</td>\n      <td>NaN</td>\n      <td>NaN</td>\n      <td>NaN</td>\n      <td>NaN</td>\n      <td>NaN</td>\n      <td>NaN</td>\n      <td>눔 체중감량 프로그램</td>\n      <td>cancelled</td>\n      <td>112500</td>\n      <td>2017-04-30 20:43:54.024000</td>\n      <td>Recurring</td>\n      <td>others</td>\n    </tr>\n    <tr>\n      <th>9972</th>\n      <td>V3GWI0ON</td>\n      <td>임수윤</td>\n      <td>NaN</td>\n      <td>NaN</td>\n      <td>NaN</td>\n      <td>NaN</td>\n      <td>NaN</td>\n      <td>NaN</td>\n      <td>눔 체중감량 프로그램 (천원 체험)</td>\n      <td>cancelled</td>\n      <td>132000</td>\n      <td>2017-08-26 06:36:48.432000</td>\n      <td>Recurring</td>\n      <td>facebook</td>\n    </tr>\n  </tbody>\n</table>\n<p>131 rows × 14 columns</p>\n</div>"
          },
          "metadata": {}
        }
      ]
    },
    {
      "metadata": {
        "id": "nGTJ7Z5mkjoZ",
        "colab_type": "code",
        "colab": {
          "base_uri": "https://localhost:8080/",
          "height": 374
        },
        "outputId": "34de7cb3-64c2-477e-ef12-6539a6424b90",
        "trusted": true
      },
      "cell_type": "code",
      "source": "raw_data.loc[raw_data['Gender'].isnull() == True].info()",
      "execution_count": 161,
      "outputs": [
        {
          "output_type": "stream",
          "text": "<class 'pandas.core.frame.DataFrame'>\nInt64Index: 131 entries, 39 to 9972\nData columns (total 14 columns):\nAccess Code       131 non-null object\nName              131 non-null object\nGender            0 non-null object\nAge               0 non-null float64\nHeight            0 non-null float64\nInitial Weight    0 non-null float64\nLowest Weight     2 non-null float64\nTarget Weight     0 non-null float64\nProduct Name      131 non-null object\nStatus            131 non-null object\nPrice             131 non-null int64\nPurchased At      131 non-null datetime64[ns]\nPayment Type      131 non-null object\nChannel           131 non-null object\ndtypes: datetime64[ns](1), float64(5), int64(1), object(7)\nmemory usage: 15.4+ KB\n",
          "name": "stdout"
        }
      ]
    },
    {
      "metadata": {
        "id": "C5DetWNhkMD9",
        "colab_type": "code",
        "colab": {
          "base_uri": "https://localhost:8080/",
          "height": 419
        },
        "outputId": "052010f9-cd9e-4f44-b34f-baffdda7ab75",
        "trusted": true
      },
      "cell_type": "code",
      "source": "raw_data.loc[raw_data['Lowest Weight'].isnull() == True]",
      "execution_count": 162,
      "outputs": [
        {
          "output_type": "execute_result",
          "execution_count": 162,
          "data": {
            "text/plain": "     Access Code    Name  Gender   Age  Height  Initial Weight  Lowest Weight  \\\n1       3GTN3S3B     허승준    MALE  26.0   176.0            70.0            NaN   \n2       6B0IG276     이지민  FEMALE  23.0   171.0            98.0            NaN   \n3       EMGRU2MO     장설윤  FEMALE  20.0   160.0            70.7            NaN   \n4       1ELG96TX     서성빈  FEMALE  28.0   165.0            55.5            NaN   \n6       ERJUS7LV     장세현  FEMALE  41.0   160.0            54.1            NaN   \n8       U9AELHAT     배소정  FEMALE  22.0   161.0            76.0            NaN   \n11      WHA00T0L     임슬민  FEMALE  21.0   158.0            52.7            NaN   \n14      7T5RYBLV     서대연    MALE  28.0   179.0            98.1            NaN   \n18      FJSTM98I     정지현  FEMALE  27.0   167.0            65.8            NaN   \n21      Z6D4QC4N     양채솔  FEMALE  22.0   165.0            66.1            NaN   \n23      8Z1PV3S9     한지아  FEMALE  35.0   163.0            57.0            NaN   \n26      PYEYV5F4     양지은  FEMALE  31.0   164.0            59.9            NaN   \n30      L6HBLXR9     고지율    MALE  23.0   180.0            83.0            NaN   \n31      71UFR10M     신서은  FEMALE  25.0   157.0            58.0            NaN   \n33      SDB0JD2T     전지안  FEMALE  27.0   162.0            84.6            NaN   \n37      W66XIBPR     손선이  FEMALE  37.0   158.0            69.7            NaN   \n38      Y2EQ6I1Y     신지율    MALE  25.0   182.0            84.8            NaN   \n39      F9MES5MW     최소현     NaN   NaN     NaN             NaN            NaN   \n44      J9ANAYK8     류승연    MALE  25.0   172.0            61.1            NaN   \n49      467U7YNV     서성은  FEMALE  22.0   163.0            77.4            NaN   \n60      D76BFB92     문소은  FEMALE  23.0   167.0            68.2            NaN   \n61      12GNEHGC     박초영  FEMALE  27.0   156.0            52.0            NaN   \n73      0Y86CYOJ     박채민  FEMALE  26.0   156.0            79.7            NaN   \n75      7N78AFKU     황선영  FEMALE  21.0   163.0            59.0            NaN   \n83      DPTM3D32     한세빈  FEMALE  22.0   163.0            56.4            NaN   \n84      OZYW94EK     윤수정  FEMALE  43.0   169.0            64.0            NaN   \n86      KZ6G7E5B  한지후,지혁    MALE  35.0   181.0            92.0            NaN   \n90      V910BN81     서서주  FEMALE  20.0   158.0            55.0            NaN   \n93      7GW9N0CU     서서아  FEMALE  28.0   163.0            76.0            NaN   \n95      N828TCZ8     오솔비  FEMALE  22.0   159.0            52.4            NaN   \n...          ...     ...     ...   ...     ...             ...            ...   \n9929    HHHVWFFF     안슬희  FEMALE  32.0   165.0            90.0            NaN   \n9930    K5VE7VGA     문서빈  FEMALE  27.0   170.0           130.0            NaN   \n9932    HJAYMMY2     최채정  FEMALE  28.0   155.0            57.0            NaN   \n9937    2QH14F3K     허승예     NaN   NaN     NaN             NaN            NaN   \n9939    WJUMEIGK     한솔지  FEMALE  23.0   162.0            95.0            NaN   \n9942    5OPESDHO     박솔은  FEMALE  31.0   163.0            82.6            NaN   \n9943    5VQ2TLF3     오세희  FEMALE  26.0   166.0            63.7            NaN   \n9945    ZC0NT0TJ     이솔지  FEMALE  28.0   165.0            63.0            NaN   \n9946    LL0T1BXV     오성민    MALE  43.0   186.0            78.1            NaN   \n9948    TSOR30GP     황채연  FEMALE  21.0   158.0            55.0            NaN   \n9951    PQ0WN8V7     권선정  FEMALE  24.0   153.0            56.1            NaN   \n9953    UHZN0GMZ     홍슬윤  FEMALE  31.0   157.0            53.0            NaN   \n9954    SSYPVCPG     신지아  FEMALE  32.0   163.0            68.1            NaN   \n9957    KJS39ODF     안채민  FEMALE  29.0   157.0            51.0            NaN   \n9963    7SQUMY2F     양지안  FEMALE  27.0   170.0           130.0            NaN   \n9964    IG6FCEAG     권세연  FEMALE  29.0   158.0            61.2            NaN   \n9965    G944T1SR     서서애  FEMALE  44.0   171.0            65.0            NaN   \n9967    GBP8SLKB     황지선  FEMALE  30.0   163.0            59.0            NaN   \n9970    8J0TNHPK     송소빈     NaN   NaN     NaN             NaN            NaN   \n9972    V3GWI0ON     임수윤     NaN   NaN     NaN             NaN            NaN   \n9983    5Y4V31M2     전서우  FEMALE  23.0   168.0            56.2            NaN   \n9984    6FZ5OL4K    이 시민    MALE  19.0   176.0            78.1            NaN   \n9988    3W9NJ7A5     최승예  FEMALE  30.0   160.0            59.5            NaN   \n9991    IJJ8KVC4     전지은  FEMALE  23.0   163.0            57.3            NaN   \n9992    8EXK7GNP     조서우  FEMALE  22.0   161.0            58.0            NaN   \n9994    A8Z5J765     백성원    MALE  27.0   175.0            78.5            NaN   \n9995    118AFCQ9     최서원  FEMALE  31.0   160.0            60.0            NaN   \n9997    VWJ4NLZY     정선희  FEMALE  28.0   166.0            69.0            NaN   \n9998    NJ2PR967     김유찬    MALE  28.0   188.0           110.0            NaN   \n9999    KVX64CPM     임수빈  FEMALE  26.0   167.0            57.5            NaN   \n\n      Target Weight         Product Name     Status   Price  \\\n1         65.000000          눔 체중감량 프로그램  completed   44780   \n2         91.140000  눔 체중감량 프로그램 (천원 체험)  completed  132000   \n3         53.000000  눔 체중감량 프로그램 (천원 체험)  completed  112500   \n4         51.615002          눔 체중감량 프로그램  completed   44780   \n6         49.570000          눔 체중감량 프로그램  cancelled  112500   \n8         48.000000  눔 체중감량 프로그램 (천원 체험)  completed  112500   \n11        49.011000  눔 체중감량 프로그램 (천원 체험)  cancelled  112500   \n14        73.100000          눔 체중감량 프로그램  cancelled  112500   \n18        61.194000  눔 체중감량 프로그램 (천원 체험)  completed  112500   \n21        56.100000  눔 체중감량 프로그램 (천원 체험)  completed  112500   \n23        49.000000  눔 체중감량 프로그램 (천원 체험)   refunded  112500   \n26        55.707001  눔 체중감량 프로그램 (천원 체험)  completed  112500   \n30        77.190000          눔 체중감량 프로그램  completed  112500   \n31        53.939999  눔 체중감량 프로그램 (천원 체험)  cancelled  112500   \n33        78.678001          눔 체중감량 프로그램  completed  112500   \n37        64.820999  눔 체중감량 프로그램 (천원 체험)  completed  112500   \n38        78.864010  눔 체중감량 프로그램 (천원 체험)  completed  112500   \n39              NaN  눔 체중감량 프로그램 (천원 체험)  cancelled  112500   \n44        57.100000  눔 체중감량 프로그램 (천원 체험)  completed   68900   \n49        71.982002  눔 체중감량 프로그램 (천원 체험)  cancelled  112500   \n60        58.000000  눔 체중감량 프로그램 (천원 체험)  completed  112500   \n61        45.000000  눔 체중감량 프로그램 (천원 체험)  cancelled  112500   \n73        74.120995  눔 체중감량 프로그램 (천원 체험)  completed  112500   \n75        49.099998  눔 체중감량 프로그램 (천원 체험)   refunded  112500   \n83        52.452000  눔 체중감량 프로그램 (천원 체험)  completed  112500   \n84        59.520000  눔 체중감량 프로그램 (천원 체험)  completed  112500   \n86        72.000000  눔 체중감량 프로그램 (천원 체험)  completed  112500   \n90        51.150002  눔 체중감량 프로그램 (천원 체험)  completed   68900   \n93        70.680000  눔 체중감량 프로그램 (천원 체험)  cancelled  112500   \n95        45.400000  눔 체중감량 프로그램 (천원 체험)  cancelled  112500   \n...             ...                  ...        ...     ...   \n9929      83.700000          눔 체중감량 프로그램  cancelled  112500   \n9930     120.900000  눔 체중감량 프로그램 (천원 체험)  completed  112500   \n9932      53.010002          눔 체중감량 프로그램  cancelled   44780   \n9937            NaN  눔 체중감량 프로그램 (천원 체험)  completed  112500   \n9939      88.349998  눔 체중감량 프로그램 (천원 체험)  completed  118000   \n9942      76.818000          눔 체중감량 프로그램  cancelled  112500   \n9943      59.241000  눔 체중감량 프로그램 (천원 체험)  cancelled  112500   \n9945      53.000000          눔 체중감량 프로그램  completed  112500   \n9946      72.633000  눔 체중감량 프로그램 (천원 체험)   refunded  112500   \n9948      40.000000          눔 체중감량 프로그램  completed  112500   \n9951      53.099998  눔 체중감량 프로그램 (천원 체험)  completed  112500   \n9953      49.290000          눔 체중감량 프로그램  cancelled   44780   \n9954      63.333000  눔 체중감량 프로그램 (천원 체험)  completed  112500   \n9957      47.430000  눔 체중감량 프로그램 (천원 체험)  cancelled  112500   \n9963     120.900000  눔 체중감량 프로그램 (천원 체험)  completed  112500   \n9964      56.916000  눔 체중감량 프로그램 (천원 체험)  completed  112500   \n9965      56.000000          눔 체중감량 프로그램  completed  112500   \n9967      54.870000          눔 체중감량 프로그램  cancelled  112500   \n9970            NaN          눔 체중감량 프로그램  cancelled  112500   \n9972            NaN  눔 체중감량 프로그램 (천원 체험)  cancelled  132000   \n9983      48.000000  눔 체중감량 프로그램 (천원 체험)  cancelled  112500   \n9984      72.633000  눔 체중감량 프로그램 (천원 체험)  completed  112500   \n9988      52.500000  눔 체중감량 프로그램 (천원 체험)  cancelled  112500   \n9991      50.000000          눔 체중감량 프로그램  cancelled  112500   \n9992      48.000000  눔 체중감량 프로그램 (천원 체험)  cancelled  112500   \n9994      70.500000          눔 체중감량 프로그램  completed  112500   \n9995      52.000000          눔 체중감량 프로그램  completed  112500   \n9997      54.000000  눔 체중감량 프로그램 (천원 체험)  completed  112500   \n9998      80.000000          눔 체중감량 프로그램  cancelled  112500   \n9999      50.500000  눔 체중감량 프로그램 (천원 체험)  cancelled  112500   \n\n                   Purchased At Payment Type    Channel  \n1    2017-05-23 20:53:54.368000    Recurring     others  \n2    2017-08-23 23:39:21.840000    Recurring   facebook  \n3    2017-08-28 20:18:22.824000    Recurring      naver  \n4    2017-05-07 17:50:30.944000    Recurring   facebook  \n6    2017-05-25 09:38:14.776000    Recurring     others  \n8    2017-08-09 15:24:28.296000    Recurring   facebook  \n11   2017-06-13 09:40:59.264000    Recurring   facebook  \n14   2017-05-18 14:03:06.000000    Recurring     direct  \n18   2017-07-25 14:14:20.144000    Recurring   facebook  \n21   2017-08-09 02:51:00.120000    Recurring   facebook  \n23   2017-08-31 16:56:38.624001    Recurring   facebook  \n26   2017-08-23 11:56:39.432000    Recurring   facebook  \n30   2017-05-02 00:06:31.904000    Recurring     google  \n31   2017-07-26 14:09:27.848000    Recurring   facebook  \n33   2017-04-18 19:55:11.208000    Recurring   facebook  \n37   2017-08-11 21:29:20.824000    Recurring   facebook  \n38   2017-07-19 17:47:04.128000    Recurring   facebook  \n39   2017-08-30 23:28:27.032000    Recurring   facebook  \n44   2017-07-19 23:04:42.032000    Recurring   facebook  \n49   2017-08-23 08:52:28.656000    Recurring   facebook  \n60   2017-07-07 11:43:41.952000    Recurring      naver  \n61   2017-07-26 22:42:42.384000    Recurring   facebook  \n73   2017-07-17 04:37:17.872000    Recurring   facebook  \n75   2017-08-22 20:13:37.016000    Recurring      naver  \n83   2017-06-08 03:53:28.752000    Recurring   facebook  \n84   2017-08-23 00:00:36.576000    Recurring   facebook  \n86   2017-08-29 16:55:52.064000    Recurring     others  \n90   2017-08-13 07:02:22.928000    Recurring   facebook  \n93   2017-08-04 22:56:42.200000    Recurring   facebook  \n95   2017-07-01 18:16:12.760000    Recurring   facebook  \n...                         ...          ...        ...  \n9929 2017-04-25 08:34:54.824000    Recurring     others  \n9930 2017-08-29 20:59:26.376000    Recurring   facebook  \n9932 2017-05-23 17:25:29.784000    Recurring     others  \n9937 2017-07-28 14:27:59.728000    Recurring   facebook  \n9939 2017-06-11 20:35:31.072000    Recurring   facebook  \n9942 2017-03-20 00:54:16.432000    Recurring   facebook  \n9943 2017-08-02 22:55:45.664001    Recurring   facebook  \n9945 2017-03-08 23:14:46.632000    Recurring   facebook  \n9946 2017-08-08 12:17:18.672000    Recurring   facebook  \n9948 2017-04-18 19:42:11.352000    Recurring     others  \n9951 2017-07-23 00:23:47.056000    Recurring   facebook  \n9953 2017-05-24 09:01:48.160000    Recurring     others  \n9954 2017-08-09 19:21:25.416000    Recurring   facebook  \n9957 2017-08-17 10:21:33.256000    Recurring   facebook  \n9963 2017-08-29 21:04:16.376000    Recurring   facebook  \n9964 2017-08-31 08:30:01.664000    Recurring   facebook  \n9965 2017-03-23 01:01:02.632000    Recurring   facebook  \n9967 2017-04-19 00:12:23.128000    Recurring   facebook  \n9970 2017-04-30 20:43:54.024000    Recurring     others  \n9972 2017-08-26 06:36:48.432000    Recurring   facebook  \n9983 2017-07-04 17:00:08.600000    Recurring   facebook  \n9984 2017-08-04 03:50:20.136000    Recurring   facebook  \n9988 2017-06-22 20:49:14.616000    Recurring  instagram  \n9991 2017-04-15 07:25:03.800000    Recurring   facebook  \n9992 2017-06-27 09:30:59.280000    Recurring   facebook  \n9994 2017-05-17 10:10:20.072000    Recurring     others  \n9995 2017-04-18 00:43:58.104000    Recurring   facebook  \n9997 2017-08-09 11:47:55.408000    Recurring   facebook  \n9998 2017-04-28 07:05:19.776000    Recurring   facebook  \n9999 2017-06-02 10:16:34.576000    Recurring     others  \n\n[4223 rows x 14 columns]",
            "text/html": "<div>\n<table border=\"1\" class=\"dataframe\">\n  <thead>\n    <tr style=\"text-align: right;\">\n      <th></th>\n      <th>Access Code</th>\n      <th>Name</th>\n      <th>Gender</th>\n      <th>Age</th>\n      <th>Height</th>\n      <th>Initial Weight</th>\n      <th>Lowest Weight</th>\n      <th>Target Weight</th>\n      <th>Product Name</th>\n      <th>Status</th>\n      <th>Price</th>\n      <th>Purchased At</th>\n      <th>Payment Type</th>\n      <th>Channel</th>\n    </tr>\n  </thead>\n  <tbody>\n    <tr>\n      <th>1</th>\n      <td>3GTN3S3B</td>\n      <td>허승준</td>\n      <td>MALE</td>\n      <td>26.0</td>\n      <td>176.0</td>\n      <td>70.0</td>\n      <td>NaN</td>\n      <td>65.000000</td>\n      <td>눔 체중감량 프로그램</td>\n      <td>completed</td>\n      <td>44780</td>\n      <td>2017-05-23 20:53:54.368000</td>\n      <td>Recurring</td>\n      <td>others</td>\n    </tr>\n    <tr>\n      <th>2</th>\n      <td>6B0IG276</td>\n      <td>이지민</td>\n      <td>FEMALE</td>\n      <td>23.0</td>\n      <td>171.0</td>\n      <td>98.0</td>\n      <td>NaN</td>\n      <td>91.140000</td>\n      <td>눔 체중감량 프로그램 (천원 체험)</td>\n      <td>completed</td>\n      <td>132000</td>\n      <td>2017-08-23 23:39:21.840000</td>\n      <td>Recurring</td>\n      <td>facebook</td>\n    </tr>\n    <tr>\n      <th>3</th>\n      <td>EMGRU2MO</td>\n      <td>장설윤</td>\n      <td>FEMALE</td>\n      <td>20.0</td>\n      <td>160.0</td>\n      <td>70.7</td>\n      <td>NaN</td>\n      <td>53.000000</td>\n      <td>눔 체중감량 프로그램 (천원 체험)</td>\n      <td>completed</td>\n      <td>112500</td>\n      <td>2017-08-28 20:18:22.824000</td>\n      <td>Recurring</td>\n      <td>naver</td>\n    </tr>\n    <tr>\n      <th>4</th>\n      <td>1ELG96TX</td>\n      <td>서성빈</td>\n      <td>FEMALE</td>\n      <td>28.0</td>\n      <td>165.0</td>\n      <td>55.5</td>\n      <td>NaN</td>\n      <td>51.615002</td>\n      <td>눔 체중감량 프로그램</td>\n      <td>completed</td>\n      <td>44780</td>\n      <td>2017-05-07 17:50:30.944000</td>\n      <td>Recurring</td>\n      <td>facebook</td>\n    </tr>\n    <tr>\n      <th>6</th>\n      <td>ERJUS7LV</td>\n      <td>장세현</td>\n      <td>FEMALE</td>\n      <td>41.0</td>\n      <td>160.0</td>\n      <td>54.1</td>\n      <td>NaN</td>\n      <td>49.570000</td>\n      <td>눔 체중감량 프로그램</td>\n      <td>cancelled</td>\n      <td>112500</td>\n      <td>2017-05-25 09:38:14.776000</td>\n      <td>Recurring</td>\n      <td>others</td>\n    </tr>\n    <tr>\n      <th>8</th>\n      <td>U9AELHAT</td>\n      <td>배소정</td>\n      <td>FEMALE</td>\n      <td>22.0</td>\n      <td>161.0</td>\n      <td>76.0</td>\n      <td>NaN</td>\n      <td>48.000000</td>\n      <td>눔 체중감량 프로그램 (천원 체험)</td>\n      <td>completed</td>\n      <td>112500</td>\n      <td>2017-08-09 15:24:28.296000</td>\n      <td>Recurring</td>\n      <td>facebook</td>\n    </tr>\n    <tr>\n      <th>11</th>\n      <td>WHA00T0L</td>\n      <td>임슬민</td>\n      <td>FEMALE</td>\n      <td>21.0</td>\n      <td>158.0</td>\n      <td>52.7</td>\n      <td>NaN</td>\n      <td>49.011000</td>\n      <td>눔 체중감량 프로그램 (천원 체험)</td>\n      <td>cancelled</td>\n      <td>112500</td>\n      <td>2017-06-13 09:40:59.264000</td>\n      <td>Recurring</td>\n      <td>facebook</td>\n    </tr>\n    <tr>\n      <th>14</th>\n      <td>7T5RYBLV</td>\n      <td>서대연</td>\n      <td>MALE</td>\n      <td>28.0</td>\n      <td>179.0</td>\n      <td>98.1</td>\n      <td>NaN</td>\n      <td>73.100000</td>\n      <td>눔 체중감량 프로그램</td>\n      <td>cancelled</td>\n      <td>112500</td>\n      <td>2017-05-18 14:03:06.000000</td>\n      <td>Recurring</td>\n      <td>direct</td>\n    </tr>\n    <tr>\n      <th>18</th>\n      <td>FJSTM98I</td>\n      <td>정지현</td>\n      <td>FEMALE</td>\n      <td>27.0</td>\n      <td>167.0</td>\n      <td>65.8</td>\n      <td>NaN</td>\n      <td>61.194000</td>\n      <td>눔 체중감량 프로그램 (천원 체험)</td>\n      <td>completed</td>\n      <td>112500</td>\n      <td>2017-07-25 14:14:20.144000</td>\n      <td>Recurring</td>\n      <td>facebook</td>\n    </tr>\n    <tr>\n      <th>21</th>\n      <td>Z6D4QC4N</td>\n      <td>양채솔</td>\n      <td>FEMALE</td>\n      <td>22.0</td>\n      <td>165.0</td>\n      <td>66.1</td>\n      <td>NaN</td>\n      <td>56.100000</td>\n      <td>눔 체중감량 프로그램 (천원 체험)</td>\n      <td>completed</td>\n      <td>112500</td>\n      <td>2017-08-09 02:51:00.120000</td>\n      <td>Recurring</td>\n      <td>facebook</td>\n    </tr>\n    <tr>\n      <th>23</th>\n      <td>8Z1PV3S9</td>\n      <td>한지아</td>\n      <td>FEMALE</td>\n      <td>35.0</td>\n      <td>163.0</td>\n      <td>57.0</td>\n      <td>NaN</td>\n      <td>49.000000</td>\n      <td>눔 체중감량 프로그램 (천원 체험)</td>\n      <td>refunded</td>\n      <td>112500</td>\n      <td>2017-08-31 16:56:38.624001</td>\n      <td>Recurring</td>\n      <td>facebook</td>\n    </tr>\n    <tr>\n      <th>26</th>\n      <td>PYEYV5F4</td>\n      <td>양지은</td>\n      <td>FEMALE</td>\n      <td>31.0</td>\n      <td>164.0</td>\n      <td>59.9</td>\n      <td>NaN</td>\n      <td>55.707001</td>\n      <td>눔 체중감량 프로그램 (천원 체험)</td>\n      <td>completed</td>\n      <td>112500</td>\n      <td>2017-08-23 11:56:39.432000</td>\n      <td>Recurring</td>\n      <td>facebook</td>\n    </tr>\n    <tr>\n      <th>30</th>\n      <td>L6HBLXR9</td>\n      <td>고지율</td>\n      <td>MALE</td>\n      <td>23.0</td>\n      <td>180.0</td>\n      <td>83.0</td>\n      <td>NaN</td>\n      <td>77.190000</td>\n      <td>눔 체중감량 프로그램</td>\n      <td>completed</td>\n      <td>112500</td>\n      <td>2017-05-02 00:06:31.904000</td>\n      <td>Recurring</td>\n      <td>google</td>\n    </tr>\n    <tr>\n      <th>31</th>\n      <td>71UFR10M</td>\n      <td>신서은</td>\n      <td>FEMALE</td>\n      <td>25.0</td>\n      <td>157.0</td>\n      <td>58.0</td>\n      <td>NaN</td>\n      <td>53.939999</td>\n      <td>눔 체중감량 프로그램 (천원 체험)</td>\n      <td>cancelled</td>\n      <td>112500</td>\n      <td>2017-07-26 14:09:27.848000</td>\n      <td>Recurring</td>\n      <td>facebook</td>\n    </tr>\n    <tr>\n      <th>33</th>\n      <td>SDB0JD2T</td>\n      <td>전지안</td>\n      <td>FEMALE</td>\n      <td>27.0</td>\n      <td>162.0</td>\n      <td>84.6</td>\n      <td>NaN</td>\n      <td>78.678001</td>\n      <td>눔 체중감량 프로그램</td>\n      <td>completed</td>\n      <td>112500</td>\n      <td>2017-04-18 19:55:11.208000</td>\n      <td>Recurring</td>\n      <td>facebook</td>\n    </tr>\n    <tr>\n      <th>37</th>\n      <td>W66XIBPR</td>\n      <td>손선이</td>\n      <td>FEMALE</td>\n      <td>37.0</td>\n      <td>158.0</td>\n      <td>69.7</td>\n      <td>NaN</td>\n      <td>64.820999</td>\n      <td>눔 체중감량 프로그램 (천원 체험)</td>\n      <td>completed</td>\n      <td>112500</td>\n      <td>2017-08-11 21:29:20.824000</td>\n      <td>Recurring</td>\n      <td>facebook</td>\n    </tr>\n    <tr>\n      <th>38</th>\n      <td>Y2EQ6I1Y</td>\n      <td>신지율</td>\n      <td>MALE</td>\n      <td>25.0</td>\n      <td>182.0</td>\n      <td>84.8</td>\n      <td>NaN</td>\n      <td>78.864010</td>\n      <td>눔 체중감량 프로그램 (천원 체험)</td>\n      <td>completed</td>\n      <td>112500</td>\n      <td>2017-07-19 17:47:04.128000</td>\n      <td>Recurring</td>\n      <td>facebook</td>\n    </tr>\n    <tr>\n      <th>39</th>\n      <td>F9MES5MW</td>\n      <td>최소현</td>\n      <td>NaN</td>\n      <td>NaN</td>\n      <td>NaN</td>\n      <td>NaN</td>\n      <td>NaN</td>\n      <td>NaN</td>\n      <td>눔 체중감량 프로그램 (천원 체험)</td>\n      <td>cancelled</td>\n      <td>112500</td>\n      <td>2017-08-30 23:28:27.032000</td>\n      <td>Recurring</td>\n      <td>facebook</td>\n    </tr>\n    <tr>\n      <th>44</th>\n      <td>J9ANAYK8</td>\n      <td>류승연</td>\n      <td>MALE</td>\n      <td>25.0</td>\n      <td>172.0</td>\n      <td>61.1</td>\n      <td>NaN</td>\n      <td>57.100000</td>\n      <td>눔 체중감량 프로그램 (천원 체험)</td>\n      <td>completed</td>\n      <td>68900</td>\n      <td>2017-07-19 23:04:42.032000</td>\n      <td>Recurring</td>\n      <td>facebook</td>\n    </tr>\n    <tr>\n      <th>49</th>\n      <td>467U7YNV</td>\n      <td>서성은</td>\n      <td>FEMALE</td>\n      <td>22.0</td>\n      <td>163.0</td>\n      <td>77.4</td>\n      <td>NaN</td>\n      <td>71.982002</td>\n      <td>눔 체중감량 프로그램 (천원 체험)</td>\n      <td>cancelled</td>\n      <td>112500</td>\n      <td>2017-08-23 08:52:28.656000</td>\n      <td>Recurring</td>\n      <td>facebook</td>\n    </tr>\n    <tr>\n      <th>60</th>\n      <td>D76BFB92</td>\n      <td>문소은</td>\n      <td>FEMALE</td>\n      <td>23.0</td>\n      <td>167.0</td>\n      <td>68.2</td>\n      <td>NaN</td>\n      <td>58.000000</td>\n      <td>눔 체중감량 프로그램 (천원 체험)</td>\n      <td>completed</td>\n      <td>112500</td>\n      <td>2017-07-07 11:43:41.952000</td>\n      <td>Recurring</td>\n      <td>naver</td>\n    </tr>\n    <tr>\n      <th>61</th>\n      <td>12GNEHGC</td>\n      <td>박초영</td>\n      <td>FEMALE</td>\n      <td>27.0</td>\n      <td>156.0</td>\n      <td>52.0</td>\n      <td>NaN</td>\n      <td>45.000000</td>\n      <td>눔 체중감량 프로그램 (천원 체험)</td>\n      <td>cancelled</td>\n      <td>112500</td>\n      <td>2017-07-26 22:42:42.384000</td>\n      <td>Recurring</td>\n      <td>facebook</td>\n    </tr>\n    <tr>\n      <th>73</th>\n      <td>0Y86CYOJ</td>\n      <td>박채민</td>\n      <td>FEMALE</td>\n      <td>26.0</td>\n      <td>156.0</td>\n      <td>79.7</td>\n      <td>NaN</td>\n      <td>74.120995</td>\n      <td>눔 체중감량 프로그램 (천원 체험)</td>\n      <td>completed</td>\n      <td>112500</td>\n      <td>2017-07-17 04:37:17.872000</td>\n      <td>Recurring</td>\n      <td>facebook</td>\n    </tr>\n    <tr>\n      <th>75</th>\n      <td>7N78AFKU</td>\n      <td>황선영</td>\n      <td>FEMALE</td>\n      <td>21.0</td>\n      <td>163.0</td>\n      <td>59.0</td>\n      <td>NaN</td>\n      <td>49.099998</td>\n      <td>눔 체중감량 프로그램 (천원 체험)</td>\n      <td>refunded</td>\n      <td>112500</td>\n      <td>2017-08-22 20:13:37.016000</td>\n      <td>Recurring</td>\n      <td>naver</td>\n    </tr>\n    <tr>\n      <th>83</th>\n      <td>DPTM3D32</td>\n      <td>한세빈</td>\n      <td>FEMALE</td>\n      <td>22.0</td>\n      <td>163.0</td>\n      <td>56.4</td>\n      <td>NaN</td>\n      <td>52.452000</td>\n      <td>눔 체중감량 프로그램 (천원 체험)</td>\n      <td>completed</td>\n      <td>112500</td>\n      <td>2017-06-08 03:53:28.752000</td>\n      <td>Recurring</td>\n      <td>facebook</td>\n    </tr>\n    <tr>\n      <th>84</th>\n      <td>OZYW94EK</td>\n      <td>윤수정</td>\n      <td>FEMALE</td>\n      <td>43.0</td>\n      <td>169.0</td>\n      <td>64.0</td>\n      <td>NaN</td>\n      <td>59.520000</td>\n      <td>눔 체중감량 프로그램 (천원 체험)</td>\n      <td>completed</td>\n      <td>112500</td>\n      <td>2017-08-23 00:00:36.576000</td>\n      <td>Recurring</td>\n      <td>facebook</td>\n    </tr>\n    <tr>\n      <th>86</th>\n      <td>KZ6G7E5B</td>\n      <td>한지후,지혁</td>\n      <td>MALE</td>\n      <td>35.0</td>\n      <td>181.0</td>\n      <td>92.0</td>\n      <td>NaN</td>\n      <td>72.000000</td>\n      <td>눔 체중감량 프로그램 (천원 체험)</td>\n      <td>completed</td>\n      <td>112500</td>\n      <td>2017-08-29 16:55:52.064000</td>\n      <td>Recurring</td>\n      <td>others</td>\n    </tr>\n    <tr>\n      <th>90</th>\n      <td>V910BN81</td>\n      <td>서서주</td>\n      <td>FEMALE</td>\n      <td>20.0</td>\n      <td>158.0</td>\n      <td>55.0</td>\n      <td>NaN</td>\n      <td>51.150002</td>\n      <td>눔 체중감량 프로그램 (천원 체험)</td>\n      <td>completed</td>\n      <td>68900</td>\n      <td>2017-08-13 07:02:22.928000</td>\n      <td>Recurring</td>\n      <td>facebook</td>\n    </tr>\n    <tr>\n      <th>93</th>\n      <td>7GW9N0CU</td>\n      <td>서서아</td>\n      <td>FEMALE</td>\n      <td>28.0</td>\n      <td>163.0</td>\n      <td>76.0</td>\n      <td>NaN</td>\n      <td>70.680000</td>\n      <td>눔 체중감량 프로그램 (천원 체험)</td>\n      <td>cancelled</td>\n      <td>112500</td>\n      <td>2017-08-04 22:56:42.200000</td>\n      <td>Recurring</td>\n      <td>facebook</td>\n    </tr>\n    <tr>\n      <th>95</th>\n      <td>N828TCZ8</td>\n      <td>오솔비</td>\n      <td>FEMALE</td>\n      <td>22.0</td>\n      <td>159.0</td>\n      <td>52.4</td>\n      <td>NaN</td>\n      <td>45.400000</td>\n      <td>눔 체중감량 프로그램 (천원 체험)</td>\n      <td>cancelled</td>\n      <td>112500</td>\n      <td>2017-07-01 18:16:12.760000</td>\n      <td>Recurring</td>\n      <td>facebook</td>\n    </tr>\n    <tr>\n      <th>...</th>\n      <td>...</td>\n      <td>...</td>\n      <td>...</td>\n      <td>...</td>\n      <td>...</td>\n      <td>...</td>\n      <td>...</td>\n      <td>...</td>\n      <td>...</td>\n      <td>...</td>\n      <td>...</td>\n      <td>...</td>\n      <td>...</td>\n      <td>...</td>\n    </tr>\n    <tr>\n      <th>9929</th>\n      <td>HHHVWFFF</td>\n      <td>안슬희</td>\n      <td>FEMALE</td>\n      <td>32.0</td>\n      <td>165.0</td>\n      <td>90.0</td>\n      <td>NaN</td>\n      <td>83.700000</td>\n      <td>눔 체중감량 프로그램</td>\n      <td>cancelled</td>\n      <td>112500</td>\n      <td>2017-04-25 08:34:54.824000</td>\n      <td>Recurring</td>\n      <td>others</td>\n    </tr>\n    <tr>\n      <th>9930</th>\n      <td>K5VE7VGA</td>\n      <td>문서빈</td>\n      <td>FEMALE</td>\n      <td>27.0</td>\n      <td>170.0</td>\n      <td>130.0</td>\n      <td>NaN</td>\n      <td>120.900000</td>\n      <td>눔 체중감량 프로그램 (천원 체험)</td>\n      <td>completed</td>\n      <td>112500</td>\n      <td>2017-08-29 20:59:26.376000</td>\n      <td>Recurring</td>\n      <td>facebook</td>\n    </tr>\n    <tr>\n      <th>9932</th>\n      <td>HJAYMMY2</td>\n      <td>최채정</td>\n      <td>FEMALE</td>\n      <td>28.0</td>\n      <td>155.0</td>\n      <td>57.0</td>\n      <td>NaN</td>\n      <td>53.010002</td>\n      <td>눔 체중감량 프로그램</td>\n      <td>cancelled</td>\n      <td>44780</td>\n      <td>2017-05-23 17:25:29.784000</td>\n      <td>Recurring</td>\n      <td>others</td>\n    </tr>\n    <tr>\n      <th>9937</th>\n      <td>2QH14F3K</td>\n      <td>허승예</td>\n      <td>NaN</td>\n      <td>NaN</td>\n      <td>NaN</td>\n      <td>NaN</td>\n      <td>NaN</td>\n      <td>NaN</td>\n      <td>눔 체중감량 프로그램 (천원 체험)</td>\n      <td>completed</td>\n      <td>112500</td>\n      <td>2017-07-28 14:27:59.728000</td>\n      <td>Recurring</td>\n      <td>facebook</td>\n    </tr>\n    <tr>\n      <th>9939</th>\n      <td>WJUMEIGK</td>\n      <td>한솔지</td>\n      <td>FEMALE</td>\n      <td>23.0</td>\n      <td>162.0</td>\n      <td>95.0</td>\n      <td>NaN</td>\n      <td>88.349998</td>\n      <td>눔 체중감량 프로그램 (천원 체험)</td>\n      <td>completed</td>\n      <td>118000</td>\n      <td>2017-06-11 20:35:31.072000</td>\n      <td>Recurring</td>\n      <td>facebook</td>\n    </tr>\n    <tr>\n      <th>9942</th>\n      <td>5OPESDHO</td>\n      <td>박솔은</td>\n      <td>FEMALE</td>\n      <td>31.0</td>\n      <td>163.0</td>\n      <td>82.6</td>\n      <td>NaN</td>\n      <td>76.818000</td>\n      <td>눔 체중감량 프로그램</td>\n      <td>cancelled</td>\n      <td>112500</td>\n      <td>2017-03-20 00:54:16.432000</td>\n      <td>Recurring</td>\n      <td>facebook</td>\n    </tr>\n    <tr>\n      <th>9943</th>\n      <td>5VQ2TLF3</td>\n      <td>오세희</td>\n      <td>FEMALE</td>\n      <td>26.0</td>\n      <td>166.0</td>\n      <td>63.7</td>\n      <td>NaN</td>\n      <td>59.241000</td>\n      <td>눔 체중감량 프로그램 (천원 체험)</td>\n      <td>cancelled</td>\n      <td>112500</td>\n      <td>2017-08-02 22:55:45.664001</td>\n      <td>Recurring</td>\n      <td>facebook</td>\n    </tr>\n    <tr>\n      <th>9945</th>\n      <td>ZC0NT0TJ</td>\n      <td>이솔지</td>\n      <td>FEMALE</td>\n      <td>28.0</td>\n      <td>165.0</td>\n      <td>63.0</td>\n      <td>NaN</td>\n      <td>53.000000</td>\n      <td>눔 체중감량 프로그램</td>\n      <td>completed</td>\n      <td>112500</td>\n      <td>2017-03-08 23:14:46.632000</td>\n      <td>Recurring</td>\n      <td>facebook</td>\n    </tr>\n    <tr>\n      <th>9946</th>\n      <td>LL0T1BXV</td>\n      <td>오성민</td>\n      <td>MALE</td>\n      <td>43.0</td>\n      <td>186.0</td>\n      <td>78.1</td>\n      <td>NaN</td>\n      <td>72.633000</td>\n      <td>눔 체중감량 프로그램 (천원 체험)</td>\n      <td>refunded</td>\n      <td>112500</td>\n      <td>2017-08-08 12:17:18.672000</td>\n      <td>Recurring</td>\n      <td>facebook</td>\n    </tr>\n    <tr>\n      <th>9948</th>\n      <td>TSOR30GP</td>\n      <td>황채연</td>\n      <td>FEMALE</td>\n      <td>21.0</td>\n      <td>158.0</td>\n      <td>55.0</td>\n      <td>NaN</td>\n      <td>40.000000</td>\n      <td>눔 체중감량 프로그램</td>\n      <td>completed</td>\n      <td>112500</td>\n      <td>2017-04-18 19:42:11.352000</td>\n      <td>Recurring</td>\n      <td>others</td>\n    </tr>\n    <tr>\n      <th>9951</th>\n      <td>PQ0WN8V7</td>\n      <td>권선정</td>\n      <td>FEMALE</td>\n      <td>24.0</td>\n      <td>153.0</td>\n      <td>56.1</td>\n      <td>NaN</td>\n      <td>53.099998</td>\n      <td>눔 체중감량 프로그램 (천원 체험)</td>\n      <td>completed</td>\n      <td>112500</td>\n      <td>2017-07-23 00:23:47.056000</td>\n      <td>Recurring</td>\n      <td>facebook</td>\n    </tr>\n    <tr>\n      <th>9953</th>\n      <td>UHZN0GMZ</td>\n      <td>홍슬윤</td>\n      <td>FEMALE</td>\n      <td>31.0</td>\n      <td>157.0</td>\n      <td>53.0</td>\n      <td>NaN</td>\n      <td>49.290000</td>\n      <td>눔 체중감량 프로그램</td>\n      <td>cancelled</td>\n      <td>44780</td>\n      <td>2017-05-24 09:01:48.160000</td>\n      <td>Recurring</td>\n      <td>others</td>\n    </tr>\n    <tr>\n      <th>9954</th>\n      <td>SSYPVCPG</td>\n      <td>신지아</td>\n      <td>FEMALE</td>\n      <td>32.0</td>\n      <td>163.0</td>\n      <td>68.1</td>\n      <td>NaN</td>\n      <td>63.333000</td>\n      <td>눔 체중감량 프로그램 (천원 체험)</td>\n      <td>completed</td>\n      <td>112500</td>\n      <td>2017-08-09 19:21:25.416000</td>\n      <td>Recurring</td>\n      <td>facebook</td>\n    </tr>\n    <tr>\n      <th>9957</th>\n      <td>KJS39ODF</td>\n      <td>안채민</td>\n      <td>FEMALE</td>\n      <td>29.0</td>\n      <td>157.0</td>\n      <td>51.0</td>\n      <td>NaN</td>\n      <td>47.430000</td>\n      <td>눔 체중감량 프로그램 (천원 체험)</td>\n      <td>cancelled</td>\n      <td>112500</td>\n      <td>2017-08-17 10:21:33.256000</td>\n      <td>Recurring</td>\n      <td>facebook</td>\n    </tr>\n    <tr>\n      <th>9963</th>\n      <td>7SQUMY2F</td>\n      <td>양지안</td>\n      <td>FEMALE</td>\n      <td>27.0</td>\n      <td>170.0</td>\n      <td>130.0</td>\n      <td>NaN</td>\n      <td>120.900000</td>\n      <td>눔 체중감량 프로그램 (천원 체험)</td>\n      <td>completed</td>\n      <td>112500</td>\n      <td>2017-08-29 21:04:16.376000</td>\n      <td>Recurring</td>\n      <td>facebook</td>\n    </tr>\n    <tr>\n      <th>9964</th>\n      <td>IG6FCEAG</td>\n      <td>권세연</td>\n      <td>FEMALE</td>\n      <td>29.0</td>\n      <td>158.0</td>\n      <td>61.2</td>\n      <td>NaN</td>\n      <td>56.916000</td>\n      <td>눔 체중감량 프로그램 (천원 체험)</td>\n      <td>completed</td>\n      <td>112500</td>\n      <td>2017-08-31 08:30:01.664000</td>\n      <td>Recurring</td>\n      <td>facebook</td>\n    </tr>\n    <tr>\n      <th>9965</th>\n      <td>G944T1SR</td>\n      <td>서서애</td>\n      <td>FEMALE</td>\n      <td>44.0</td>\n      <td>171.0</td>\n      <td>65.0</td>\n      <td>NaN</td>\n      <td>56.000000</td>\n      <td>눔 체중감량 프로그램</td>\n      <td>completed</td>\n      <td>112500</td>\n      <td>2017-03-23 01:01:02.632000</td>\n      <td>Recurring</td>\n      <td>facebook</td>\n    </tr>\n    <tr>\n      <th>9967</th>\n      <td>GBP8SLKB</td>\n      <td>황지선</td>\n      <td>FEMALE</td>\n      <td>30.0</td>\n      <td>163.0</td>\n      <td>59.0</td>\n      <td>NaN</td>\n      <td>54.870000</td>\n      <td>눔 체중감량 프로그램</td>\n      <td>cancelled</td>\n      <td>112500</td>\n      <td>2017-04-19 00:12:23.128000</td>\n      <td>Recurring</td>\n      <td>facebook</td>\n    </tr>\n    <tr>\n      <th>9970</th>\n      <td>8J0TNHPK</td>\n      <td>송소빈</td>\n      <td>NaN</td>\n      <td>NaN</td>\n      <td>NaN</td>\n      <td>NaN</td>\n      <td>NaN</td>\n      <td>NaN</td>\n      <td>눔 체중감량 프로그램</td>\n      <td>cancelled</td>\n      <td>112500</td>\n      <td>2017-04-30 20:43:54.024000</td>\n      <td>Recurring</td>\n      <td>others</td>\n    </tr>\n    <tr>\n      <th>9972</th>\n      <td>V3GWI0ON</td>\n      <td>임수윤</td>\n      <td>NaN</td>\n      <td>NaN</td>\n      <td>NaN</td>\n      <td>NaN</td>\n      <td>NaN</td>\n      <td>NaN</td>\n      <td>눔 체중감량 프로그램 (천원 체험)</td>\n      <td>cancelled</td>\n      <td>132000</td>\n      <td>2017-08-26 06:36:48.432000</td>\n      <td>Recurring</td>\n      <td>facebook</td>\n    </tr>\n    <tr>\n      <th>9983</th>\n      <td>5Y4V31M2</td>\n      <td>전서우</td>\n      <td>FEMALE</td>\n      <td>23.0</td>\n      <td>168.0</td>\n      <td>56.2</td>\n      <td>NaN</td>\n      <td>48.000000</td>\n      <td>눔 체중감량 프로그램 (천원 체험)</td>\n      <td>cancelled</td>\n      <td>112500</td>\n      <td>2017-07-04 17:00:08.600000</td>\n      <td>Recurring</td>\n      <td>facebook</td>\n    </tr>\n    <tr>\n      <th>9984</th>\n      <td>6FZ5OL4K</td>\n      <td>이 시민</td>\n      <td>MALE</td>\n      <td>19.0</td>\n      <td>176.0</td>\n      <td>78.1</td>\n      <td>NaN</td>\n      <td>72.633000</td>\n      <td>눔 체중감량 프로그램 (천원 체험)</td>\n      <td>completed</td>\n      <td>112500</td>\n      <td>2017-08-04 03:50:20.136000</td>\n      <td>Recurring</td>\n      <td>facebook</td>\n    </tr>\n    <tr>\n      <th>9988</th>\n      <td>3W9NJ7A5</td>\n      <td>최승예</td>\n      <td>FEMALE</td>\n      <td>30.0</td>\n      <td>160.0</td>\n      <td>59.5</td>\n      <td>NaN</td>\n      <td>52.500000</td>\n      <td>눔 체중감량 프로그램 (천원 체험)</td>\n      <td>cancelled</td>\n      <td>112500</td>\n      <td>2017-06-22 20:49:14.616000</td>\n      <td>Recurring</td>\n      <td>instagram</td>\n    </tr>\n    <tr>\n      <th>9991</th>\n      <td>IJJ8KVC4</td>\n      <td>전지은</td>\n      <td>FEMALE</td>\n      <td>23.0</td>\n      <td>163.0</td>\n      <td>57.3</td>\n      <td>NaN</td>\n      <td>50.000000</td>\n      <td>눔 체중감량 프로그램</td>\n      <td>cancelled</td>\n      <td>112500</td>\n      <td>2017-04-15 07:25:03.800000</td>\n      <td>Recurring</td>\n      <td>facebook</td>\n    </tr>\n    <tr>\n      <th>9992</th>\n      <td>8EXK7GNP</td>\n      <td>조서우</td>\n      <td>FEMALE</td>\n      <td>22.0</td>\n      <td>161.0</td>\n      <td>58.0</td>\n      <td>NaN</td>\n      <td>48.000000</td>\n      <td>눔 체중감량 프로그램 (천원 체험)</td>\n      <td>cancelled</td>\n      <td>112500</td>\n      <td>2017-06-27 09:30:59.280000</td>\n      <td>Recurring</td>\n      <td>facebook</td>\n    </tr>\n    <tr>\n      <th>9994</th>\n      <td>A8Z5J765</td>\n      <td>백성원</td>\n      <td>MALE</td>\n      <td>27.0</td>\n      <td>175.0</td>\n      <td>78.5</td>\n      <td>NaN</td>\n      <td>70.500000</td>\n      <td>눔 체중감량 프로그램</td>\n      <td>completed</td>\n      <td>112500</td>\n      <td>2017-05-17 10:10:20.072000</td>\n      <td>Recurring</td>\n      <td>others</td>\n    </tr>\n    <tr>\n      <th>9995</th>\n      <td>118AFCQ9</td>\n      <td>최서원</td>\n      <td>FEMALE</td>\n      <td>31.0</td>\n      <td>160.0</td>\n      <td>60.0</td>\n      <td>NaN</td>\n      <td>52.000000</td>\n      <td>눔 체중감량 프로그램</td>\n      <td>completed</td>\n      <td>112500</td>\n      <td>2017-04-18 00:43:58.104000</td>\n      <td>Recurring</td>\n      <td>facebook</td>\n    </tr>\n    <tr>\n      <th>9997</th>\n      <td>VWJ4NLZY</td>\n      <td>정선희</td>\n      <td>FEMALE</td>\n      <td>28.0</td>\n      <td>166.0</td>\n      <td>69.0</td>\n      <td>NaN</td>\n      <td>54.000000</td>\n      <td>눔 체중감량 프로그램 (천원 체험)</td>\n      <td>completed</td>\n      <td>112500</td>\n      <td>2017-08-09 11:47:55.408000</td>\n      <td>Recurring</td>\n      <td>facebook</td>\n    </tr>\n    <tr>\n      <th>9998</th>\n      <td>NJ2PR967</td>\n      <td>김유찬</td>\n      <td>MALE</td>\n      <td>28.0</td>\n      <td>188.0</td>\n      <td>110.0</td>\n      <td>NaN</td>\n      <td>80.000000</td>\n      <td>눔 체중감량 프로그램</td>\n      <td>cancelled</td>\n      <td>112500</td>\n      <td>2017-04-28 07:05:19.776000</td>\n      <td>Recurring</td>\n      <td>facebook</td>\n    </tr>\n    <tr>\n      <th>9999</th>\n      <td>KVX64CPM</td>\n      <td>임수빈</td>\n      <td>FEMALE</td>\n      <td>26.0</td>\n      <td>167.0</td>\n      <td>57.5</td>\n      <td>NaN</td>\n      <td>50.500000</td>\n      <td>눔 체중감량 프로그램 (천원 체험)</td>\n      <td>cancelled</td>\n      <td>112500</td>\n      <td>2017-06-02 10:16:34.576000</td>\n      <td>Recurring</td>\n      <td>others</td>\n    </tr>\n  </tbody>\n</table>\n<p>4223 rows × 14 columns</p>\n</div>"
          },
          "metadata": {}
        }
      ]
    },
    {
      "metadata": {
        "id": "5Q9OvkO5kX3L",
        "colab_type": "code",
        "colab": {
          "base_uri": "https://localhost:8080/",
          "height": 374
        },
        "outputId": "3625c5f4-bddf-41ab-9dad-bf1324ad614f",
        "trusted": true
      },
      "cell_type": "code",
      "source": "raw_data.loc[raw_data['Lowest Weight'].isnull() == True].info()",
      "execution_count": 163,
      "outputs": [
        {
          "output_type": "stream",
          "text": "<class 'pandas.core.frame.DataFrame'>\nInt64Index: 4223 entries, 1 to 9999\nData columns (total 14 columns):\nAccess Code       4223 non-null object\nName              4223 non-null object\nGender            4094 non-null object\nAge               4094 non-null float64\nHeight            4094 non-null float64\nInitial Weight    4094 non-null float64\nLowest Weight     0 non-null float64\nTarget Weight     4094 non-null float64\nProduct Name      4223 non-null object\nStatus            4223 non-null object\nPrice             4223 non-null int64\nPurchased At      4223 non-null datetime64[ns]\nPayment Type      4223 non-null object\nChannel           4223 non-null object\ndtypes: datetime64[ns](1), float64(5), int64(1), object(7)\nmemory usage: 494.9+ KB\n",
          "name": "stdout"
        }
      ]
    },
    {
      "metadata": {
        "id": "LNYlOL5s7KFX",
        "colab_type": "code",
        "outputId": "9de9e2db-3ce2-4d90-87e1-c7ca9a99d63f",
        "colab": {
          "base_uri": "https://localhost:8080/",
          "height": 34
        },
        "trusted": true
      },
      "cell_type": "code",
      "source": "c1 = raw_data['Gender'].isnull()\nc2 = raw_data['Age'].isnull()\nc3 = raw_data['Height'].isnull()\nc4 = raw_data['Initial Weight'].isnull()\nc5 = raw_data['Target Weight'].isnull()\n\n(c1&c2&c3&c4&c5).sum()",
      "execution_count": 164,
      "outputs": [
        {
          "output_type": "execute_result",
          "execution_count": 164,
          "data": {
            "text/plain": "131"
          },
          "metadata": {}
        }
      ]
    },
    {
      "metadata": {
        "id": "-hhkYvi37KFZ",
        "colab_type": "text"
      },
      "cell_type": "markdown",
      "source": "**Conclusion** : Gender, Age, Height, Initial Weight, Target Weight 컬럼은 동시에 입력이 제대로 처리되지 않았다. 사용자가 서비스에 가입할 때 입력하는 데이터로써 이 과정에서 데이터 입력에 문제가 있었다고 추정한다."
    },
    {
      "metadata": {
        "id": "Otu5s4GgnBIg",
        "colab_type": "code",
        "colab": {},
        "trusted": true
      },
      "cell_type": "code",
      "source": "url_coach = 'https://raw.githubusercontent.com/dsw2xxx/dss-asgmt-noom/master/datasets/noom_coach.csv'",
      "execution_count": 165,
      "outputs": []
    },
    {
      "metadata": {
        "id": "1FeHwiqCm9Xd",
        "colab_type": "code",
        "colab": {
          "base_uri": "https://localhost:8080/",
          "height": 287
        },
        "outputId": "250ae4d5-bb9e-442e-cff8-915e45b5ce60",
        "trusted": true
      },
      "cell_type": "code",
      "source": "raw_coach = pd.read_csv(url_coach)\n\nprint(raw_coach.shape)\nraw_coach.head()",
      "execution_count": 166,
      "outputs": [
        {
          "output_type": "stream",
          "text": "(10000, 101)\n",
          "name": "stdout"
        },
        {
          "output_type": "execute_result",
          "execution_count": 166,
          "data": {
            "text/plain": "  Access Code  정은오 코치(VEV4PGJB)  오승혁 코치(VENPKBP9)  조소은 코치(D0WASBXN)  \\\n0    Y9RY2VSI                 0                 0                 0   \n1    3GTN3S3B                 0                 0                 0   \n2    6B0IG276                 0                 0                 0   \n3    EMGRU2MO                 0                 0                 0   \n4    1ELG96TX                 0                 0                 0   \n\n   고영재 코치(C91AVNGB)  조수민 코치(OBCAO3W0)  강채아 코치(WH2NIKCO)  황다훈 코치(1I6IWURH)  \\\n0                 0                 0                 0                 0   \n1                 0                 0                 0                 0   \n2                 0                 0                 0                 0   \n3                 0                 0                 0                 1   \n4                 0                 0                 0                 0   \n\n   백슬은 코치(228BFB50)  유채우 코치(IW53Y9AW)  송지선 코치(WL0877P7)  허성원 코치(9124O1IH)  \\\n0                 0                 0                 0                 0   \n1                 0                 0                 0                 0   \n2                 0                 0                 0                 0   \n3                 0                 0                 0                 0   \n4                 0                 0                 0                 0   \n\n   최서율 코치(UVZALFE3)  윤채윤 코치(U95EGIDM)  허슬지 코치(DWVG5IFL)  김슬민 코치(CWI0ABRI)  \\\n0                 0                 0                 0                 0   \n1                 0                 0                 0                 0   \n2                 0                 0                 0                 0   \n3                 0                 0                 0                 0   \n4                 0                 0                 0                 0   \n\n   정동인 코치(UQN9899Z)  오시현 코치(7XM3L93F)  김서은 코치(FOT4SH4F)  문선아 코치(W5AZL2WT)  \\\n0                 0                 0                 0                 0   \n1                 0                 0                 0                 0   \n2                 0                 0                 0                 0   \n3                 0                 0                 0                 0   \n4                 0                 0                 0                 0   \n\n   김윤 채 코치(COZ180VA)  양서율 코치(A2A98OA6)  권슬영 코치(E3GD4106)  박성현 코치(JKKV62JR)  \\\n0                  0                 0                 0                 0   \n1                  0                 0                 0                 0   \n2                  0                 0                 0                 0   \n3                  0                 0                 0                 0   \n4                  0                 0                 0                 0   \n\n   조설영 코치(U7L98DAO)  백세원 코치(2Z1S5CYM)  조지예 코치(ZA6B8Y4I)  황설연 코치(RJEZWP8M)  \\\n0                 0                 0                 0                 0   \n1                 0                 0                 0                 0   \n2                 0                 0                 0                 0   \n3                 0                 0                 0                 0   \n4                 0                 0                 0                 0   \n\n   윤도원 코치(IOVT84RW)  권소민 코치(OM3X0HPF)  손성아 코치(DE2CQ3UB)  문채혁 코치(9JP9WCLH)  \\\n0                 0                 0                 0                 0   \n1                 0                 0                 0                 0   \n2                 0                 0                 0                 0   \n3                 0                 0                 0                 0   \n4                 0                 0                 0                 0   \n\n   신채솔 코치(01CM47G7)  윤준호 코치(RGSJNWC1)  황시준 코치(M7EJJXFT)  배슬미 코치(ZT7MO305)  \\\n0                 0                 0                 0                 0   \n1                 0                 0                 0                 0   \n2                 0                 0                 0                 0   \n3                 0                 0                 0                 0   \n4                 0                 0                 0                 0   \n\n   허서빈 코치(AKR0QZ53)  허예찬 코치(2F23UZOK)  권윤후 코치(2JNSCXG9)  백세민 코치(P770M0WG)  \\\n0                 0                 0                 0                 0   \n1                 0                 0                 0                 0   \n2                 0                 0                 0                 0   \n3                 0                 0                 0                 0   \n4                 0                 0                 0                 0   \n\n   정효준 코치(W9MLRQ03)  송슬희 코치(UXFNB9P9)  정효성 코치(E1RQ3HCM)  오시혁 코치(6NJXI005)  \\\n0                 0                 0                 0                 0   \n1                 0                 0                 0                 0   \n2                 0                 0                 0                 0   \n3                 0                 0                 0                 0   \n4                 0                 0                 0                 0   \n\n   오동완 코치(0O48DQCH)  임슬지 코치(TXKB5IPL)  조서영 코치(0VG1N1M4)  박성민 코치(Z3EDAX7O)  \\\n0                 0                 0                 0                 0   \n1                 0                 0                 0                 0   \n2                 0                 0                 0                 0   \n3                 0                 0                 0                 0   \n4                 0                 0                 0                 0   \n\n   최이훈 코치(F9BXHUIW)  신차민 코치(BXQNFYSE)        ...         조우찬 코치(WWN531JQ)  \\\n0                 0                 0        ...                        0   \n1                 0                 0        ...                        0   \n2                 0                 0        ...                        0   \n3                 0                 0        ...                        0   \n4                 0                 0        ...                        0   \n\n   김찬혁 코치(ZPKK20QU)  배솔윤 코치(WC0AC6ME)  송지안 코치(2MNIJN3F)  손채아 코치(BL3GH0DR)  \\\n0                 0                 0                 0                 0   \n1                 0                 0                 0                 0   \n2                 0                 0                 0                 0   \n3                 0                 0                 0                 0   \n4                 0                 0                 0                 0   \n\n   안성은 코치(Z58HLXF1)  한동한 코치(TSFSQH0A)  황소영 코치(91YZ8NY0)  백설희 코치(EAIJXNHP)  \\\n0                 0                 0                 0                 0   \n1                 0                 0                 0                 0   \n2                 0                 0                 0                 0   \n3                 0                 0                 0                 0   \n4                 0                 0                 0                 0   \n\n   문세희 코치(7NQPBZK3)  황재우 코치(YIFMV1GQ)  임슬민 코치(GWF6MDWP)  박도영 코치(I4KVQ5G0)  \\\n0                 0                 0                 0                 0   \n1                 0                 0                 0                 0   \n2                 0                 0                 0                 0   \n3                 0                 0                 0                 0   \n4                 0                 0                 0                 0   \n\n   허수연 코치(Z6YFPL34)  허주원 코치(71T6JNK0)  이지예 코치(Z77MI98E)  장지효 코치(XBJH0VO3)  \\\n0                 0                 0                 0                 0   \n1                 0                 2                 0                 0   \n2                 0                 0                 0                 0   \n3                 0                 0                 0                 0   \n4                 1                 0                 0                 0   \n\n   신수연 코치(4274HJ8M)  안채윤 코치(IAYRGMJ2)  김윤규 코치(E7BBXJHO)  오수진 코치(9ZKGH8EO)  \\\n0                 0                 0                 0                 0   \n1                 0                 0                 0                 0   \n2                 0                 0                 0                 0   \n3                 0                 0                 0                 0   \n4                 0                 0                 0                 0   \n\n   박서연 코치(5NXNMBCN)  전지완 코치(P6QG38DS)  백채훈 코치(89CN5XHA)  백은성 코치(WWFBXFX6)  \\\n0                 0                 0                 0                 0   \n1                 0                 0                 0                 0   \n2                 0                 0                 0                 0   \n3                 0                 0                 0                 0   \n4                 0                 0                 0                 0   \n\n   문소윤 코치(2WDVTB40)  한동예 코치(OD8IV4Q5)  권시윤 코치(4MEMXAVM)  조초연 코치(3JBE9GKO)  \\\n0                 0                 0                 0                 0   \n1                 0                 0                 2                 0   \n2                 0                 0                 0                 0   \n3                 0                 0                 0                 0   \n4                 0                 0                 0                 0   \n\n   조수아 코치(V5CSCQ45)  강지희 코치(NOEP7X8B)  문승혁 코치(6LHXIU5N)  박성은 코치(4KO70A9P)  \\\n0                 0                 0                 0                 0   \n1                 0                 0                 0                 0   \n2                 0                 0                 0                 0   \n3                 0                 0                 0                 0   \n4                 0                 0                 0                 0   \n\n   문선희 코치(NTELEEEO)  강은우 코치(EJIHL7OE)  장승희 코치(85BWE3V1)  고수이 코치(NKHXTMRU)  \\\n0                 0                 0                 0                 0   \n1                 0                 0                 0                 0   \n2                 0                 0                 0                 0   \n3                 0                 0                 0                 0   \n4                 0                 0                 0                 0   \n\n   전지현 코치(SQHB3H66)  손수연 코치(Z5GQG6SI)  신성빈 코치(7CIDQT0X)  오초빈 코치(A3WOLAQM)  \\\n0                 0                 0                 0                 0   \n1                 0                 0                 0                 0   \n2                 0                 0                 0                 0   \n3                 0                 0                 0                 0   \n4                 0                 0                 0                 0   \n\n   서수정 코치(F36LORFC)  정서율 코치(LX1G7EMD)  고우재 코치(SKNL9Z4P)  문한규 코치(OU1WVDGA)  \\\n0                 0                 0                 1                 0   \n1                 0                 0                 0                 1   \n2                 0                 0                 0                 0   \n3                 0                 0                 0                 0   \n4                 0                 0                 0                 0   \n\n   황세안 코치(3QUBQAVE)  홍성은 코치(2I3QJQ5O)  고성은 코치(34T7XPYR)  백한율 코치(HPWAN8R0)  \\\n0                 0                 0                 0                 0   \n1                 0                 0                 0                 0   \n2                 0                 0                 0                 0   \n3                 0                 0                 0                 0   \n4                 0                 0                 0                 0   \n\n   안슬은 코치(QAVWJSZ1)  \n0                 0  \n1                 0  \n2                 0  \n3                 0  \n4                 0  \n\n[5 rows x 101 columns]",
            "text/html": "<div>\n<table border=\"1\" class=\"dataframe\">\n  <thead>\n    <tr style=\"text-align: right;\">\n      <th></th>\n      <th>Access Code</th>\n      <th>정은오 코치(VEV4PGJB)</th>\n      <th>오승혁 코치(VENPKBP9)</th>\n      <th>조소은 코치(D0WASBXN)</th>\n      <th>고영재 코치(C91AVNGB)</th>\n      <th>조수민 코치(OBCAO3W0)</th>\n      <th>강채아 코치(WH2NIKCO)</th>\n      <th>황다훈 코치(1I6IWURH)</th>\n      <th>백슬은 코치(228BFB50)</th>\n      <th>유채우 코치(IW53Y9AW)</th>\n      <th>송지선 코치(WL0877P7)</th>\n      <th>허성원 코치(9124O1IH)</th>\n      <th>최서율 코치(UVZALFE3)</th>\n      <th>윤채윤 코치(U95EGIDM)</th>\n      <th>허슬지 코치(DWVG5IFL)</th>\n      <th>김슬민 코치(CWI0ABRI)</th>\n      <th>정동인 코치(UQN9899Z)</th>\n      <th>오시현 코치(7XM3L93F)</th>\n      <th>김서은 코치(FOT4SH4F)</th>\n      <th>문선아 코치(W5AZL2WT)</th>\n      <th>김윤 채 코치(COZ180VA)</th>\n      <th>양서율 코치(A2A98OA6)</th>\n      <th>권슬영 코치(E3GD4106)</th>\n      <th>박성현 코치(JKKV62JR)</th>\n      <th>조설영 코치(U7L98DAO)</th>\n      <th>백세원 코치(2Z1S5CYM)</th>\n      <th>조지예 코치(ZA6B8Y4I)</th>\n      <th>황설연 코치(RJEZWP8M)</th>\n      <th>윤도원 코치(IOVT84RW)</th>\n      <th>권소민 코치(OM3X0HPF)</th>\n      <th>손성아 코치(DE2CQ3UB)</th>\n      <th>문채혁 코치(9JP9WCLH)</th>\n      <th>신채솔 코치(01CM47G7)</th>\n      <th>윤준호 코치(RGSJNWC1)</th>\n      <th>황시준 코치(M7EJJXFT)</th>\n      <th>배슬미 코치(ZT7MO305)</th>\n      <th>허서빈 코치(AKR0QZ53)</th>\n      <th>허예찬 코치(2F23UZOK)</th>\n      <th>권윤후 코치(2JNSCXG9)</th>\n      <th>백세민 코치(P770M0WG)</th>\n      <th>정효준 코치(W9MLRQ03)</th>\n      <th>송슬희 코치(UXFNB9P9)</th>\n      <th>정효성 코치(E1RQ3HCM)</th>\n      <th>오시혁 코치(6NJXI005)</th>\n      <th>오동완 코치(0O48DQCH)</th>\n      <th>임슬지 코치(TXKB5IPL)</th>\n      <th>조서영 코치(0VG1N1M4)</th>\n      <th>박성민 코치(Z3EDAX7O)</th>\n      <th>최이훈 코치(F9BXHUIW)</th>\n      <th>신차민 코치(BXQNFYSE)</th>\n      <th>...</th>\n      <th>조우찬 코치(WWN531JQ)</th>\n      <th>김찬혁 코치(ZPKK20QU)</th>\n      <th>배솔윤 코치(WC0AC6ME)</th>\n      <th>송지안 코치(2MNIJN3F)</th>\n      <th>손채아 코치(BL3GH0DR)</th>\n      <th>안성은 코치(Z58HLXF1)</th>\n      <th>한동한 코치(TSFSQH0A)</th>\n      <th>황소영 코치(91YZ8NY0)</th>\n      <th>백설희 코치(EAIJXNHP)</th>\n      <th>문세희 코치(7NQPBZK3)</th>\n      <th>황재우 코치(YIFMV1GQ)</th>\n      <th>임슬민 코치(GWF6MDWP)</th>\n      <th>박도영 코치(I4KVQ5G0)</th>\n      <th>허수연 코치(Z6YFPL34)</th>\n      <th>허주원 코치(71T6JNK0)</th>\n      <th>이지예 코치(Z77MI98E)</th>\n      <th>장지효 코치(XBJH0VO3)</th>\n      <th>신수연 코치(4274HJ8M)</th>\n      <th>안채윤 코치(IAYRGMJ2)</th>\n      <th>김윤규 코치(E7BBXJHO)</th>\n      <th>오수진 코치(9ZKGH8EO)</th>\n      <th>박서연 코치(5NXNMBCN)</th>\n      <th>전지완 코치(P6QG38DS)</th>\n      <th>백채훈 코치(89CN5XHA)</th>\n      <th>백은성 코치(WWFBXFX6)</th>\n      <th>문소윤 코치(2WDVTB40)</th>\n      <th>한동예 코치(OD8IV4Q5)</th>\n      <th>권시윤 코치(4MEMXAVM)</th>\n      <th>조초연 코치(3JBE9GKO)</th>\n      <th>조수아 코치(V5CSCQ45)</th>\n      <th>강지희 코치(NOEP7X8B)</th>\n      <th>문승혁 코치(6LHXIU5N)</th>\n      <th>박성은 코치(4KO70A9P)</th>\n      <th>문선희 코치(NTELEEEO)</th>\n      <th>강은우 코치(EJIHL7OE)</th>\n      <th>장승희 코치(85BWE3V1)</th>\n      <th>고수이 코치(NKHXTMRU)</th>\n      <th>전지현 코치(SQHB3H66)</th>\n      <th>손수연 코치(Z5GQG6SI)</th>\n      <th>신성빈 코치(7CIDQT0X)</th>\n      <th>오초빈 코치(A3WOLAQM)</th>\n      <th>서수정 코치(F36LORFC)</th>\n      <th>정서율 코치(LX1G7EMD)</th>\n      <th>고우재 코치(SKNL9Z4P)</th>\n      <th>문한규 코치(OU1WVDGA)</th>\n      <th>황세안 코치(3QUBQAVE)</th>\n      <th>홍성은 코치(2I3QJQ5O)</th>\n      <th>고성은 코치(34T7XPYR)</th>\n      <th>백한율 코치(HPWAN8R0)</th>\n      <th>안슬은 코치(QAVWJSZ1)</th>\n    </tr>\n  </thead>\n  <tbody>\n    <tr>\n      <th>0</th>\n      <td>Y9RY2VSI</td>\n      <td>0</td>\n      <td>0</td>\n      <td>0</td>\n      <td>0</td>\n      <td>0</td>\n      <td>0</td>\n      <td>0</td>\n      <td>0</td>\n      <td>0</td>\n      <td>0</td>\n      <td>0</td>\n      <td>0</td>\n      <td>0</td>\n      <td>0</td>\n      <td>0</td>\n      <td>0</td>\n      <td>0</td>\n      <td>0</td>\n      <td>0</td>\n      <td>0</td>\n      <td>0</td>\n      <td>0</td>\n      <td>0</td>\n      <td>0</td>\n      <td>0</td>\n      <td>0</td>\n      <td>0</td>\n      <td>0</td>\n      <td>0</td>\n      <td>0</td>\n      <td>0</td>\n      <td>0</td>\n      <td>0</td>\n      <td>0</td>\n      <td>0</td>\n      <td>0</td>\n      <td>0</td>\n      <td>0</td>\n      <td>0</td>\n      <td>0</td>\n      <td>0</td>\n      <td>0</td>\n      <td>0</td>\n      <td>0</td>\n      <td>0</td>\n      <td>0</td>\n      <td>0</td>\n      <td>0</td>\n      <td>0</td>\n      <td>...</td>\n      <td>0</td>\n      <td>0</td>\n      <td>0</td>\n      <td>0</td>\n      <td>0</td>\n      <td>0</td>\n      <td>0</td>\n      <td>0</td>\n      <td>0</td>\n      <td>0</td>\n      <td>0</td>\n      <td>0</td>\n      <td>0</td>\n      <td>0</td>\n      <td>0</td>\n      <td>0</td>\n      <td>0</td>\n      <td>0</td>\n      <td>0</td>\n      <td>0</td>\n      <td>0</td>\n      <td>0</td>\n      <td>0</td>\n      <td>0</td>\n      <td>0</td>\n      <td>0</td>\n      <td>0</td>\n      <td>0</td>\n      <td>0</td>\n      <td>0</td>\n      <td>0</td>\n      <td>0</td>\n      <td>0</td>\n      <td>0</td>\n      <td>0</td>\n      <td>0</td>\n      <td>0</td>\n      <td>0</td>\n      <td>0</td>\n      <td>0</td>\n      <td>0</td>\n      <td>0</td>\n      <td>0</td>\n      <td>1</td>\n      <td>0</td>\n      <td>0</td>\n      <td>0</td>\n      <td>0</td>\n      <td>0</td>\n      <td>0</td>\n    </tr>\n    <tr>\n      <th>1</th>\n      <td>3GTN3S3B</td>\n      <td>0</td>\n      <td>0</td>\n      <td>0</td>\n      <td>0</td>\n      <td>0</td>\n      <td>0</td>\n      <td>0</td>\n      <td>0</td>\n      <td>0</td>\n      <td>0</td>\n      <td>0</td>\n      <td>0</td>\n      <td>0</td>\n      <td>0</td>\n      <td>0</td>\n      <td>0</td>\n      <td>0</td>\n      <td>0</td>\n      <td>0</td>\n      <td>0</td>\n      <td>0</td>\n      <td>0</td>\n      <td>0</td>\n      <td>0</td>\n      <td>0</td>\n      <td>0</td>\n      <td>0</td>\n      <td>0</td>\n      <td>0</td>\n      <td>0</td>\n      <td>0</td>\n      <td>0</td>\n      <td>0</td>\n      <td>0</td>\n      <td>0</td>\n      <td>0</td>\n      <td>0</td>\n      <td>0</td>\n      <td>0</td>\n      <td>0</td>\n      <td>0</td>\n      <td>0</td>\n      <td>0</td>\n      <td>0</td>\n      <td>0</td>\n      <td>0</td>\n      <td>0</td>\n      <td>0</td>\n      <td>0</td>\n      <td>...</td>\n      <td>0</td>\n      <td>0</td>\n      <td>0</td>\n      <td>0</td>\n      <td>0</td>\n      <td>0</td>\n      <td>0</td>\n      <td>0</td>\n      <td>0</td>\n      <td>0</td>\n      <td>0</td>\n      <td>0</td>\n      <td>0</td>\n      <td>0</td>\n      <td>2</td>\n      <td>0</td>\n      <td>0</td>\n      <td>0</td>\n      <td>0</td>\n      <td>0</td>\n      <td>0</td>\n      <td>0</td>\n      <td>0</td>\n      <td>0</td>\n      <td>0</td>\n      <td>0</td>\n      <td>0</td>\n      <td>2</td>\n      <td>0</td>\n      <td>0</td>\n      <td>0</td>\n      <td>0</td>\n      <td>0</td>\n      <td>0</td>\n      <td>0</td>\n      <td>0</td>\n      <td>0</td>\n      <td>0</td>\n      <td>0</td>\n      <td>0</td>\n      <td>0</td>\n      <td>0</td>\n      <td>0</td>\n      <td>0</td>\n      <td>1</td>\n      <td>0</td>\n      <td>0</td>\n      <td>0</td>\n      <td>0</td>\n      <td>0</td>\n    </tr>\n    <tr>\n      <th>2</th>\n      <td>6B0IG276</td>\n      <td>0</td>\n      <td>0</td>\n      <td>0</td>\n      <td>0</td>\n      <td>0</td>\n      <td>0</td>\n      <td>0</td>\n      <td>0</td>\n      <td>0</td>\n      <td>0</td>\n      <td>0</td>\n      <td>0</td>\n      <td>0</td>\n      <td>0</td>\n      <td>0</td>\n      <td>0</td>\n      <td>0</td>\n      <td>0</td>\n      <td>0</td>\n      <td>0</td>\n      <td>0</td>\n      <td>0</td>\n      <td>0</td>\n      <td>0</td>\n      <td>0</td>\n      <td>0</td>\n      <td>0</td>\n      <td>0</td>\n      <td>0</td>\n      <td>0</td>\n      <td>0</td>\n      <td>0</td>\n      <td>0</td>\n      <td>0</td>\n      <td>0</td>\n      <td>0</td>\n      <td>0</td>\n      <td>0</td>\n      <td>0</td>\n      <td>0</td>\n      <td>0</td>\n      <td>0</td>\n      <td>0</td>\n      <td>0</td>\n      <td>0</td>\n      <td>0</td>\n      <td>0</td>\n      <td>0</td>\n      <td>0</td>\n      <td>...</td>\n      <td>0</td>\n      <td>0</td>\n      <td>0</td>\n      <td>0</td>\n      <td>0</td>\n      <td>0</td>\n      <td>0</td>\n      <td>0</td>\n      <td>0</td>\n      <td>0</td>\n      <td>0</td>\n      <td>0</td>\n      <td>0</td>\n      <td>0</td>\n      <td>0</td>\n      <td>0</td>\n      <td>0</td>\n      <td>0</td>\n      <td>0</td>\n      <td>0</td>\n      <td>0</td>\n      <td>0</td>\n      <td>0</td>\n      <td>0</td>\n      <td>0</td>\n      <td>0</td>\n      <td>0</td>\n      <td>0</td>\n      <td>0</td>\n      <td>0</td>\n      <td>0</td>\n      <td>0</td>\n      <td>0</td>\n      <td>0</td>\n      <td>0</td>\n      <td>0</td>\n      <td>0</td>\n      <td>0</td>\n      <td>0</td>\n      <td>0</td>\n      <td>0</td>\n      <td>0</td>\n      <td>0</td>\n      <td>0</td>\n      <td>0</td>\n      <td>0</td>\n      <td>0</td>\n      <td>0</td>\n      <td>0</td>\n      <td>0</td>\n    </tr>\n    <tr>\n      <th>3</th>\n      <td>EMGRU2MO</td>\n      <td>0</td>\n      <td>0</td>\n      <td>0</td>\n      <td>0</td>\n      <td>0</td>\n      <td>0</td>\n      <td>1</td>\n      <td>0</td>\n      <td>0</td>\n      <td>0</td>\n      <td>0</td>\n      <td>0</td>\n      <td>0</td>\n      <td>0</td>\n      <td>0</td>\n      <td>0</td>\n      <td>0</td>\n      <td>0</td>\n      <td>0</td>\n      <td>0</td>\n      <td>0</td>\n      <td>0</td>\n      <td>0</td>\n      <td>0</td>\n      <td>0</td>\n      <td>0</td>\n      <td>0</td>\n      <td>0</td>\n      <td>0</td>\n      <td>0</td>\n      <td>0</td>\n      <td>0</td>\n      <td>0</td>\n      <td>0</td>\n      <td>0</td>\n      <td>0</td>\n      <td>0</td>\n      <td>0</td>\n      <td>0</td>\n      <td>0</td>\n      <td>0</td>\n      <td>0</td>\n      <td>0</td>\n      <td>0</td>\n      <td>0</td>\n      <td>0</td>\n      <td>0</td>\n      <td>0</td>\n      <td>0</td>\n      <td>...</td>\n      <td>0</td>\n      <td>0</td>\n      <td>0</td>\n      <td>0</td>\n      <td>0</td>\n      <td>0</td>\n      <td>0</td>\n      <td>0</td>\n      <td>0</td>\n      <td>0</td>\n      <td>0</td>\n      <td>0</td>\n      <td>0</td>\n      <td>0</td>\n      <td>0</td>\n      <td>0</td>\n      <td>0</td>\n      <td>0</td>\n      <td>0</td>\n      <td>0</td>\n      <td>0</td>\n      <td>0</td>\n      <td>0</td>\n      <td>0</td>\n      <td>0</td>\n      <td>0</td>\n      <td>0</td>\n      <td>0</td>\n      <td>0</td>\n      <td>0</td>\n      <td>0</td>\n      <td>0</td>\n      <td>0</td>\n      <td>0</td>\n      <td>0</td>\n      <td>0</td>\n      <td>0</td>\n      <td>0</td>\n      <td>0</td>\n      <td>0</td>\n      <td>0</td>\n      <td>0</td>\n      <td>0</td>\n      <td>0</td>\n      <td>0</td>\n      <td>0</td>\n      <td>0</td>\n      <td>0</td>\n      <td>0</td>\n      <td>0</td>\n    </tr>\n    <tr>\n      <th>4</th>\n      <td>1ELG96TX</td>\n      <td>0</td>\n      <td>0</td>\n      <td>0</td>\n      <td>0</td>\n      <td>0</td>\n      <td>0</td>\n      <td>0</td>\n      <td>0</td>\n      <td>0</td>\n      <td>0</td>\n      <td>0</td>\n      <td>0</td>\n      <td>0</td>\n      <td>0</td>\n      <td>0</td>\n      <td>0</td>\n      <td>0</td>\n      <td>0</td>\n      <td>0</td>\n      <td>0</td>\n      <td>0</td>\n      <td>0</td>\n      <td>0</td>\n      <td>0</td>\n      <td>0</td>\n      <td>0</td>\n      <td>0</td>\n      <td>0</td>\n      <td>0</td>\n      <td>0</td>\n      <td>0</td>\n      <td>0</td>\n      <td>0</td>\n      <td>0</td>\n      <td>0</td>\n      <td>0</td>\n      <td>0</td>\n      <td>0</td>\n      <td>0</td>\n      <td>0</td>\n      <td>0</td>\n      <td>0</td>\n      <td>0</td>\n      <td>0</td>\n      <td>0</td>\n      <td>0</td>\n      <td>0</td>\n      <td>0</td>\n      <td>0</td>\n      <td>...</td>\n      <td>0</td>\n      <td>0</td>\n      <td>0</td>\n      <td>0</td>\n      <td>0</td>\n      <td>0</td>\n      <td>0</td>\n      <td>0</td>\n      <td>0</td>\n      <td>0</td>\n      <td>0</td>\n      <td>0</td>\n      <td>0</td>\n      <td>1</td>\n      <td>0</td>\n      <td>0</td>\n      <td>0</td>\n      <td>0</td>\n      <td>0</td>\n      <td>0</td>\n      <td>0</td>\n      <td>0</td>\n      <td>0</td>\n      <td>0</td>\n      <td>0</td>\n      <td>0</td>\n      <td>0</td>\n      <td>0</td>\n      <td>0</td>\n      <td>0</td>\n      <td>0</td>\n      <td>0</td>\n      <td>0</td>\n      <td>0</td>\n      <td>0</td>\n      <td>0</td>\n      <td>0</td>\n      <td>0</td>\n      <td>0</td>\n      <td>0</td>\n      <td>0</td>\n      <td>0</td>\n      <td>0</td>\n      <td>0</td>\n      <td>0</td>\n      <td>0</td>\n      <td>0</td>\n      <td>0</td>\n      <td>0</td>\n      <td>0</td>\n    </tr>\n  </tbody>\n</table>\n<p>5 rows × 101 columns</p>\n</div>"
          },
          "metadata": {}
        }
      ]
    },
    {
      "metadata": {
        "colab_type": "text",
        "id": "ocC_iwvQxs3N"
      },
      "cell_type": "markdown",
      "source": "## 데이터 정리하기\n\n데이터 분석을 하는데 있어서 가장 중요한 업무는 데이터를 정리(Data Cleaning)하는 일입니다. 현업에서 활동하는 데이터 분석가(Data Analyst)는 전체 업무 시간의 50% ~ 70%를 데이터를 정리하는데 사용합니다.\n\n만일 파이썬과 판다스를 능숙하게 사용할 수 있다면 남들보다 빠르게 데이터를 정리하고 분석할 수 있습니다. 반면 파이썬과 판다스를 능숙하게 사용할 수 없다면, 남들보다 데이터를 정리하는데 시간이 오래 걸리게 되고 이는 곧 생산성의 차이로 이어집니다. 그러므로 빠른 시간 안에 효율적으로 데이터를 정리하는 스킬은 무엇보다도 중요합니다.\n\n먼저 눔(Noom)의 데이터에서 정리가 필요한 몇몇 부분을 다뤄보겠습니다."
    },
    {
      "metadata": {
        "colab_type": "text",
        "id": "H8wdvMiRxs3Q"
      },
      "cell_type": "markdown",
      "source": "**1. 전체 컬럼에서 필요한 컬럼만 가져오세요.**\n\n데이터를 분석할 때, 대부분의 경우 읽어온 컬럼 전체를 사용하는 경우는 없습니다. 그러므로 데이터를 분석하기 전에 사용하지 않는 컬럼을 사전에 정리해주면 더 편리하게 데이터를 분석할 수 있습니다.\n\n이번 데이터 분석에서 필요한 컬럼은 다음과 같습니다.\n\n * ```Access Code```\n * ```Name```\n * ```Gender```\n * ```Age```\n * ```Height```\n * ```Initial Weight```\n * ```Lowest Weight```\n * ```Target Weight```\n * ```Status```\n * ```Price```\n * ```Purchased At```\n * ```Channel```\n\n이 컬럼을 제외한 나머지 컬럼을 제거해주세요.\n\n또한 위 컬럼에서 ```Access Code```를 인덱스(Index)로 지정해주세요. 최종적으로는 다음의 결과가 나와야 합니다."
    },
    {
      "metadata": {
        "colab_type": "text",
        "id": "rBg5S6-Mxs3T"
      },
      "cell_type": "markdown",
      "source": "<table border=\"1\" class=\"dataframe\">\n    <thead>\n        <tr style=\"text-align: right;\">\n            <th></th>\n            <th>Name</th>\n            <th>Gender</th>\n            <th>Age</th>\n            <th>Height</th>\n            <th>Initial Weight</th>\n            <th>Lowest Weight</th>\n            <th>Target Weight</th>\n            <th>Status</th>\n            <th>Price</th>\n            <th>Purchased At</th>\n            <th>Channel</th>\n        </tr>\n        <tr>\n            <th>Access Code</th>\n            <th></th>\n            <th></th>\n            <th></th>\n            <th></th>\n            <th></th>\n            <th></th>\n            <th></th>\n            <th></th>\n            <th></th>\n            <th></th>\n            <th></th>\n        </tr>\n    </thead>\n    <tbody>\n        <tr>\n            <th>Y9RY2VSI</th>\n            <td>김승혜</td>\n            <td>FEMALE</td>\n            <td>25.0</td>\n            <td>172.0</td>\n            <td>66.9</td>\n            <td>65.8</td>\n            <td>55.000000</td>\n            <td>completed</td>\n            <td>112500</td>\n            <td>2017-04-14 19:03:29.976</td>\n            <td>others</td>\n        </tr>\n        <tr>\n            <th>3GTN3S3B</th>\n            <td>허승준</td>\n            <td>MALE</td>\n            <td>26.0</td>\n            <td>176.0</td>\n            <td>70.0</td>\n            <td>NaN</td>\n            <td>65.000000</td>\n            <td>completed</td>\n            <td>44780</td>\n            <td>2017-05-23 20:53:54.368</td>\n            <td>others</td>\n        </tr>\n        <tr>\n            <th>6B0IG276</th>\n            <td>이지민</td>\n            <td>FEMALE</td>\n            <td>23.0</td>\n            <td>171.0</td>\n            <td>98.0</td>\n            <td>NaN</td>\n            <td>91.140000</td>\n            <td>completed</td>\n            <td>132000</td>\n            <td>2017-08-23 23:39:21.840</td>\n            <td>facebook</td>\n        </tr>\n        <tr>\n            <th>EMGRU2MO</th>\n            <td>장설윤</td>\n            <td>FEMALE</td>\n            <td>20.0</td>\n            <td>160.0</td>\n            <td>70.7</td>\n            <td>NaN</td>\n            <td>53.000000</td>\n            <td>completed</td>\n            <td>112500</td>\n            <td>2017-08-28 20:18:22.824</td>\n            <td>naver</td>\n        </tr>\n        <tr>\n            <th>1ELG96TX</th>\n            <td>서성빈</td>\n            <td>FEMALE</td>\n            <td>28.0</td>\n            <td>165.0</td>\n            <td>55.5</td>\n            <td>NaN</td>\n            <td>51.615002</td>\n            <td>completed</td>\n            <td>44780</td>\n            <td>2017-05-07 17:50:30.944</td>\n            <td>facebook</td>\n        </tr>\n    </tbody>\n</table>"
    },
    {
      "metadata": {
        "id": "2FRLaNxpntii",
        "colab_type": "code",
        "colab": {
          "base_uri": "https://localhost:8080/",
          "height": 102
        },
        "outputId": "bd3c1f17-9277-4d19-b5ae-a45afc4f208a",
        "trusted": true
      },
      "cell_type": "code",
      "source": "print(raw_data.columns.shape)\nraw_data.columns",
      "execution_count": 167,
      "outputs": [
        {
          "output_type": "stream",
          "text": "(14,)\n",
          "name": "stdout"
        },
        {
          "output_type": "execute_result",
          "execution_count": 167,
          "data": {
            "text/plain": "Index(['Access Code', 'Name', 'Gender', 'Age', 'Height', 'Initial Weight',\n       'Lowest Weight', 'Target Weight', 'Product Name', 'Status', 'Price',\n       'Purchased At', 'Payment Type', 'Channel'],\n      dtype='object')"
          },
          "metadata": {}
        }
      ]
    },
    {
      "metadata": {
        "id": "qWEiiHdaoHjn",
        "colab_type": "text"
      },
      "cell_type": "markdown",
      "source": "There are 2 ways to create new DataFrame with necessary columns.\n\nSolution #1 is to create with necessary columns.\n\nSolution #2 is to create without unnesessary columns by using drop()."
    },
    {
      "metadata": {
        "id": "kTVqqHCQncaw",
        "colab_type": "code",
        "colab": {
          "base_uri": "https://localhost:8080/",
          "height": 252
        },
        "outputId": "e88ce3d7-43c6-4cb9-9004-dfef37308b08",
        "trusted": true
      },
      "cell_type": "code",
      "source": "# Solution 1\ncols_necessary = ['Access Code', 'Name', 'Gender', 'Age', 'Height', 'Initial Weight', 'Lowest Weight', 'Target Weight', 'Status', 'Price', 'Purchased At', 'Channel']\n\ndata = raw_data[cols_necessary].copy()\ndata.set_index('Access Code', inplace=True)\n\nprint(data.shape)\ndata.head()",
      "execution_count": 168,
      "outputs": [
        {
          "output_type": "stream",
          "text": "(10000, 11)\n",
          "name": "stdout"
        },
        {
          "output_type": "execute_result",
          "execution_count": 168,
          "data": {
            "text/plain": "            Name  Gender   Age  Height  Initial Weight  Lowest Weight  \\\nAccess Code                                                             \nY9RY2VSI     김승혜  FEMALE  25.0   172.0            66.9           65.8   \n3GTN3S3B     허승준    MALE  26.0   176.0            70.0            NaN   \n6B0IG276     이지민  FEMALE  23.0   171.0            98.0            NaN   \nEMGRU2MO     장설윤  FEMALE  20.0   160.0            70.7            NaN   \n1ELG96TX     서성빈  FEMALE  28.0   165.0            55.5            NaN   \n\n             Target Weight     Status   Price            Purchased At  \\\nAccess Code                                                             \nY9RY2VSI         55.000000  completed  112500 2017-04-14 19:03:29.976   \n3GTN3S3B         65.000000  completed   44780 2017-05-23 20:53:54.368   \n6B0IG276         91.140000  completed  132000 2017-08-23 23:39:21.840   \nEMGRU2MO         53.000000  completed  112500 2017-08-28 20:18:22.824   \n1ELG96TX         51.615002  completed   44780 2017-05-07 17:50:30.944   \n\n              Channel  \nAccess Code            \nY9RY2VSI       others  \n3GTN3S3B       others  \n6B0IG276     facebook  \nEMGRU2MO        naver  \n1ELG96TX     facebook  ",
            "text/html": "<div>\n<table border=\"1\" class=\"dataframe\">\n  <thead>\n    <tr style=\"text-align: right;\">\n      <th></th>\n      <th>Name</th>\n      <th>Gender</th>\n      <th>Age</th>\n      <th>Height</th>\n      <th>Initial Weight</th>\n      <th>Lowest Weight</th>\n      <th>Target Weight</th>\n      <th>Status</th>\n      <th>Price</th>\n      <th>Purchased At</th>\n      <th>Channel</th>\n    </tr>\n    <tr>\n      <th>Access Code</th>\n      <th></th>\n      <th></th>\n      <th></th>\n      <th></th>\n      <th></th>\n      <th></th>\n      <th></th>\n      <th></th>\n      <th></th>\n      <th></th>\n      <th></th>\n    </tr>\n  </thead>\n  <tbody>\n    <tr>\n      <th>Y9RY2VSI</th>\n      <td>김승혜</td>\n      <td>FEMALE</td>\n      <td>25.0</td>\n      <td>172.0</td>\n      <td>66.9</td>\n      <td>65.8</td>\n      <td>55.000000</td>\n      <td>completed</td>\n      <td>112500</td>\n      <td>2017-04-14 19:03:29.976</td>\n      <td>others</td>\n    </tr>\n    <tr>\n      <th>3GTN3S3B</th>\n      <td>허승준</td>\n      <td>MALE</td>\n      <td>26.0</td>\n      <td>176.0</td>\n      <td>70.0</td>\n      <td>NaN</td>\n      <td>65.000000</td>\n      <td>completed</td>\n      <td>44780</td>\n      <td>2017-05-23 20:53:54.368</td>\n      <td>others</td>\n    </tr>\n    <tr>\n      <th>6B0IG276</th>\n      <td>이지민</td>\n      <td>FEMALE</td>\n      <td>23.0</td>\n      <td>171.0</td>\n      <td>98.0</td>\n      <td>NaN</td>\n      <td>91.140000</td>\n      <td>completed</td>\n      <td>132000</td>\n      <td>2017-08-23 23:39:21.840</td>\n      <td>facebook</td>\n    </tr>\n    <tr>\n      <th>EMGRU2MO</th>\n      <td>장설윤</td>\n      <td>FEMALE</td>\n      <td>20.0</td>\n      <td>160.0</td>\n      <td>70.7</td>\n      <td>NaN</td>\n      <td>53.000000</td>\n      <td>completed</td>\n      <td>112500</td>\n      <td>2017-08-28 20:18:22.824</td>\n      <td>naver</td>\n    </tr>\n    <tr>\n      <th>1ELG96TX</th>\n      <td>서성빈</td>\n      <td>FEMALE</td>\n      <td>28.0</td>\n      <td>165.0</td>\n      <td>55.5</td>\n      <td>NaN</td>\n      <td>51.615002</td>\n      <td>completed</td>\n      <td>44780</td>\n      <td>2017-05-07 17:50:30.944</td>\n      <td>facebook</td>\n    </tr>\n  </tbody>\n</table>\n</div>"
          },
          "metadata": {}
        }
      ]
    },
    {
      "metadata": {
        "id": "exNBBzFKox2y",
        "colab_type": "code",
        "colab": {
          "base_uri": "https://localhost:8080/",
          "height": 252
        },
        "outputId": "a0a368bc-c9e5-40e3-c94e-dba993f2c09c",
        "trusted": true
      },
      "cell_type": "code",
      "source": "# Solution 2\ncols_unnecessory = ['Product Name', 'Payment Type']\n\ndata = raw_data.drop(cols_unnecessory, axis=1)\ndata.set_index('Access Code', inplace=True)\n\nprint(data.shape)\ndata.head()",
      "execution_count": 169,
      "outputs": [
        {
          "output_type": "stream",
          "text": "(10000, 11)\n",
          "name": "stdout"
        },
        {
          "output_type": "execute_result",
          "execution_count": 169,
          "data": {
            "text/plain": "            Name  Gender   Age  Height  Initial Weight  Lowest Weight  \\\nAccess Code                                                             \nY9RY2VSI     김승혜  FEMALE  25.0   172.0            66.9           65.8   \n3GTN3S3B     허승준    MALE  26.0   176.0            70.0            NaN   \n6B0IG276     이지민  FEMALE  23.0   171.0            98.0            NaN   \nEMGRU2MO     장설윤  FEMALE  20.0   160.0            70.7            NaN   \n1ELG96TX     서성빈  FEMALE  28.0   165.0            55.5            NaN   \n\n             Target Weight     Status   Price            Purchased At  \\\nAccess Code                                                             \nY9RY2VSI         55.000000  completed  112500 2017-04-14 19:03:29.976   \n3GTN3S3B         65.000000  completed   44780 2017-05-23 20:53:54.368   \n6B0IG276         91.140000  completed  132000 2017-08-23 23:39:21.840   \nEMGRU2MO         53.000000  completed  112500 2017-08-28 20:18:22.824   \n1ELG96TX         51.615002  completed   44780 2017-05-07 17:50:30.944   \n\n              Channel  \nAccess Code            \nY9RY2VSI       others  \n3GTN3S3B       others  \n6B0IG276     facebook  \nEMGRU2MO        naver  \n1ELG96TX     facebook  ",
            "text/html": "<div>\n<table border=\"1\" class=\"dataframe\">\n  <thead>\n    <tr style=\"text-align: right;\">\n      <th></th>\n      <th>Name</th>\n      <th>Gender</th>\n      <th>Age</th>\n      <th>Height</th>\n      <th>Initial Weight</th>\n      <th>Lowest Weight</th>\n      <th>Target Weight</th>\n      <th>Status</th>\n      <th>Price</th>\n      <th>Purchased At</th>\n      <th>Channel</th>\n    </tr>\n    <tr>\n      <th>Access Code</th>\n      <th></th>\n      <th></th>\n      <th></th>\n      <th></th>\n      <th></th>\n      <th></th>\n      <th></th>\n      <th></th>\n      <th></th>\n      <th></th>\n      <th></th>\n    </tr>\n  </thead>\n  <tbody>\n    <tr>\n      <th>Y9RY2VSI</th>\n      <td>김승혜</td>\n      <td>FEMALE</td>\n      <td>25.0</td>\n      <td>172.0</td>\n      <td>66.9</td>\n      <td>65.8</td>\n      <td>55.000000</td>\n      <td>completed</td>\n      <td>112500</td>\n      <td>2017-04-14 19:03:29.976</td>\n      <td>others</td>\n    </tr>\n    <tr>\n      <th>3GTN3S3B</th>\n      <td>허승준</td>\n      <td>MALE</td>\n      <td>26.0</td>\n      <td>176.0</td>\n      <td>70.0</td>\n      <td>NaN</td>\n      <td>65.000000</td>\n      <td>completed</td>\n      <td>44780</td>\n      <td>2017-05-23 20:53:54.368</td>\n      <td>others</td>\n    </tr>\n    <tr>\n      <th>6B0IG276</th>\n      <td>이지민</td>\n      <td>FEMALE</td>\n      <td>23.0</td>\n      <td>171.0</td>\n      <td>98.0</td>\n      <td>NaN</td>\n      <td>91.140000</td>\n      <td>completed</td>\n      <td>132000</td>\n      <td>2017-08-23 23:39:21.840</td>\n      <td>facebook</td>\n    </tr>\n    <tr>\n      <th>EMGRU2MO</th>\n      <td>장설윤</td>\n      <td>FEMALE</td>\n      <td>20.0</td>\n      <td>160.0</td>\n      <td>70.7</td>\n      <td>NaN</td>\n      <td>53.000000</td>\n      <td>completed</td>\n      <td>112500</td>\n      <td>2017-08-28 20:18:22.824</td>\n      <td>naver</td>\n    </tr>\n    <tr>\n      <th>1ELG96TX</th>\n      <td>서성빈</td>\n      <td>FEMALE</td>\n      <td>28.0</td>\n      <td>165.0</td>\n      <td>55.5</td>\n      <td>NaN</td>\n      <td>51.615002</td>\n      <td>completed</td>\n      <td>44780</td>\n      <td>2017-05-07 17:50:30.944</td>\n      <td>facebook</td>\n    </tr>\n  </tbody>\n</table>\n</div>"
          },
          "metadata": {}
        }
      ]
    },
    {
      "metadata": {
        "colab_type": "text",
        "id": "0SX3DmV4xs3f"
      },
      "cell_type": "markdown",
      "source": "**2. 성별 컬럼을 정리해주세요.**\n\n성별 컬럼(```Gender```)을 자세히 보시면, 크게 세 가지 종류가 있습니다."
    },
    {
      "metadata": {
        "trusted": true
      },
      "cell_type": "code",
      "source": "print(data['Gender'].unique())\n# value_counts에서는 nan값을 보여주지 않는다.\ndata['Gender'].value_counts()",
      "execution_count": 170,
      "outputs": [
        {
          "output_type": "stream",
          "text": "['FEMALE' 'MALE' nan]\n",
          "name": "stdout"
        },
        {
          "output_type": "execute_result",
          "execution_count": 170,
          "data": {
            "text/plain": "FEMALE    8846\nMALE      1023\nName: Gender, dtype: int64"
          },
          "metadata": {}
        }
      ]
    },
    {
      "metadata": {
        "colab_type": "text",
        "id": "-Y8B3J0Cxs3r"
      },
      "cell_type": "markdown",
      "source": "여기에서 남성과 여성을 굳이 대문자로 사용할 필요는 없을 것으로 보입니다. 가독성을 높이기 위해, 대문자로 되어있는 텍스트를 소문자로 변경해주세요. 가령 FEMALE은 female로, MALE은 male로 변경해주면 됩니다. 또한 원본을 훼손시키지 않기 위해, ```Gender``` 컬럼이 아닌 ```Gender(clean)```이라는 새로운 이름의 컬럼에 넣어주세요. 최종적으로 다음의 결과가 나와야 합니다."
    },
    {
      "metadata": {
        "colab_type": "text",
        "id": "dMRvU_D6xs3v"
      },
      "cell_type": "markdown",
      "source": "<table border=\"1\" class=\"dataframe\" style=\"float: left;\">\n   <thead>\n      <tr style=\"text-align: right;\">\n         <th></th>\n         <th>Name</th>\n         <th>Gender</th>\n         <th>Gender(clean)</th>\n      </tr>\n      <tr>\n         <th>Access Code</th>\n         <th></th>\n         <th></th>\n         <th></th>\n      </tr>\n   </thead>\n   <tbody>\n      <tr>\n         <th>Y9RY2VSI</th>\n         <td>김승혜</td>\n         <td>FEMALE</td>\n         <td>female</td>\n      </tr>\n      <tr>\n         <th>3GTN3S3B</th>\n         <td>허승준</td>\n         <td>MALE</td>\n         <td>male</td>\n      </tr>\n      <tr>\n         <th>6B0IG276</th>\n         <td>이지민</td>\n         <td>FEMALE</td>\n         <td>female</td>\n      </tr>\n      <tr>\n         <th>EMGRU2MO</th>\n         <td>장설윤</td>\n         <td>FEMALE</td>\n         <td>female</td>\n      </tr>\n      <tr>\n         <th>1ELG96TX</th>\n         <td>서성빈</td>\n         <td>FEMALE</td>\n         <td>female</td>\n      </tr>\n   </tbody>\n</table>"
    },
    {
      "metadata": {
        "colab_type": "text",
        "id": "K2RkMmGAxs3x"
      },
      "cell_type": "markdown",
      "source": "또한 ```Gender``` 컬럼을 정리한 뒤, 전체 가입자중 남성의 비율과 여성의 비율을 계산해주세요. 최종적으로는 **1) 여성 가입자가 8846명, 2) 남성 가입자가 1023명**이 되어야 합니다."
    },
    {
      "metadata": {
        "trusted": true
      },
      "cell_type": "code",
      "source": "cols = ['Name', 'Gender', 'Gender(clean)']",
      "execution_count": 171,
      "outputs": []
    },
    {
      "metadata": {
        "trusted": true,
        "scrolled": true
      },
      "cell_type": "code",
      "source": "# Solution 1\n# DataFrame\n# data['Gender(clean)'] = data['Gender'].replace('FEMALE', 'female').replace('MALE', 'male')",
      "execution_count": 172,
      "outputs": []
    },
    {
      "metadata": {
        "trusted": true
      },
      "cell_type": "code",
      "source": "# Solution 2\n# String\n# data['Gender(clean)'] = data['Gender'].str.lower()",
      "execution_count": 173,
      "outputs": []
    },
    {
      "metadata": {
        "trusted": true
      },
      "cell_type": "code",
      "source": "# Solution 3\n# Indexing\n# data.loc[data['Gender'] == 'FEMALE', 'Gender(clean)'] = 'female'\n# data.loc[data['Gender'] == 'MALE', 'Gender(clean)'] = 'male'",
      "execution_count": 174,
      "outputs": []
    },
    {
      "metadata": {
        "trusted": true
      },
      "cell_type": "code",
      "source": "# Solution 4\n# Apply()\n# def clean_gender(arg):\n#     if arg == 'FEMALE':\n#         return 'female'\n#     elif arg == 'MALE':\n#         return 'male'\n#     else:\n#         return arg\n    \n# data['Gender(clean)'] = data['Gender'].apply(clean_gender)",
      "execution_count": 175,
      "outputs": []
    },
    {
      "metadata": {
        "trusted": true,
        "scrolled": false
      },
      "cell_type": "code",
      "source": "# Solution 5\n# lambda\n\ndata['Gender(clean)'] = data['Gender'].apply(lambda x:'female' if x == 'FEMALE' else 'male' if x == 'MALE' else x)",
      "execution_count": 176,
      "outputs": []
    },
    {
      "metadata": {
        "trusted": true
      },
      "cell_type": "code",
      "source": "print(data[cols].shape)\ndata[cols].head()",
      "execution_count": 177,
      "outputs": [
        {
          "output_type": "stream",
          "text": "(10000, 3)\n",
          "name": "stdout"
        },
        {
          "output_type": "execute_result",
          "execution_count": 177,
          "data": {
            "text/plain": "            Name  Gender Gender(clean)\nAccess Code                           \nY9RY2VSI     김승혜  FEMALE        female\n3GTN3S3B     허승준    MALE          male\n6B0IG276     이지민  FEMALE        female\nEMGRU2MO     장설윤  FEMALE        female\n1ELG96TX     서성빈  FEMALE        female",
            "text/html": "<div>\n<table border=\"1\" class=\"dataframe\">\n  <thead>\n    <tr style=\"text-align: right;\">\n      <th></th>\n      <th>Name</th>\n      <th>Gender</th>\n      <th>Gender(clean)</th>\n    </tr>\n    <tr>\n      <th>Access Code</th>\n      <th></th>\n      <th></th>\n      <th></th>\n    </tr>\n  </thead>\n  <tbody>\n    <tr>\n      <th>Y9RY2VSI</th>\n      <td>김승혜</td>\n      <td>FEMALE</td>\n      <td>female</td>\n    </tr>\n    <tr>\n      <th>3GTN3S3B</th>\n      <td>허승준</td>\n      <td>MALE</td>\n      <td>male</td>\n    </tr>\n    <tr>\n      <th>6B0IG276</th>\n      <td>이지민</td>\n      <td>FEMALE</td>\n      <td>female</td>\n    </tr>\n    <tr>\n      <th>EMGRU2MO</th>\n      <td>장설윤</td>\n      <td>FEMALE</td>\n      <td>female</td>\n    </tr>\n    <tr>\n      <th>1ELG96TX</th>\n      <td>서성빈</td>\n      <td>FEMALE</td>\n      <td>female</td>\n    </tr>\n  </tbody>\n</table>\n</div>"
          },
          "metadata": {}
        }
      ]
    },
    {
      "metadata": {
        "colab_type": "text",
        "id": "te_6ZfRsxs3-"
      },
      "cell_type": "markdown",
      "source": "#### 3. Clean column 'Height'\n\n키(```Height```) 컬럼도 성별 컬럼과 같이 정리가 필요해보입니다. 가령 전체 눔 사용자중 가장 키가 작은 사람을 찾는다면, 다음의 결과가 나옵니다."
    },
    {
      "metadata": {
        "trusted": true
      },
      "cell_type": "code",
      "source": "print('The minimum height of the users is ' + data['Height'].min().astype(str))\nprint('The maximium height of the users is ' + data['Height'].max().astype(str))\nprint('The number of the users with Nan is ' + str(data.loc[data['Height'].isnull() == True, 'Height'].size))",
      "execution_count": 178,
      "outputs": [
        {
          "output_type": "stream",
          "text": "The minimum height of the users is -1.0\nThe maximium height of the users is 203.2\nThe number of the users with Nan is 131\n",
          "name": "stdout"
        }
      ]
    },
    {
      "metadata": {
        "colab_type": "text",
        "id": "4UAt1B4kxs4K"
      },
      "cell_type": "markdown",
      "source": "하지만 모두가 알다싶이 키가 -1 cm인 사람은 존재하지 않습니다. 추측컨데, 데이터를 저장하는 담당자가 편의를 위해 키를 입력하지 않은 사용자를 NaN이 아닌 -1.0으로 기입한 것 같습니다. 이 경우 데이터를 저장하는데는 편리하지만, 데이터를 분석할 경우 통계치가 잘못 나올 가능성이 있습니다. (가령 평균 키를 계산하면 실제 평균보다 -1.0씩 밀리겠죠)\n\n그러므로 원활한 분석을 위해서는 키 컬럼을 정리해줄 필요가 있습니다. 키가 -1 cm인 사람은 NaN으로 데이터를 넣어주세요. 최종적으로는 다음의 결과가 나와야 합니다."
    },
    {
      "metadata": {
        "colab_type": "text",
        "id": "QcJmfk2nxs4N"
      },
      "cell_type": "markdown",
      "source": "<table border=\"1\" class=\"dataframe\" style=\"float: left;\">\n   <thead>\n      <tr style=\"text-align: right;\">\n         <th></th>\n         <th>Name</th>\n         <th>Height</th>\n         <th>Height(clean)</th>\n      </tr>\n      <tr>\n         <th>Access Code</th>\n         <th></th>\n         <th></th>\n         <th></th>\n      </tr>\n   </thead>\n   <tbody>\n      <tr>\n         <th>O4OWMJG7</th>\n         <td>오세윤</td>\n         <td>-1.0</td>\n         <td>NaN</td>\n      </tr>\n      <tr>\n         <th>H6EV5AXL</th>\n         <td>박슬지</td>\n         <td>-1.0</td>\n         <td>NaN</td>\n      </tr>\n      <tr>\n         <th>O1IAZS7A</th>\n         <td>고솔윤</td>\n         <td>-1.0</td>\n         <td>NaN</td>\n      </tr>\n      <tr>\n         <th>5NEQOWHW</th>\n         <td>손초영</td>\n         <td>-1.0</td>\n         <td>NaN</td>\n      </tr>\n      <tr>\n         <th>OFAXUNXD</th>\n         <td>백채우</td>\n         <td>-1.0</td>\n         <td>NaN</td>\n      </tr>\n   </tbody>\n</table>"
    },
    {
      "metadata": {
        "colab_type": "text",
        "id": "1b2GF6oLxs4P"
      },
      "cell_type": "markdown",
      "source": "또한 위 내용을 바탕으로 1) 최소/최대/평균 키를 구하고, 2) 남성/여성별 평균 키를 구해주세요.\n\n가령 현재 키가 가장 작은 사용자는 106.0cm이며, 가장 큰 사용자는 203.2cm, 평균 키는 약 163.54cm 입니다. 남성의 평균 키와 여성의 평균 키는 다음과 같습니다.\n<table border=\"1\" class=\"dataframe\" style=\"float: left;\">\n   <thead>\n      <tr style=\"text-align: right;\">\n         <th></th>\n         <th>Height(clean)</th>\n      </tr>\n      <tr>\n         <th>Gender(clean)</th>\n         <th></th>\n      </tr>\n   </thead>\n   <tbody>\n      <tr>\n         <th>female</th>\n         <td>162.116913</td>\n      </tr>\n      <tr>\n         <th>male</th>\n         <td>175.831965</td>\n      </tr>\n   </tbody>\n</table>"
    },
    {
      "metadata": {
        "trusted": true
      },
      "cell_type": "code",
      "source": "cols = ['Name', 'Height', 'Height(clean)']",
      "execution_count": 179,
      "outputs": []
    },
    {
      "metadata": {
        "trusted": true,
        "scrolled": true
      },
      "cell_type": "code",
      "source": "# Solution 1\n# DataFrame replace()\n# data['Height(clean)'] = data['Height'].replace('-1', np.nan)",
      "execution_count": 180,
      "outputs": []
    },
    {
      "metadata": {
        "trusted": true
      },
      "cell_type": "code",
      "source": "# Solution 2\n# Indexing\n\n# data.loc[data['Height'] == -1, 'Height(clean)'] = np.nan",
      "execution_count": 181,
      "outputs": []
    },
    {
      "metadata": {
        "trusted": true
      },
      "cell_type": "code",
      "source": "# Solution 3\n# Apply(def)\n# def clean_height(arg):\n#     if arg == -1:\n#         return np.nan\n#     else:\n#         return arg\n    \n# data['Height(clean)'] = data['Height'].apply(clean_height)",
      "execution_count": 182,
      "outputs": []
    },
    {
      "metadata": {
        "trusted": true
      },
      "cell_type": "code",
      "source": "# Solution 4\n# lambda\n\ndata['Height(clean)'] = data['Height'].apply(lambda x:np.nan if x == -1 else x)",
      "execution_count": 183,
      "outputs": []
    },
    {
      "metadata": {
        "trusted": true
      },
      "cell_type": "code",
      "source": "print(data.shape)\ndata.loc[data['Height'] == -1 ,cols].head()",
      "execution_count": 184,
      "outputs": [
        {
          "output_type": "stream",
          "text": "(10000, 13)\n",
          "name": "stdout"
        },
        {
          "output_type": "execute_result",
          "execution_count": 184,
          "data": {
            "text/plain": "            Name  Height  Height(clean)\nAccess Code                            \nO4OWMJG7     오세윤    -1.0            NaN\nH6EV5AXL     박슬지    -1.0            NaN\nO1IAZS7A     고솔윤    -1.0            NaN\n5NEQOWHW     손초영    -1.0            NaN\nOFAXUNXD     백채우    -1.0            NaN",
            "text/html": "<div>\n<table border=\"1\" class=\"dataframe\">\n  <thead>\n    <tr style=\"text-align: right;\">\n      <th></th>\n      <th>Name</th>\n      <th>Height</th>\n      <th>Height(clean)</th>\n    </tr>\n    <tr>\n      <th>Access Code</th>\n      <th></th>\n      <th></th>\n      <th></th>\n    </tr>\n  </thead>\n  <tbody>\n    <tr>\n      <th>O4OWMJG7</th>\n      <td>오세윤</td>\n      <td>-1.0</td>\n      <td>NaN</td>\n    </tr>\n    <tr>\n      <th>H6EV5AXL</th>\n      <td>박슬지</td>\n      <td>-1.0</td>\n      <td>NaN</td>\n    </tr>\n    <tr>\n      <th>O1IAZS7A</th>\n      <td>고솔윤</td>\n      <td>-1.0</td>\n      <td>NaN</td>\n    </tr>\n    <tr>\n      <th>5NEQOWHW</th>\n      <td>손초영</td>\n      <td>-1.0</td>\n      <td>NaN</td>\n    </tr>\n    <tr>\n      <th>OFAXUNXD</th>\n      <td>백채우</td>\n      <td>-1.0</td>\n      <td>NaN</td>\n    </tr>\n  </tbody>\n</table>\n</div>"
          },
          "metadata": {}
        }
      ]
    },
    {
      "metadata": {
        "trusted": true
      },
      "cell_type": "code",
      "source": "# Solution 1\n#pivot_table\n\ndata.pivot_table(values='Height(clean)', index='Gender(clean)', aggfunc=np.mean)",
      "execution_count": 185,
      "outputs": [
        {
          "output_type": "execute_result",
          "execution_count": 185,
          "data": {
            "text/plain": "Gender(clean)\nfemale    162.116913\nmale      175.831965\nName: Height(clean), dtype: float64"
          },
          "metadata": {}
        }
      ]
    },
    {
      "metadata": {
        "trusted": true
      },
      "cell_type": "code",
      "source": "# Solution 2\n# groupby()\n\ndata.groupby(['Gender(clean)'])['Height(clean)'].mean()",
      "execution_count": 186,
      "outputs": [
        {
          "output_type": "execute_result",
          "execution_count": 186,
          "data": {
            "text/plain": "Gender(clean)\nfemale    162.116913\nmale      175.831965\nName: Height(clean), dtype: float64"
          },
          "metadata": {}
        }
      ]
    },
    {
      "metadata": {
        "colab_type": "text",
        "id": "MAIZ5I9Xxs4b"
      },
      "cell_type": "markdown",
      "source": "**4. 나이 컬럼을 정리해주세요.**\n\n3번과 비슷한 이유로, 나이(```Age```) 컬럼도 정리를 해야될 것 같습니다. 가령 전체 눔 사용자 중에서, 가장 나이가 어린 사람과 가장 나이가 많은 사람은 다음과 같습니다."
    },
    {
      "metadata": {
        "colab_type": "code",
        "id": "j4oH8_vjxs4f",
        "outputId": "686115d8-de6d-439a-b552-1000e55818f9",
        "colab": {},
        "trusted": true
      },
      "cell_type": "code",
      "source": "# 가장 나이가 어린 고객을 찾습니다.\n# 결과는 0세라고 나오지만, 0세 사용자가 이 서비스를 사용할 가능성은 없습니다.\n# 즉, 이 데이터는 잘못 기입된 데이터라고 판단할 수 있습니다.\nprint('The youngest user is ' + data['Age'].min().astype(str))\nprint('The oldest user is ' + data['Age'].max().astype(str))\nprint('The number of users with Nan is ' + str(data.loc[data['Age'].isnull() == True, 'Age'].size))",
      "execution_count": 187,
      "outputs": [
        {
          "output_type": "stream",
          "text": "The youngest user is 0.0\nThe oldest user is 173.0\nThe number of users with Nan is 131\n",
          "name": "stdout"
        }
      ]
    },
    {
      "metadata": {
        "colab_type": "text",
        "id": "jJqjMb2_xs4z"
      },
      "cell_type": "markdown",
      "source": "그러므로 이번에도 나이 컬럼을 정리해줄 필요가 있습니다. 다음의 규칙에 맞춰서 나이 컬럼을 정리해주세요.\n\n  * 나이가 0인 데이터는 NaN으로 변경\n  * 나이가 60세 이상인 데이터는 NaN으로 변경\n  \n최종적으로는 다음의 결과가 나와야 합니다."
    },
    {
      "metadata": {
        "colab_type": "text",
        "id": "_uvKgi-Jxs42"
      },
      "cell_type": "markdown",
      "source": "<table border=\"1\" class=\"dataframe\" style=\"float: left;\">\n   <thead>\n      <tr style=\"text-align: right;\">\n         <th></th>\n         <th>Name</th>\n         <th>Age</th>\n         <th>Age(clean)</th>\n      </tr>\n      <tr>\n         <th>Access Code</th>\n         <th></th>\n         <th></th>\n         <th></th>\n      </tr>\n   </thead>\n   <tbody>\n      <tr>\n         <th>9PTGVW4B</th>\n         <td>강서연</td>\n         <td>0.0</td>\n         <td>NaN</td>\n      </tr>\n      <tr>\n         <th>ACV6D35S</th>\n         <td>윤우성</td>\n         <td>0.0</td>\n         <td>NaN</td>\n      </tr>\n      <tr>\n         <th>Y0OK1FWA</th>\n         <td>김서영</td>\n         <td>85.0</td>\n         <td>NaN</td>\n      </tr>\n      <tr>\n         <th>WX34HGBL</th>\n         <td>강채민</td>\n         <td>0.0</td>\n         <td>NaN</td>\n      </tr>\n      <tr>\n         <th>R9XCS81F</th>\n         <td>최유신</td>\n         <td>0.0</td>\n         <td>NaN</td>\n      </tr>\n   </tbody>\n</table>"
    },
    {
      "metadata": {
        "colab_type": "text",
        "id": "2vQyUYrsxs45"
      },
      "cell_type": "markdown",
      "source": "또한 위 내용을 바탕으로 1) 최소/최대/평균 나이를 구하고, 2) 남성/여성별 평균 나이를 구해주세요.\n\n가령 현재 나이가 가장 어린 사용자는 13세이며, 반대로 가장 나이가 많은 사용자는 59세, 그리고 평균 나이는 약 27.39세 입니다. 남성의 평균 나이와 여성의 평균 나이는 다음과 같습니다.\n\n<table border=\"1\" class=\"dataframe\" style=\"float: left;\">\n   <thead>\n      <tr style=\"text-align: right;\">\n         <th></th>\n         <th>Age(clean)</th>\n      </tr>\n      <tr>\n         <th>Gender(clean)</th>\n         <th></th>\n      </tr>\n   </thead>\n   <tbody>\n      <tr>\n         <th>female</th>\n         <td>27.172929</td>\n      </tr>\n      <tr>\n         <th>male</th>\n         <td>29.309127</td>\n      </tr>\n   </tbody>\n</table>"
    },
    {
      "metadata": {
        "trusted": true
      },
      "cell_type": "code",
      "source": "cols = ['Name', 'Age', 'Age(clean)']",
      "execution_count": 188,
      "outputs": []
    },
    {
      "metadata": {
        "trusted": true
      },
      "cell_type": "code",
      "source": "# Solution 1\n# DataFrame replace()\n# data['Age(clean)'] = data['Age'].replace(0, np.nan).replace(>=60, np.nan)",
      "execution_count": 189,
      "outputs": []
    },
    {
      "metadata": {
        "trusted": true
      },
      "cell_type": "code",
      "source": "# Solution 2\n# String",
      "execution_count": 190,
      "outputs": []
    },
    {
      "metadata": {
        "trusted": true
      },
      "cell_type": "code",
      "source": "# Solution 3\n# Indexing\n# data['Age(clean)'] = data['Age'].copy()\n# data.loc[data['Age'] == 0, 'Age(clean)'] = np.nan\n# data.loc[data['Age'] >= 60, 'Age(clean)'] = np.nan",
      "execution_count": 191,
      "outputs": []
    },
    {
      "metadata": {
        "trusted": true
      },
      "cell_type": "code",
      "source": "# Solution 4\n# # Function Apply(def)\n# def clean_age(arg):\n#     if (arg == 0) | (arg >= 60):\n#         return np.nan\n#     else:\n#         arg\n        \n# data['Age(clean)'] = data['Age'].apply(clean_age)",
      "execution_count": 192,
      "outputs": []
    },
    {
      "metadata": {
        "trusted": true,
        "scrolled": true
      },
      "cell_type": "code",
      "source": "# Solution 5\n# Function lambda\ndata['Age(clean)'] = data['Age'].apply(lambda x:np.nan if (x == 0) | (x >= 60) else x)",
      "execution_count": 193,
      "outputs": []
    },
    {
      "metadata": {
        "trusted": true,
        "scrolled": true
      },
      "cell_type": "code",
      "source": "print(data.shape)\ndata.loc[(data['Age'] == 0) | (data['Age'] >= 60), cols].head()",
      "execution_count": 194,
      "outputs": [
        {
          "output_type": "stream",
          "text": "(10000, 14)\n",
          "name": "stdout"
        },
        {
          "output_type": "execute_result",
          "execution_count": 194,
          "data": {
            "text/plain": "            Name   Age  Age(clean)\nAccess Code                       \n9PTGVW4B     강서연   0.0         NaN\nACV6D35S     윤우성   0.0         NaN\nY0OK1FWA     김서영  85.0         NaN\nWX34HGBL     강채민   0.0         NaN\nR9XCS81F     최유신   0.0         NaN",
            "text/html": "<div>\n<table border=\"1\" class=\"dataframe\">\n  <thead>\n    <tr style=\"text-align: right;\">\n      <th></th>\n      <th>Name</th>\n      <th>Age</th>\n      <th>Age(clean)</th>\n    </tr>\n    <tr>\n      <th>Access Code</th>\n      <th></th>\n      <th></th>\n      <th></th>\n    </tr>\n  </thead>\n  <tbody>\n    <tr>\n      <th>9PTGVW4B</th>\n      <td>강서연</td>\n      <td>0.0</td>\n      <td>NaN</td>\n    </tr>\n    <tr>\n      <th>ACV6D35S</th>\n      <td>윤우성</td>\n      <td>0.0</td>\n      <td>NaN</td>\n    </tr>\n    <tr>\n      <th>Y0OK1FWA</th>\n      <td>김서영</td>\n      <td>85.0</td>\n      <td>NaN</td>\n    </tr>\n    <tr>\n      <th>WX34HGBL</th>\n      <td>강채민</td>\n      <td>0.0</td>\n      <td>NaN</td>\n    </tr>\n    <tr>\n      <th>R9XCS81F</th>\n      <td>최유신</td>\n      <td>0.0</td>\n      <td>NaN</td>\n    </tr>\n  </tbody>\n</table>\n</div>"
          },
          "metadata": {}
        }
      ]
    },
    {
      "metadata": {
        "id": "JzjbinpV7KFp",
        "colab_type": "code",
        "outputId": "9231fb89-25ec-4ce2-8bbe-675660b05db2",
        "colab": {},
        "trusted": true,
        "scrolled": true
      },
      "cell_type": "code",
      "source": "# Solution 1\n# data.pivot_table(index='Gender(clean)', values='Age(clean)', aggfunc=np.mean)",
      "execution_count": 195,
      "outputs": []
    },
    {
      "metadata": {
        "trusted": true
      },
      "cell_type": "code",
      "source": "# Solution 2\ndata.groupby(['Gender(clean)'])['Age(clean)'].mean()",
      "execution_count": 196,
      "outputs": [
        {
          "output_type": "execute_result",
          "execution_count": 196,
          "data": {
            "text/plain": "Gender(clean)\nfemale    27.172929\nmale      29.309127\nName: Age(clean), dtype: float64"
          },
          "metadata": {}
        }
      ]
    },
    {
      "metadata": {
        "colab_type": "text",
        "id": "uigID7zoxs5H"
      },
      "cell_type": "markdown",
      "source": "### VIP 구하기\n\n데이터를 다 정리했으면, 이제 본격적으로 데이터 분석(Data Analysis)을 해보겠습니다.\n\n먼저 운영팀의 요청부터 살펴보겠습니다. 운영팀은 눔 코치를 이용하는 고객 중, 크게 다음의 조건에 해당하는 사람을 찾고 싶습니다.\n\n1. 유료 사용자 중, 사용자 정보를 잘못 기입한 사람\n2. 유료 사용자 중, 눔 코치의 VIP 사용자라고 간주할 수 있는 사람\n\n1번 사용자의 경우, 유료 결제를 했으나 사용자 정보(나이, 키, 몸무게 등)가 잘못 기입되어있다면 담당 코치가 정확한 코칭을 제공해 줄 수 없는 문제가 있습니다. 그러므로 운영팀은 가능한 빠르게 정보를 잘못 기입한 고객을 찾아서 다시 기입해달라고 요청할 필요가 있습니다.\n\n2번 사용자의 경우, 눔의 VIP 사용자로서 추가 혜택(ex: 서비스 무료 이용)을 제공해주는 것을 조건으로, 눔 코치를 대표하는 홍보 모델로서 활동해줄 것을 요청할 수 있습니다.\n\n특히나 다이어트 관련 서비스는 VIP 사용자의 Before / After를 보여주는 것 만큼 좋은 홍보 수단은 없습니다. 그러므로 데이터 분석 팀에서 특정 조건(ex: 10kg 이상 감량 성공)에 만족하는 코어 사용자를 찾아내는 것을 중요합니다.\n\n그러므로 눔의 데이터를 활용해, 1) 잘못된 정보를 기입한 사용자(invalid user)와, 눔 코치를 사용하여 큰 성과(ex: 몸무게 감량)를 본 사용자(VIP user)를 찾아보도록 하겠습니다."
    },
    {
      "metadata": {
        "colab_type": "text",
        "id": "1L_DtJ_uxs5L"
      },
      "cell_type": "markdown",
      "source": "**5. 전체 컬럼에서 필요한 컬럼만 가져오세요.**\n\n언제나 데이터를 분석할 때는 전체 데이터를 분석하지 않고 필요한 데이터만 추출해서 분석하는 습관을 들이는 것이 좋습니다. 그러므로 사용하지 않는 컬럼을 제거하도록 하겠습니다.\n\n이번 데이터 분석에서 필요한 컬럼은 다음과 같습니다.\n\n  * ```Name```\n  * ```Age(clean)```\n  * ```Height(clean)```\n  * ```Initial Weight```\n  * ```Lowest Weight```\n  * ```Target Weight```\n  * ```Status```\n\n이 컬럼을 제외한 나머지 컬럼을 제거해주세요. 또한 변함없이 데이터에서 ```Access Code```가 인덱스(Index)로 지정되어 있어야 합니다. 최종적으로는 다음의 결과가 나와야 합니다."
    },
    {
      "metadata": {
        "colab_type": "text",
        "id": "X017MSEhxs5O"
      },
      "cell_type": "markdown",
      "source": "<table border=\"1\" class=\"dataframe\" style=\"float: left;\">\n<thead>\n   <tr style=\"text-align: right;\">\n      <th></th>\n      <th>Name</th>\n      <th>Age(clean)</th>\n      <th>Height(clean)</th>\n      <th>Initial Weight</th>\n      <th>Lowest Weight</th>\n      <th>Target Weight</th>\n      <th>Status</th>\n   </tr>\n   <tr>\n      <th>Access Code</th>\n      <th></th>\n      <th></th>\n      <th></th>\n      <th></th>\n      <th></th>\n      <th></th>\n      <th></th>\n   </tr>\n</thead>\n<tbody>\n   <tr>\n      <th>Y9RY2VSI</th>\n      <td>김승혜</td>\n      <td>25.0</td>\n      <td>172.0</td>\n      <td>66.9</td>\n      <td>65.8</td>\n      <td>55.000000</td>\n      <td>completed</td>\n   </tr>\n   <tr>\n      <th>3GTN3S3B</th>\n      <td>허승준</td>\n      <td>26.0</td>\n      <td>176.0</td>\n      <td>70.0</td>\n      <td>NaN</td>\n      <td>65.000000</td>\n      <td>completed</td>\n   </tr>\n   <tr>\n      <th>6B0IG276</th>\n      <td>이지민</td>\n      <td>23.0</td>\n      <td>171.0</td>\n      <td>98.0</td>\n      <td>NaN</td>\n      <td>91.140000</td>\n      <td>completed</td>\n   </tr>\n   <tr>\n      <th>EMGRU2MO</th>\n      <td>장설윤</td>\n      <td>20.0</td>\n      <td>160.0</td>\n      <td>70.7</td>\n      <td>NaN</td>\n      <td>53.000000</td>\n      <td>completed</td>\n   </tr>\n   <tr>\n      <th>1ELG96TX</th>\n      <td>서성빈</td>\n      <td>28.0</td>\n      <td>165.0</td>\n      <td>55.5</td>\n      <td>NaN</td>\n      <td>51.615002</td>\n      <td>completed</td>\n   </tr>\n</tbody>\n</table"
    },
    {
      "metadata": {
        "colab_type": "code",
        "id": "HWIuhzRKxs5R",
        "outputId": "1b842079-d0d2-4e67-884d-4b17d398673f",
        "colab": {},
        "trusted": true
      },
      "cell_type": "code",
      "source": "# Write your code here!\n#\ncols = ['Name', 'Age(clean)', 'Height(clean)', 'Initial Weight', 'Lowest Weight',\\\n        'Target Weight', 'Status']\n\ndata_vip = data[cols].copy()\n\ndata_vip.head()",
      "execution_count": null,
      "outputs": []
    },
    {
      "metadata": {
        "colab_type": "text",
        "id": "u5vyZLYwxs5a"
      },
      "cell_type": "markdown",
      "source": "**6. 주어진 컬럼으로 다음의 추가 정보를 계산해주세요.**\n\n필요한 컬럼을 가져왔으면, 다음으로는 잘못된 정보를 기입한 사용자와 VIP 사용자를 구분하기 위한 컬럼을 새로 추가하겠습니다. \n\n다음의 세 가지 정보를 담은 컬럼을 추가해주세요.\n\n  1. ```Weight Loss(goal)``` - 목표 감량치. ```Initial Weight``` 컬럼과 ```Target Weight```의 차이를 나타냅니다. (마이너스가 나올 수 있습니다)\n  2. ```Weight Loss(current)``` - 최대 감량치. ```Initial Weight``` 컬럼과 ```Lowest Weight```의 차이를 나타냅니다. (마이너스가 나올 수 있습니다)\n  3. 체질량지수(```BMI```) - 키(```Height(clean)```)와 체중(```Initial Weight```)으로 체지방의 양을 추정하는 공식입니다. 구체적인 공식은 다음과 같습니다.\n\n$$\nBMI = \\frac{체중(kg)}{키(m) \\times 키(m)}\n$$\n\nPS) 주의: BMI공식에서 사용하는 키는 센치미터(cm)가 아닌 미터(m)라는것에 주의해주세요.\n\n최종적으로는 다음의 결과가 나와야합니다."
    },
    {
      "metadata": {
        "colab_type": "text",
        "id": "hji933kOxs5d"
      },
      "cell_type": "markdown",
      "source": "<table border=\"1\" class=\"dataframe\" style=\"float: left;\">\n   <thead>\n      <tr style=\"text-align: right;\">\n         <th></th>\n         <th>Name</th>\n         <th>Weight Loss(goal)</th>\n         <th>Weight Loss(current)</th>\n         <th>BMI</th>\n      </tr>\n      <tr>\n         <th>Access Code</th>\n         <th></th>\n         <th></th>\n         <th></th>\n         <th></th>\n      </tr>\n   </thead>\n   <tbody>\n      <tr>\n         <th>Y9RY2VSI</th>\n         <td>김승혜</td>\n         <td>11.900000</td>\n         <td>1.1</td>\n         <td>22.613575</td>\n      </tr>\n      <tr>\n         <th>3GTN3S3B</th>\n         <td>허승준</td>\n         <td>5.000000</td>\n         <td>NaN</td>\n         <td>22.598140</td>\n      </tr>\n      <tr>\n         <th>6B0IG276</th>\n         <td>이지민</td>\n         <td>6.860000</td>\n         <td>NaN</td>\n         <td>33.514586</td>\n      </tr>\n      <tr>\n         <th>EMGRU2MO</th>\n         <td>장설윤</td>\n         <td>17.700000</td>\n         <td>NaN</td>\n         <td>27.617187</td>\n      </tr>\n      <tr>\n         <th>1ELG96TX</th>\n         <td>서성빈</td>\n         <td>3.884998</td>\n         <td>NaN</td>\n         <td>20.385675</td>\n      </tr>\n   </tbody>\n</table>"
    },
    {
      "metadata": {
        "colab_type": "code",
        "id": "vx6wO6ifxs5g",
        "outputId": "aa6c1fb5-e8e3-4c9c-9a84-54b37f0a7baf",
        "colab": {},
        "trusted": true
      },
      "cell_type": "code",
      "source": "# Write your code here!\n# data_vip[data_vip['Initial Weight'].isnull() == True]\ndata_vip['Weight Loss(goal)'] = (data_vip['Initial Weight'] - data_vip['Target Weight'])\ndata_vip['Weight Loss(current)'] = (data_vip['Initial Weight'] - data_vip['Lowest Weight'])\ndata_vip['BMI'] = (data_vip['Initial Weight'] /\\\n                        ((data_vip['Height(clean)'] / 100)*(data_vip['Height(clean)'] / 100)))\n\ncols = ['Name', 'Weight Loss(goal)', 'Weight Loss(current)', 'BMI']\ndata_vip[cols].head()",
      "execution_count": null,
      "outputs": []
    },
    {
      "metadata": {
        "colab_type": "text",
        "id": "_MmHEi1uxs5t"
      },
      "cell_type": "markdown",
      "source": "이제 이 세 가지 정보만 있으면, 정보를 잘못 기입한 사용자(invalid user)와 VIP 사용자를 찾아낼 수 있습니다."
    },
    {
      "metadata": {
        "colab_type": "text",
        "id": "BdPBBYk_xs5x"
      },
      "cell_type": "markdown",
      "source": "**7. 잘못된 정보를 기입한 사용자(invalid user)를 찾기**\n\n이제 6번 데이터를 활용하여 잘못된 정보를 기입한 사용자를 찾아내겠습니다. 다음의 정보를 기입한 사용자는 잘못된 정보를 기입한 사용자라고 간주하며, Invalid라는 이름의 새로운 컬럼에 True라는 값을 집어넣습니다. (정 반대의 경우에는 False라고 집어넣습니다)\n\n**필수** (다음의 조건을 만족하지 않으면 Invalid값에는 언제나 False가 들어갑니다)\n  1. 눔의 프로그램을 결제한 구매자. (```Status == \"completed\"```)\n  \n**옵션** (다음의 조건 중 하나라도 만족할 경우 Invalid값에 True가 들어가야 합니다)\n  1. 나이(```Age(clean)```), 키(```Height(clean)```)와 몸무게(```Initial Weight```, ```Lowest Weight```, ```Target Weight```) 중 어느 하나라도 NaN이 들어가 있는 경우. \n  1. 키를 너무 작게 기입했거나(140cm 미만)나, 정 반대로 너무 크게(200cm 초과) 기입한 사용자.\n  1. BMI수치가 너무 낮거나(18.5 미만) 너무 높은 사용자. (30.0 초과)\n  1. 목표 감량치(```Weight Loss(goal)```)가 마이너스인 경우. (보통 현재 체중보다 목표 체중을 낮게 설정합니다)\n  \n여기서 **눔의 프로그램을 결제한 구매자**에 한해서만 invalid 여부를 구한다는 사실에 주의해주세요. (그 이유에 대해서는 과제 풀이 시간에 설명 드리겠습니다)\n\n또한 이 문제를 너무 어렵게 생각하지 않고, 판다스(Pandas)의 [apply](https://pandas.pydata.org/pandas-docs/stable/generated/pandas.DataFrame.apply.html)를 함수를 잘 활용하는 걸 추천드립니다. 그리고 값이 비어있는(NaN) 경우를 찾고 싶다면. 판다스(Pandas)의 [isnull](https://pandas.pydata.org/pandas-docs/version/0.23.4/generated/pandas.isnull.html)을 활용해주세요.\n  \n최종적으로 다음의 결과가 나와야 합니다."
    },
    {
      "metadata": {
        "colab_type": "text",
        "id": "Zgk3dgOJxs50"
      },
      "cell_type": "markdown",
      "source": "<table border=\"1\" class=\"dataframe\" style=\"float: left\">\n   <thead>\n      <tr style=\"text-align: right;\">\n         <th></th>\n         <th>Name</th>\n         <th>Age(clean)</th>\n         <th>Height(clean)</th>\n         <th>Initial Weight</th>\n         <th>Lowest Weight</th>\n         <th>Target Weight</th>\n         <th>Status</th>\n         <th>Weight Loss(goal)</th>\n         <th>Weight Loss(current)</th>\n         <th>BMI</th>\n         <th>Invalid</th>\n      </tr>\n      <tr>\n         <th>Access Code</th>\n         <th></th>\n         <th></th>\n         <th></th>\n         <th></th>\n         <th></th>\n         <th></th>\n         <th></th>\n         <th></th>\n         <th></th>\n         <th></th>\n         <th></th>\n      </tr>\n   </thead>\n   <tbody>\n      <tr>\n         <th>3GTN3S3B</th>\n         <td>허승준</td>\n         <td>26.0</td>\n         <td>176.0</td>\n         <td>70.0</td>\n         <td>NaN</td>\n         <td>65.000000</td>\n         <td>completed</td>\n         <td>5.000000</td>\n         <td>NaN</td>\n         <td>22.598140</td>\n         <td>True</td>\n      </tr>\n      <tr>\n         <th>6B0IG276</th>\n         <td>이지민</td>\n         <td>23.0</td>\n         <td>171.0</td>\n         <td>98.0</td>\n         <td>NaN</td>\n         <td>91.140000</td>\n         <td>completed</td>\n         <td>6.860000</td>\n         <td>NaN</td>\n         <td>33.514586</td>\n         <td>True</td>\n      </tr>\n      <tr>\n         <th>EMGRU2MO</th>\n         <td>장설윤</td>\n         <td>20.0</td>\n         <td>160.0</td>\n         <td>70.7</td>\n         <td>NaN</td>\n         <td>53.000000</td>\n         <td>completed</td>\n         <td>17.700000</td>\n         <td>NaN</td>\n         <td>27.617187</td>\n         <td>True</td>\n      </tr>\n      <tr>\n         <th>1ELG96TX</th>\n         <td>서성빈</td>\n         <td>28.0</td>\n         <td>165.0</td>\n         <td>55.5</td>\n         <td>NaN</td>\n         <td>51.615002</td>\n         <td>completed</td>\n         <td>3.884998</td>\n         <td>NaN</td>\n         <td>20.385675</td>\n         <td>True</td>\n      </tr>\n      <tr>\n         <th>U9AELHAT</th>\n         <td>배소정</td>\n         <td>22.0</td>\n         <td>161.0</td>\n         <td>76.0</td>\n         <td>NaN</td>\n         <td>48.000000</td>\n         <td>completed</td>\n         <td>28.000000</td>\n         <td>NaN</td>\n         <td>29.319856</td>\n         <td>True</td>\n      </tr>\n   </tbody>\n</table>"
    },
    {
      "metadata": {
        "colab_type": "code",
        "id": "g8xnSA2uxs56",
        "scrolled": true,
        "outputId": "e1516c7e-2bfd-4dc1-a62f-07c33b18b37d",
        "colab": {},
        "trusted": true
      },
      "cell_type": "code",
      "source": "# Write your code here!\ncols = ['Age(clean)', 'Height(clean)', 'Initial Weight', 'Lowest Weight', 'Target Weight']\n\ndef clean_invalid(user):\n    if user['Status'] == 'completed':\n        return True\n    else:\n        if user[cols].isnull().any() == True:\n            return True\n        elif (user['Height(clean)'] < 140) | (user['Height(clean)'] > 200):\n            return True\n        elif (user['BMI'] < 18.5) | (user['BMI'] > 30.0):\n            return True\n        elif user['Weight Loss(goal)'] < 0:\n            return True\n        else:\n            return False\n\ndata_vip['Invalid'] = data_vip.apply(clean_invalid, axis=1)\n# data_vip[data_vip['Invalid'] == False]\n# print(data_vip[data_vip['Invalid'] == True].count())\ndata_vip.head()",
      "execution_count": null,
      "outputs": []
    },
    {
      "metadata": {
        "colab_type": "text",
        "id": "mozd6y2dxs6Q"
      },
      "cell_type": "markdown",
      "source": "이제 허승준, 이지민님을 포함한 2619명의 사용자에게 운영팀은 사용자 정보를 올바르게 기입해달라는 별도의 공지 메시지를 보낼 것입니다.\n\n차후에는 공지 메시지를 보낸 이후에도, 변함없이 정보를 올바르게 기입하지 않은 사용자를 찾아낼 수 있다면, 운영팀이 더 효율적으로 업무를 볼 수 있을 것입니다. (하지만 이는 수업 범위 외이므로 패스하겠습니다)"
    },
    {
      "metadata": {
        "colab_type": "text",
        "id": "RVUzJaxSxs6V"
      },
      "cell_type": "markdown",
      "source": "**8. VIP 사용자 체크하기**\n\n이번에는 VIP 사용자를 찾아내겠습니다. 다음의 조건에 해당하는 사람은 눔 코치의 VIP 고객으로 간주하며, ```VIP```라는 이름의 새로운 컬럼에 True라는 값을 집어넣습니다. (정 반대의 경우에는 False라고 집어넣습니다) 다음의 조건을 모두 만족할 경우 VIP고객이라고 간주할 수 있습니다.\n\n 1. 눔의 프로그램을 결제한 구매자. (```Status == \"completed\"```)\n 1. 목표 감량치(```Weight Loss(goal)```), 최종 감량치(```Weight Loss(current)```), BMI 수치 모두 NaN이 아닌 값이 들어가 있는 사용자.\n 1. 최종 감량치(```Weight Loss(current)```)가 10kg 이상.\n 1. BMI 수치가 높은 사용자. (30.0 이상)\n 1. 최종 감량치(```Weight Loss(current)```)가 목표 감량치(```Weight Loss(goal)```)보다 큰 경우. (다이어트에 성공한 사람)\n \n마찬가지로 너무 어렵게 생각하지 않고, 판다스(Pandas)의 [apply](https://pandas.pydata.org/pandas-docs/stable/generated/pandas.DataFrame.apply.html)를 함수를 잘 활용하는 걸 추천드립니다.\n  \n최종적으로 다음의 결과가 나와야 합니다."
    },
    {
      "metadata": {
        "colab_type": "text",
        "id": "v_IsW-s-xs6Y"
      },
      "cell_type": "markdown",
      "source": "<table border=\"1\" class=\"dataframe\" style=\"float: left;\">\n   <thead>\n      <tr style=\"text-align: right;\">\n         <th></th>\n         <th>Name</th>\n         <th>Height(clean)</th>\n         <th>Initial Weight</th>\n         <th>Lowest Weight</th>\n         <th>Target Weight</th>\n         <th>Status</th>\n         <th>Weight Loss(goal)</th>\n         <th>Weight Loss(current)</th>\n         <th>BMI</th>\n         <th>VIP</th>\n      </tr>\n      <tr>\n         <th>Access Code</th>\n         <th></th>\n         <th></th>\n         <th></th>\n         <th></th>\n         <th></th>\n         <th></th>\n         <th></th>\n         <th></th>\n         <th></th>\n         <th></th>\n      </tr>\n   </thead>\n   <tbody>\n      <tr>\n         <th>3T1I8I8E</th>\n         <td>임솔지</td>\n         <td>158.0</td>\n         <td>80.0137</td>\n         <td>54.5</td>\n         <td>77.745742</td>\n         <td>completed</td>\n         <td>2.267958</td>\n         <td>25.5137</td>\n         <td>32.051634</td>\n         <td>True</td>\n      </tr>\n      <tr>\n         <th>PJYKU9OW</th>\n         <td>홍윤오</td>\n         <td>174.0</td>\n         <td>99.9000</td>\n         <td>76.6</td>\n         <td>84.000000</td>\n         <td>completed</td>\n         <td>15.900000</td>\n         <td>23.3000</td>\n         <td>32.996433</td>\n         <td>True</td>\n      </tr>\n      <tr>\n         <th>0EMTSGLJ</th>\n         <td>류선정</td>\n         <td>167.0</td>\n         <td>86.0000</td>\n         <td>73.2</td>\n         <td>80.050003</td>\n         <td>completed</td>\n         <td>5.949997</td>\n         <td>12.8000</td>\n         <td>30.836531</td>\n         <td>True</td>\n      </tr>\n      <tr>\n         <th>FBEAIFW0</th>\n         <td>서서원</td>\n         <td>170.0</td>\n         <td>95.0000</td>\n         <td>75.7</td>\n         <td>85.000000</td>\n         <td>completed</td>\n         <td>10.000000</td>\n         <td>19.3000</td>\n         <td>32.871972</td>\n         <td>True</td>\n      </tr>\n      <tr>\n         <th>8QQV2YDW</th>\n         <td>홍서율</td>\n         <td>170.0</td>\n         <td>95.0000</td>\n         <td>75.7</td>\n         <td>85.000000</td>\n         <td>completed</td>\n         <td>10.000000</td>\n         <td>19.3000</td>\n         <td>32.871972</td>\n         <td>True</td>\n      </tr>\n      <tr>\n         <th>99KOLRU8</th>\n         <td>고서연</td>\n         <td>162.0</td>\n         <td>106.0000</td>\n         <td>95.2</td>\n         <td>98.580000</td>\n         <td>completed</td>\n         <td>7.420000</td>\n         <td>10.8000</td>\n         <td>40.390184</td>\n         <td>True</td>\n      </tr>\n      <tr>\n         <th>IBOWZ9WZ</th>\n         <td>손서애</td>\n         <td>166.0</td>\n         <td>83.0000</td>\n         <td>66.1</td>\n         <td>73.000000</td>\n         <td>completed</td>\n         <td>10.000000</td>\n         <td>16.9000</td>\n         <td>30.120482</td>\n         <td>True</td>\n      </tr>\n      <tr>\n         <th>6EH2LGR5</th>\n         <td>문세영</td>\n         <td>164.0</td>\n         <td>88.8000</td>\n         <td>56.3</td>\n         <td>82.584003</td>\n         <td>completed</td>\n         <td>6.215997</td>\n         <td>32.5000</td>\n         <td>33.016062</td>\n         <td>True</td>\n      </tr>\n      <tr>\n         <th>QQLYGTWD</th>\n         <td>황수윤</td>\n         <td>165.0</td>\n         <td>105.0000</td>\n         <td>87.8</td>\n         <td>97.650000</td>\n         <td>completed</td>\n         <td>7.350000</td>\n         <td>17.2000</td>\n         <td>38.567493</td>\n         <td>True</td>\n      </tr>\n      <tr>\n         <th>4Z1WB3UZ</th>\n         <td>허지예</td>\n         <td>162.0</td>\n         <td>106.0000</td>\n         <td>95.2</td>\n         <td>98.580000</td>\n         <td>completed</td>\n         <td>7.420000</td>\n         <td>10.8000</td>\n         <td>40.390184</td>\n         <td>True</td>\n      </tr>\n      <tr>\n         <th>2YAKET8R</th>\n         <td>서승희</td>\n         <td>164.0</td>\n         <td>99.8000</td>\n         <td>86.4</td>\n         <td>92.814000</td>\n         <td>completed</td>\n         <td>6.986000</td>\n         <td>13.4000</td>\n         <td>37.105889</td>\n         <td>True</td>\n      </tr>\n      <tr>\n         <th>LDPPDM0M</th>\n         <td>윤지안</td>\n         <td>168.0</td>\n         <td>93.1000</td>\n         <td>65.5</td>\n         <td>69.000000</td>\n         <td>completed</td>\n         <td>24.100000</td>\n         <td>27.6000</td>\n         <td>32.986111</td>\n         <td>True</td>\n      </tr>\n      <tr>\n         <th>PKHJWII8</th>\n         <td>정선영</td>\n         <td>170.0</td>\n         <td>95.0000</td>\n         <td>75.7</td>\n         <td>85.000000</td>\n         <td>completed</td>\n         <td>10.000000</td>\n         <td>19.3000</td>\n         <td>32.871972</td>\n         <td>True</td>\n      </tr>\n      <tr>\n         <th>3B3WQA4A</th>\n         <td>홍슬비</td>\n         <td>158.0</td>\n         <td>84.0000</td>\n         <td>69.3</td>\n         <td>75.000000</td>\n         <td>completed</td>\n         <td>9.000000</td>\n         <td>14.7000</td>\n         <td>33.648454</td>\n         <td>True</td>\n      </tr>\n      <tr>\n         <th>SDY4VS0P</th>\n         <td>오채현</td>\n         <td>170.0</td>\n         <td>103.1000</td>\n         <td>57.1</td>\n         <td>100.099998</td>\n         <td>completed</td>\n         <td>3.000001</td>\n         <td>46.0000</td>\n         <td>35.674740</td>\n         <td>True</td>\n      </tr>\n   </tbody>\n</table>"
    },
    {
      "metadata": {
        "colab_type": "code",
        "id": "ofOYn26Vxs6c",
        "outputId": "c6e2c400-9a89-452f-9fe4-567c6fb37a8c",
        "colab": {},
        "trusted": true
      },
      "cell_type": "code",
      "source": "# Write your code here!\ncols = ['Weight Loss(goal)', 'Weight Loss(current)', 'BMI']\n\ndef clean_vip(user):\n    if user['Status'] == 'completed':\n        if user[cols].isnull().all() == False:\n            if (user['Weight Loss(current)'] > 10):\n                if (user['BMI'] > 30):\n                    if (user['Weight Loss(current)'] > user['Weight Loss(goal)']):\n                        return True\n                    else:\n                        return False\n    \n    \ndata_vip['VIP'] = data_vip.apply(clean_vip, axis=1)\n\ndata_vip[data_vip['VIP'] == True]    ",
      "execution_count": null,
      "outputs": []
    },
    {
      "metadata": {
        "colab_type": "text",
        "id": "rQ4DePqWxs6o"
      },
      "cell_type": "markdown",
      "source": "분석 결과 총 15명(임솔지, 홍윤오, 류선정, 서서원, 홍서율, 고서연, 손서애, 문세영, 황수윤, 허지예, 서승희, 윤지안, 정선영, 홍슬비, 오채현)의 VIP 사용자를 발견했습니다. 홍보팀에서는 이 사용자들에게 개별적으로 컨택할 것이며, 눔 코치를 더 만족스럽게 이용할 수 있는 각종 혜택을 조건으로, 눔 코치의 홍보모델로 활동할 것을 제안할 것입니다.\n\n이 사용자들이 제안을 거절할 경우를 대비해서, 조건을 완화한 VIP 사용자(가령 최종 감량치(```Weight Loss(current)```)가 10kg -> 7kg 이상)를 찾야아 할 수도 있을 것입니다. (하지만 마찬가지로 이는 수업 범위 외이므로 패스하겠습니다)"
    },
    {
      "metadata": {
        "colab_type": "text",
        "id": "a48rZ7Wyxs6s"
      },
      "cell_type": "markdown",
      "source": "## 결제 체크\n\n이번에는 마케팅팀의 요청을 살펴보도록 하겠습니다.\n\n눔 코치와 같은 서비스에서 가장 중요시 여기는 지표는 크게 두 가지입니다.\n\n  1. 한 명의 고객을 데려오는데 필요한 비용, 줄여서 고객 획득 비용(Customer Acquision Cost, 이하 **[CAC](https://neilpatel.com/blog/customer-acquisition-cost/)**)\n  2. 한 명의 고객을 데려왔을 때, 고객이 회사에게 제공해주는 수익(Customer Lifetime Value, 이하 **[LTV](https://en.wikipedia.org/wiki/Customer_lifetime_value)**)\n  \n눔 코치에 헌신하는 모든 팀은 LTV를 최대한 높이고, 동시에 CAC를 최대한 낮추는 쪽으로 서비스를 개선합니다. 마케팅 팀 입장에서도 마찬가지입니다. 마케팅팀은 가능한 적은 비용을 지출하여 고객을 눔 코치에 유입시켜야 하며(CAC), 같은 CAC라면 이왕이면 회사에 많은 수익을 남겨주는 고객을 유입해야 합니다. (LTV)\n\n이 과정에서 데이터 분석가(Data Analyst)의 역할은 매우 중요합니다. 데이터분석가는 마케팅팀에게 올바른 지표와 데이터 분석 결과를 제공해줌으로써 그들의 목적을 달성하는데 큰 도움을 줄 수 있습니다. 마케팅팀이 데이터분석가에게 요청하는 내용은 다음과 같습니다.\n\n  * LTV가 높은 고객군의 인구통계학적 정보. 가령 눔 코치와 같은 다이어트 서비스에서는 남성보다 여성이 서비스의 만족도가 높고 많은 지출을 할 가능성이 있습니다. 이 경우, 페이스북 마케팅을 할 때 여성 고객들에게 집중적으로 광고를 보여주도록 타게팅 할 수 있습니다.\n  * 요일/시간별 결제 비율. 가령 주중보다 주말에 결제할 확률이 높다면, 서비스를 유료로 결제할 의사가 있는 고객들에게 주말에 결제를 유도하는 메일을 보낼 수 있습니다.\n  \n이러한 요청을 종합하며, 마케팅팀의 의사결정에 도움이 될 수 있는 정보를 뽑아보도록 하겠습니다."
    },
    {
      "metadata": {
        "colab_type": "text",
        "id": "jijqdWtwxs6w"
      },
      "cell_type": "markdown",
      "source": "**9. 결제 / 캔슬 / 환불의 총 인원 수와 비율을 구해주세요.**\n\n먼저 가장 기본적인 정보는 결제 / 캔슬 / 환불 비율입니다. 전체 사용자 중에서, 1) 서비스를 유료로 이용중인 사람(completed), 2) 서비스를 더 이상 이용하지 않고 캔슬한 사람(cancelled) / 3) 서비스를 결제했으나 환불한 사람(refunded)의 비율을 알고 싶습니다. 가령 1) 번은 5400명, 2) 번은 4010명, 3) 번은 590명이 나와야 합니다."
    },
    {
      "metadata": {
        "colab_type": "code",
        "id": "I3MpFaxsxs60",
        "outputId": "e278c77d-3e52-4b58-93a5-37da75728885",
        "colab": {},
        "trusted": true
      },
      "cell_type": "code",
      "source": "# .value_counts() 를 통해 Status의 종류와 그 누적 갯수를 출력합니다.\ndata[\"Status\"].value_counts()",
      "execution_count": null,
      "outputs": []
    },
    {
      "metadata": {
        "colab_type": "text",
        "id": "aoKEz8MGxs6-"
      },
      "cell_type": "markdown",
      "source": "**10. 성별과 나이별 결제 / 캔슬 / 환불의 총 인원 수와 비율을 구해주세요.**\n\n9번의 연장선상으로, 이번에는 1) 성별(남자/여자), 2) 나이에 따른 결제/캔슬/환불 비율을 알고 싶습니다. 나이의 경우 다음의 기준으로 그룹을 나눌려고 합니다.\n\n1. 17세 이하\n2. 18세 이상, 24세 이하\n3. 25세 이상, 35세 이하\n4. 36세 이상, 44세 이하\n5. 45세 이상, 54세 이하\n6. 55세 이상\n\n이렇게 인구통계학적 정보로 결제/캔슬/환불 비율을 확인하면, 마케팅팀에서는 가장 결제가 많이 일어나고 캔슬/환불이 적게 일어나는 성별과 나이에 마케팅 예산을 투입할 수 있습니다. (반대로 캔슬/환불이 빈번하게 일어나는 성별/나이에 해당하는 고객에는 마케팅 예산을 적게 집행할 것입니다)\n\n그러므로 성별/나이를 기준으로 결제/캔슬/환불 비율을 구해주세요. 최종적으로 다음의 결과가 나와야 합니다. (여기서 total은 총 인원 수, conversion은 결제 확률을 나타냅니다)\n\nPS) 주의: 여기서부터는 판다스의 [pivot_table](https://pandas.pydata.org/pandas-docs/stable/generated/pandas.pivot_table.html)을 자세히 이해하는 것이 중요합니다. [다음의 링크](https://pandas.pydata.org/pandas-docs/stable/generated/pandas.pivot_table.html)를 잘 읽어보시는 걸 추천드리고, 여기서부터는 구글 검색을 적극적으로 활용하는 것을 추천 드립니다."
    },
    {
      "metadata": {
        "colab_type": "text",
        "id": "1rQiZmM5xs7A"
      },
      "cell_type": "markdown",
      "source": "<table border=\"1\" class=\"dataframe\" style=\"float: left;\">\n   <thead>\n      <tr style=\"text-align: right;\">\n         <th></th>\n         <th>Status</th>\n         <th>cancelled</th>\n         <th>completed</th>\n         <th>refunded</th>\n         <th>total</th>\n         <th>conversion</th>\n      </tr>\n      <tr>\n         <th>Gender(clean)</th>\n         <th>Age(Group)</th>\n         <th></th>\n         <th></th>\n         <th></th>\n         <th></th>\n         <th></th>\n      </tr>\n   </thead>\n   <tbody>\n      <tr>\n         <th rowspan=\"6\" valign=\"top\">female</th>\n         <th>00 ~ 17</th>\n         <td>25</td>\n         <td>35</td>\n         <td>3</td>\n         <td>63</td>\n         <td>0.555556</td>\n      </tr>\n      <tr>\n         <th>18 ~ 24</th>\n         <td>1637</td>\n         <td>1827</td>\n         <td>149</td>\n         <td>3613</td>\n         <td>0.505674</td>\n      </tr>\n      <tr>\n         <th>25 ~ 35</th>\n         <td>1664</td>\n         <td>2288</td>\n         <td>271</td>\n         <td>4223</td>\n         <td>0.541795</td>\n      </tr>\n      <tr>\n         <th>36 ~ 44</th>\n         <td>206</td>\n         <td>421</td>\n         <td>46</td>\n         <td>673</td>\n         <td>0.625557</td>\n      </tr>\n      <tr>\n         <th>45 ~ 54</th>\n         <td>74</td>\n         <td>160</td>\n         <td>25</td>\n         <td>259</td>\n         <td>0.617761</td>\n      </tr>\n      <tr>\n         <th>55 ~ 99</th>\n         <td>0</td>\n         <td>5</td>\n         <td>0</td>\n         <td>5</td>\n         <td>1.000000</td>\n      </tr>\n      <tr>\n         <th rowspan=\"6\" valign=\"top\">male</th>\n         <th>00 ~ 17</th>\n         <td>3</td>\n         <td>1</td>\n         <td>0</td>\n         <td>4</td>\n         <td>0.250000</td>\n      </tr>\n      <tr>\n         <th>18 ~ 24</th>\n         <td>80</td>\n         <td>100</td>\n         <td>11</td>\n         <td>191</td>\n         <td>0.523560</td>\n      </tr>\n      <tr>\n         <th>25 ~ 35</th>\n         <td>235</td>\n         <td>404</td>\n         <td>57</td>\n         <td>696</td>\n         <td>0.580460</td>\n      </tr>\n      <tr>\n         <th>36 ~ 44</th>\n         <td>21</td>\n         <td>72</td>\n         <td>9</td>\n         <td>102</td>\n         <td>0.705882</td>\n      </tr>\n      <tr>\n         <th>45 ~ 54</th>\n         <td>9</td>\n         <td>13</td>\n         <td>3</td>\n         <td>25</td>\n         <td>0.520000</td>\n      </tr>\n      <tr>\n         <th>55 ~ 99</th>\n         <td>0</td>\n         <td>1</td>\n         <td>0</td>\n         <td>1</td>\n         <td>1.000000</td>\n      </tr>\n   </tbody>\n</table>"
    },
    {
      "metadata": {
        "id": "ZVHWkuFV7KFy",
        "colab_type": "code",
        "outputId": "f4d7e07d-bfe0-44d4-bb55-fcea230069df",
        "colab": {},
        "trusted": true
      },
      "cell_type": "code",
      "source": "data",
      "execution_count": null,
      "outputs": []
    },
    {
      "metadata": {
        "colab_type": "code",
        "id": "2Tbs-emmxs7D",
        "outputId": "8e053a79-bfab-4047-ceae-a55658f8008a",
        "colab": {},
        "trusted": true
      },
      "cell_type": "code",
      "source": "# Write your code here!\ndef group_age(user):\n    if (user['Age(clean)'] >= 0) & (user['Age(clean)'] <= 17):\n        return '00~17'\n    elif (user['Age(clean)'] >= 18) & (user['Age(clean)'] <= 24):\n        return '18~24'\n    elif (user['Age(clean)'] >= 24) & (user['Age(clean)'] <= 35):\n        return '24~35'\n    elif (user['Age(clean)'] >= 36) & (user['Age(clean)'] <= 44):\n        return '36~44'\n    elif (user['Age(clean)'] >= 45) & (user['Age(clean)'] <= 54):\n        return '45~54'\n    elif (user['Age(clean)'] >= 55) & (user['Age(clean)'] <= 99):\n        return '55~99'\n    \ndata['Age(Group)'] = data.apply(group_age, axis=1)\n\n\npd.pivot_table(data, index=['Gender(clean)', 'Age(Group)'], columns=['Status'],\\\n                aggfunc=lambda x : sum(x.unique()))\n",
      "execution_count": null,
      "outputs": []
    },
    {
      "metadata": {
        "colab_type": "text",
        "id": "WhNJl6ILxs7K"
      },
      "cell_type": "markdown",
      "source": "분석 결과는 다음과 같습니다.\n\n  * 가장 많은 양의 결제가 일어난 구간은 여성 25 ~ 35세입니다. 총 2288개로, 결제 완료의 40% 이상이 이 구간에서 발생했습니다. 심지어 전환율(conversion)도 54.1%로 평균 이상입니다.\n  * 또한 어느 정도 모수가 받쳐주는(결제 완료 100회 이상) 채널 중 이보다 전환율이 높은 채널은 1) 여성 36 ~ 54세, 2) 남성 25 ~ 35세, 3) 남성 36 ~ 44세 입니다. 이 채널들은 전환율이 60% 이상으로 매우 높습니다.\n  * 다만 이 채널들의 총 결제자(total)가 낮다는 것은 1) 아직 이 마케팅 채널이 최적화가 덜 되었거나, 2) 고객 획득 비용(CAC)이 높은 편이라 마케팅 비용을 늘리지 않았을 가능성이 있습니다. 또한 아주 희소한 경우이지만, 3) 주 마케팅 채널(ex: 페이스북)에 위 채널에 해당하는 고객의 인원수가 부족할 수도 있습니다.\n\n이런 상황에서, 데이터분석가는 퍼포먼스 마케터와 함께 다음의 아이디어를 제시하여 회사의 매출을 증대할 수 있습니다.\n\n  * 마케팅 예산을 여성 36 ~ 54세쪽에 집중한다. 이 채널이 전환율이 높기 때문에, CAC가 여성 25 ~ 35세와 동일하다면 여성 36 ~ 54세에 마케팅 예산을 늘리는 것은 좋은 전략입니다.\n  * 여성 36 ~ 54세 채널의 CAC가 상대적으로 높다면, 이 CAC을 낮추는 시도를 합니다. 이 전략이 성공하면 그 후에 마케팅 예산을 집중하는 것도 방법입니다.\n  * 현재 이용하고 있는 광고 채널을 다각화하여, 여성 36 ~ 54세가 활동하는 곳에 집중적으로 마케팅 예산을 투입하는 것도 시도해볼만 합니다."
    },
    {
      "metadata": {
        "colab_type": "text",
        "id": "5dNCUoiuxs7N"
      },
      "cell_type": "markdown",
      "source": "**11. 날짜와 요일 / 시간별 결제 / 캔슬 / 환불 비율을 구해주세요.**\n\n이번에는 시간 정보를 기준으로 결제/캔슬/환불 비율을 알아보겠습니다. 크게 다음의 상황에 따른 구매 여부를 알고 싶습니다.\n\n  1. 시간별 구매 현황(0시 ~ 23시)\n  2. 요일별 구매 현황(월요일 ~ 일요일)\n  \n마케팅팀이 이 정보를 파악할 수 있다면, 1) 전환율이 높은 시기에 마케팅 예산 투입 비중을 줄이고/늘려서 CAC를 낮추거나, 2) 특정 시간대에 눔 코치의 유로 서비스를 아직 구매하지 않은 무료 사용자에게 유료 서비스 구매를 유도하는 메일을 보내서 매출을 늘릴 것입니다.\n\n크게 다음의 내용을 구해주세요.\n\n1. 0시 ~ 23시 사이의 결제/캔슬/환불 비율.\n2. 월요일-일요일 사이의 결제/캔슬/환불 비율."
    },
    {
      "metadata": {
        "colab_type": "text",
        "id": "xgZ-8K6oxs7Q"
      },
      "cell_type": "markdown",
      "source": "0시 ~ 23시 사이의 결제/캔슬/환불 비율은 최종적으로 다음의 결과가 나와야 합니다.\n\n<table border=\"1\" class=\"dataframe\" style=\"float: left;\">\n   <thead>\n      <tr style=\"text-align: right;\">\n         <th>Status</th>\n         <th>cancelled</th>\n         <th>completed</th>\n         <th>refunded</th>\n         <th>total</th>\n         <th>conversion</th>\n      </tr>\n      <tr>\n         <th>Purchased At(hour)</th>\n         <th></th>\n         <th></th>\n         <th></th>\n         <th></th>\n         <th></th>\n      </tr>\n   </thead>\n   <tbody>\n      <tr>\n         <th>0</th>\n         <td>236</td>\n         <td>344</td>\n         <td>26</td>\n         <td>606</td>\n         <td>0.567657</td>\n      </tr>\n      <tr>\n         <th>1</th>\n         <td>156</td>\n         <td>207</td>\n         <td>28</td>\n         <td>391</td>\n         <td>0.529412</td>\n      </tr>\n      <tr>\n         <th>2</th>\n         <td>90</td>\n         <td>97</td>\n         <td>4</td>\n         <td>191</td>\n         <td>0.507853</td>\n      </tr>\n      <tr>\n         <th>3</th>\n         <td>58</td>\n         <td>66</td>\n         <td>5</td>\n         <td>129</td>\n         <td>0.511628</td>\n      </tr>\n      <tr>\n         <th>4</th>\n         <td>59</td>\n         <td>45</td>\n         <td>7</td>\n         <td>111</td>\n         <td>0.405405</td>\n      </tr>\n      <tr>\n         <th>5</th>\n         <td>36</td>\n         <td>47</td>\n         <td>6</td>\n         <td>89</td>\n         <td>0.528090</td>\n      </tr>\n      <tr>\n         <th>6</th>\n         <td>48</td>\n         <td>70</td>\n         <td>6</td>\n         <td>124</td>\n         <td>0.564516</td>\n      </tr>\n      <tr>\n         <th>7</th>\n         <td>80</td>\n         <td>114</td>\n         <td>20</td>\n         <td>214</td>\n         <td>0.532710</td>\n      </tr>\n      <tr>\n         <th>8</th>\n         <td>171</td>\n         <td>264</td>\n         <td>29</td>\n         <td>464</td>\n         <td>0.568966</td>\n      </tr>\n      <tr>\n         <th>9</th>\n         <td>162</td>\n         <td>239</td>\n         <td>36</td>\n         <td>437</td>\n         <td>0.546911</td>\n      </tr>\n      <tr>\n         <th>10</th>\n         <td>208</td>\n         <td>323</td>\n         <td>38</td>\n         <td>569</td>\n         <td>0.567663</td>\n      </tr>\n      <tr>\n         <th>11</th>\n         <td>212</td>\n         <td>263</td>\n         <td>27</td>\n         <td>502</td>\n         <td>0.523904</td>\n      </tr>\n      <tr>\n         <th>12</th>\n         <td>205</td>\n         <td>235</td>\n         <td>36</td>\n         <td>476</td>\n         <td>0.493697</td>\n      </tr>\n      <tr>\n         <th>13</th>\n         <td>205</td>\n         <td>286</td>\n         <td>41</td>\n         <td>532</td>\n         <td>0.537594</td>\n      </tr>\n      <tr>\n         <th>14</th>\n         <td>192</td>\n         <td>253</td>\n         <td>20</td>\n         <td>465</td>\n         <td>0.544086</td>\n      </tr>\n      <tr>\n         <th>15</th>\n         <td>187</td>\n         <td>231</td>\n         <td>14</td>\n         <td>432</td>\n         <td>0.534722</td>\n      </tr>\n      <tr>\n         <th>16</th>\n         <td>187</td>\n         <td>235</td>\n         <td>26</td>\n         <td>448</td>\n         <td>0.524554</td>\n      </tr>\n      <tr>\n         <th>17</th>\n         <td>180</td>\n         <td>246</td>\n         <td>26</td>\n         <td>452</td>\n         <td>0.544248</td>\n      </tr>\n      <tr>\n         <th>18</th>\n         <td>194</td>\n         <td>260</td>\n         <td>20</td>\n         <td>474</td>\n         <td>0.548523</td>\n      </tr>\n      <tr>\n         <th>19</th>\n         <td>163</td>\n         <td>269</td>\n         <td>36</td>\n         <td>468</td>\n         <td>0.574786</td>\n      </tr>\n      <tr>\n         <th>20</th>\n         <td>184</td>\n         <td>236</td>\n         <td>22</td>\n         <td>442</td>\n         <td>0.533937</td>\n      </tr>\n      <tr>\n         <th>21</th>\n         <td>231</td>\n         <td>329</td>\n         <td>32</td>\n         <td>592</td>\n         <td>0.555743</td>\n      </tr>\n      <tr>\n         <th>22</th>\n         <td>248</td>\n         <td>332</td>\n         <td>41</td>\n         <td>621</td>\n         <td>0.534622</td>\n      </tr>\n      <tr>\n         <th>23</th>\n         <td>318</td>\n         <td>409</td>\n         <td>44</td>\n         <td>771</td>\n         <td>0.530480</td>\n      </tr>\n   </tbody>\n</table>"
    },
    {
      "metadata": {
        "colab_type": "text",
        "id": "V4BUGUrxxs7U"
      },
      "cell_type": "markdown",
      "source": "월요일-일요일 사이의 결제/캔슬/환불 비율은 최종적으로 다음의 결과가 나와야 합니다.\n\n<table border=\"1\" class=\"dataframe\" style=\"float: left;\">\n   <thead>\n      <tr style=\"text-align: right;\">\n         <th>Status</th>\n         <th>cancelled</th>\n         <th>completed</th>\n         <th>refunded</th>\n         <th>total</th>\n         <th>conversion</th>\n      </tr>\n      <tr>\n         <th>Purchased At(weekday)</th>\n         <th></th>\n         <th></th>\n         <th></th>\n         <th></th>\n         <th></th>\n      </tr>\n   </thead>\n   <tbody>\n      <tr>\n         <th>Monday</th>\n         <td>691</td>\n         <td>863</td>\n         <td>93</td>\n         <td>1647</td>\n         <td>0.523983</td>\n      </tr>\n      <tr>\n         <th>Tuesday</th>\n         <td>694</td>\n         <td>935</td>\n         <td>102</td>\n         <td>1731</td>\n         <td>0.540150</td>\n      </tr>\n      <tr>\n         <th>Wednesday</th>\n         <td>679</td>\n         <td>953</td>\n         <td>90</td>\n         <td>1722</td>\n         <td>0.553426</td>\n      </tr>\n      <tr>\n         <th>Thursday</th>\n         <td>616</td>\n         <td>813</td>\n         <td>88</td>\n         <td>1517</td>\n         <td>0.535926</td>\n      </tr>\n      <tr>\n         <th>Friday</th>\n         <td>490</td>\n         <td>674</td>\n         <td>56</td>\n         <td>1220</td>\n         <td>0.552459</td>\n      </tr>\n      <tr>\n         <th>Saturday</th>\n         <td>412</td>\n         <td>537</td>\n         <td>73</td>\n         <td>1022</td>\n         <td>0.525440</td>\n      </tr>\n      <tr>\n         <th>Sunday</th>\n         <td>428</td>\n         <td>625</td>\n         <td>88</td>\n         <td>1141</td>\n         <td>0.547765</td>\n      </tr>\n   </tbody>\n</table>"
    },
    {
      "metadata": {
        "colab_type": "code",
        "id": "P99Z9pl4xs7Y",
        "colab": {},
        "trusted": true
      },
      "cell_type": "code",
      "source": "# Write your code here!",
      "execution_count": null,
      "outputs": []
    },
    {
      "metadata": {
        "colab_type": "text",
        "id": "jcxzyrugxs7h"
      },
      "cell_type": "markdown",
      "source": "분석 결과는 다음과 같습니다.\n\n  * 아쉽게도, 구매 시간별 전환율(conversion)은 큰 차이가 없어 보입니다, 그 의미는 특정 시간대에 구매한 사용자들이 서비스를 이탈할 확률이 높아지거나 낮아지는 현상은 없다고 볼 수 있습니다.\n  * 다만 전환율과는 별개로, 주로 점심시간(10시 ~ 12시)나 새벽(23시 ~ 24시)에 구매량이 대폭 늘어난다는 것을 알 수 있습니다. 만일 광고 예산을 집행한다면 이 시기에 집중적으로 집행하거나, 무료 사용자에게 유료 사용자로 전환을 유도하는 이메일을 보냄으로써 전환율을 높이는 것은 시도해볼만 합니다."
    },
    {
      "metadata": {
        "colab_type": "text",
        "collapsed": true,
        "id": "pmeHYvN2xs7j"
      },
      "cell_type": "markdown",
      "source": "월요일-일요일 사이의 결제/캔슬/환불 비율은 다음의 방식으로 구할 수 있습니다."
    },
    {
      "metadata": {
        "colab_type": "code",
        "id": "Ir7AmZ_pxs7l",
        "colab": {},
        "trusted": true
      },
      "cell_type": "code",
      "source": "# Write your code here!",
      "execution_count": null,
      "outputs": []
    },
    {
      "metadata": {
        "colab_type": "text",
        "id": "n20gktPsxs7v"
      },
      "cell_type": "markdown",
      "source": "분석 결과는 다음과 같습니다.\n\n  * 구매 시간과 마찬가지로, 구매 요일별 전환율(conversion)은 큰 차이가 없어 보입니다. 어느 요일이나 마찬가지로, 구매한 사람이 서비스를 이탈하거나 남을 확률은 거의 동일합니다.\n  * 하지만 사용자들은 전반적으로 주말(금-일)이 다가올수록 구매를 덜 하게되고, 주중(월-수)이 다가올수록 구매를 많이 하게 되는 현상을 발견할 수 있습니다. 이 시기에 광고 예산을 크게 집행하거나, 구매를 유도하는 메일이나 모바일 노티피케이션을 보내는 것은 좋은 아이디어입니다."
    },
    {
      "metadata": {
        "colab_type": "text",
        "id": "SAJsGuGKxs73"
      },
      "cell_type": "markdown",
      "source": "**12. 채널별 결제 / 캔슬 / 환불 비율을 알고 싶다.**\n\n이번에는 마케팅 채널별 결제/캔슬/환불 비율을 알고 싶습니다. 현재 눔에서 눔코치를 위해 운영중인 마케팅 채널은 크게 다음과 같습니다."
    },
    {
      "metadata": {
        "colab_type": "code",
        "id": "rCeLpNFKxs76",
        "outputId": "af85a5c4-f369-4ae6-c054-de3fd6023273",
        "colab": {},
        "trusted": true
      },
      "cell_type": "code",
      "source": "data[\"Channel\"].value_counts()",
      "execution_count": null,
      "outputs": []
    },
    {
      "metadata": {
        "colab_type": "text",
        "id": "2eaUTXMUxs8C"
      },
      "cell_type": "markdown",
      "source": "이 채널별 마케팅 효율 정보를 알 수 있다면, 마케팅 팀에서 마케팅 예산을 재조정하여 1) 마케팅 효율이 좋은 채널에 예산을 집중하고, 2) 반대로 마케팅 효율이 좋지 않은 채널에 예산을 빼는 재조정(rebalancing)을 할 수 있습니다.\n\n그러므로 채널별 마케팅 결제/캔슬/환불 현황을 구해주세요. 최종적으로는 다음의 결과가 출력되어야 합니다.\n\n<table border=\"1\" class=\"dataframe\" style=\"float: left;\">\n   <thead>\n      <tr style=\"text-align: right;\">\n         <th>Status</th>\n         <th>cancelled</th>\n         <th>completed</th>\n         <th>refunded</th>\n         <th>total</th>\n         <th>conversion</th>\n      </tr>\n      <tr>\n         <th>Channel</th>\n         <th></th>\n         <th></th>\n         <th></th>\n         <th></th>\n         <th></th>\n      </tr>\n   </thead>\n   <tbody>\n      <tr>\n         <th>direct</th>\n         <td>119</td>\n         <td>169</td>\n         <td>9</td>\n         <td>297</td>\n         <td>0.569024</td>\n      </tr>\n      <tr>\n         <th>email</th>\n         <td>93</td>\n         <td>155</td>\n         <td>23</td>\n         <td>271</td>\n         <td>0.571956</td>\n      </tr>\n      <tr>\n         <th>facebook</th>\n         <td>2812</td>\n         <td>3654</td>\n         <td>414</td>\n         <td>6880</td>\n         <td>0.531105</td>\n      </tr>\n      <tr>\n         <th>google</th>\n         <td>42</td>\n         <td>66</td>\n         <td>12</td>\n         <td>120</td>\n         <td>0.550000</td>\n      </tr>\n      <tr>\n         <th>instagram</th>\n         <td>13</td>\n         <td>17</td>\n         <td>3</td>\n         <td>33</td>\n         <td>0.515152</td>\n      </tr>\n      <tr>\n         <th>naver</th>\n         <td>386</td>\n         <td>568</td>\n         <td>55</td>\n         <td>1009</td>\n         <td>0.562934</td>\n      </tr>\n      <tr>\n         <th>others</th>\n         <td>545</td>\n         <td>771</td>\n         <td>74</td>\n         <td>1390</td>\n         <td>0.554676</td>\n      </tr>\n   </tbody>\n</table>"
    },
    {
      "metadata": {
        "colab_type": "code",
        "id": "XOnm_C0Ixs8E",
        "colab": {},
        "trusted": true
      },
      "cell_type": "code",
      "source": "# Write your code here!",
      "execution_count": null,
      "outputs": []
    },
    {
      "metadata": {
        "colab_type": "text",
        "id": "RGjl84vsxs8P"
      },
      "cell_type": "markdown",
      "source": "이 결과를 통해 알 수 있는 정보는 다음과 같습니다.\n\n  * 현재 가장 많은 구매가 일어나는 채널은 페이스북(facebook) 입니다. 거의 대부분의 구매가 이 채널에서 일어났습니다.\n  * 구매량이 100회 이상인 채널 중 가장 전환율이 높은 채널은 이메일(email) 입니다. 이 채널은 사용자가 눔의 웹사이트에 방문한 뒤, 바로 구매하지 않고 이메일 주소만만 남겨놨을 경우에 해당됩니다.\n  * 아직 구매량이 페이스북만큼 많지는 않지만, 전환률이 페이스북보다 높은 채널 중 하나는 네이버(naver)입니다. 전환율이 56%로 페이스북보다 다소 높은 편입니다.\n  * 네이버만큼이나 전환율이 높은 채널은 기타(others)입니다. 이 채널은 결제율이 페이스북만큼 높음에도 불구하고, 아쉽게도 기록이 잘 되어있지 않기 때문에 분석이 어렵습니다.\n  \n이 분석 결과를 통해 얻을 수 있는 아이디어는 다음과 같습니다.\n  \n  * 먼저 내부에서 트래킹 코드나 데이터 클리닝 코드를 수정하여, 기타(others) 채널을 더 세분화시킬 필요가 있습니다. 기타 채널은 1) 페이스북 만큼이나 구매량이 많으며, 2) 전환율이 페이스북보다 높습니다. 이 채널을 더 세분화시켜 분석한다면 마케팅 효율을 높일 수 있는 새로운 아이디어가 나올 수 있습니다.\n  * 페이스북 다음으로 네이버 검색채널을 집중적으로 튜닝하거나 예산을 배정하여 마케팅 채널을 다각화할 수 있습니다.\n  * 이메일(email)로 들어온 사용자가 전환율이 높은 이유를 더 분석할 수 있다면 좋겠습니다. 추측컨데, 눔 코치에 대한 신뢰도를 높일 다양한 정보를 이메일로 수신하였기 때문에 다른 채널에 비해 전환율이 높다는 가설을 세울 수 있습니다. 이 가설이 맞다면, 눔 코치를 이용하는 다른 사용자에게도 동일한 정보를 제공한다면 전체 전환율을 높일 수 있을 것입니다."
    },
    {
      "metadata": {
        "colab_type": "text",
        "id": "timW74dSxs8S"
      },
      "cell_type": "markdown",
      "source": "### 코치 데이터와 매칭\n\n다음은 사용자 데이터와 코치 데이터를 합쳐서 분석해보겠습니다. 코치 데이터 분석에서 가장 중요한 것은, 좋은 코칭을 하는 사람과 그렇지 못한 사람을 구분하는 것입니다.\n\n코칭팀에서는 좋은 코칭을 하는 코치의 노하우를 정리하여 다른 코치들에게 전파할 필요가 있고, 정 반대로 좋지 않은 코칭을 하는 코치와는 개별 면담을 통해 코칭 퀄리티를 높여야 합니다. 좋은 코칭과 좋지 않은 코칭은 결제 비율과 캔슬 비율, 그리고 환불 비율로 판단할 수 있습니다.\n\n이번에는 데이터 분석을 통해 눔 코치 서비스의 코칭 만족도를 분석해보겠습니다."
    },
    {
      "metadata": {
        "colab_type": "code",
        "id": "A8PI9B-zxs8W",
        "outputId": "9e6f9c5d-1047-437a-fa50-0a990f93fa35",
        "colab": {},
        "trusted": true
      },
      "cell_type": "code",
      "source": "# 먼저 코칭 데이터를 가져옵니다.\n# 이 결과를 coach라는 이름의 변수에 할당합니다.\ncoach = pd.read_csv(\"data/noom/noom_coach.csv\", index_col=\"Access Code\")\n\n# coach 변수에 할당된 데이터의 행렬 사이즈를 출력합니다.\n# 출력은 (row, column) 으로 표시됩니다.\nprint(coach.shape)\n\n# coach 데이터의 상위 5개를 출력합니다.\ncoach.head()",
      "execution_count": null,
      "outputs": []
    },
    {
      "metadata": {
        "colab_type": "text",
        "id": "BUk7iPWkxs8g"
      },
      "cell_type": "markdown",
      "source": "여기서 인덱스(index)는 눔 코치 사용자들의 아이디(```Access Code```), 열(column)은 코치들의 이름과 아이디(```Access Code```)입니다. 값은 코치가 사용자에게 코칭을 한 횟수를 나타냅니다. (한 명의 사용자가 여러 명의 코치에게 코칭을 받는 것도 가능합니다)"
    },
    {
      "metadata": {
        "colab_type": "text",
        "id": "jiivK65Qxs8i"
      },
      "cell_type": "markdown",
      "source": "**13. 기존의 데이터와 코치 데이터를 합쳐주세요.** \n\n먼저 기존 데이터와 코치 데이터를 하나로 합쳐야 분석을 할 수 있습니다. 두 개의 데이터를 하나로 합쳐주세요. 판다스(Pandas)로 데이터를 합치는 방법은 [Merge, join, and concatenate](https://pandas.pydata.org/pandas-docs/stable/merging.html) 를 참고하시면 됩니다. 최종적으로는 다음의 결과가 출력되야 합니다."
    },
    {
      "metadata": {
        "colab_type": "text",
        "id": "UX1w_oIUxs8l"
      },
      "cell_type": "markdown",
      "source": "<table border=\"1\" class=\"dataframe\">\n   <thead>\n      <tr style=\"text-align: right;\">\n         <th></th>\n         <th>Name</th>\n         <th>Status</th>\n         <th>&#51221;&#51008;&#50724; &#53076;&#52824;(VEV4PGJB)</th>\n         <th>&#50724;&#49849;&#54785; &#53076;&#52824;(VENPKBP9)</th>\n         <th>&#51312;&#49548;&#51008; &#53076;&#52824;(D0WASBXN)</th>\n         <th>&#44256;&#50689;&#51116; &#53076;&#52824;(C91AVNGB)</th>\n         <th>&#51312;&#49688;&#48124; &#53076;&#52824;(OBCAO3W0)</th>\n         <th>&#44053;&#52292;&#50500; &#53076;&#52824;(WH2NIKCO)</th>\n         <th>&#54889;&#45796;&#54984; &#53076;&#52824;(1I6IWURH)</th>\n         <th>&#48177;&#49836;&#51008; &#53076;&#52824;(228BFB50)</th>\n         <th>&#50976;&#52292;&#50864; &#53076;&#52824;(IW53Y9AW)</th>\n         <th>&#49569;&#51648;&#49440; &#53076;&#52824;(WL0877P7)</th>\n         <th>&#54728;&#49457;&#50896; &#53076;&#52824;(9124O1IH)</th>\n         <th>&#52572;&#49436;&#50984; &#53076;&#52824;(UVZALFE3)</th>\n         <th>&#50980;&#52292;&#50980; &#53076;&#52824;(U95EGIDM)</th>\n         <th>&#54728;&#49836;&#51648; &#53076;&#52824;(DWVG5IFL)</th>\n         <th>&#44608;&#49836;&#48124; &#53076;&#52824;(CWI0ABRI)</th>\n         <th>&#51221;&#46041;&#51064; &#53076;&#52824;(UQN9899Z)</th>\n         <th>&#50724;&#49884;&#54788; &#53076;&#52824;(7XM3L93F)</th>\n         <th>&#44608;&#49436;&#51008; &#53076;&#52824;(FOT4SH4F)</th>\n         <th>&#47928;&#49440;&#50500; &#53076;&#52824;(W5AZL2WT)</th>\n         <th>&#44608;&#50980; &#52292; &#53076;&#52824;(COZ180VA)</th>\n         <th>&#50577;&#49436;&#50984; &#53076;&#52824;(A2A98OA6)</th>\n         <th>&#44428;&#49836;&#50689; &#53076;&#52824;(E3GD4106)</th>\n         <th>&#48149;&#49457;&#54788; &#53076;&#52824;(JKKV62JR)</th>\n         <th>&#51312;&#49444;&#50689; &#53076;&#52824;(U7L98DAO)</th>\n         <th>&#48177;&#49464;&#50896; &#53076;&#52824;(2Z1S5CYM)</th>\n         <th>&#51312;&#51648;&#50696; &#53076;&#52824;(ZA6B8Y4I)</th>\n         <th>&#54889;&#49444;&#50672; &#53076;&#52824;(RJEZWP8M)</th>\n         <th>&#50980;&#46020;&#50896; &#53076;&#52824;(IOVT84RW)</th>\n         <th>&#44428;&#49548;&#48124; &#53076;&#52824;(OM3X0HPF)</th>\n         <th>&#49552;&#49457;&#50500; &#53076;&#52824;(DE2CQ3UB)</th>\n         <th>&#47928;&#52292;&#54785; &#53076;&#52824;(9JP9WCLH)</th>\n         <th>&#49888;&#52292;&#49556; &#53076;&#52824;(01CM47G7)</th>\n         <th>&#50980;&#51456;&#54840; &#53076;&#52824;(RGSJNWC1)</th>\n         <th>&#54889;&#49884;&#51456; &#53076;&#52824;(M7EJJXFT)</th>\n         <th>&#48176;&#49836;&#48120; &#53076;&#52824;(ZT7MO305)</th>\n         <th>&#54728;&#49436;&#48712; &#53076;&#52824;(AKR0QZ53)</th>\n         <th>&#54728;&#50696;&#52268; &#53076;&#52824;(2F23UZOK)</th>\n         <th>&#44428;&#50980;&#54980; &#53076;&#52824;(2JNSCXG9)</th>\n         <th>&#48177;&#49464;&#48124; &#53076;&#52824;(P770M0WG)</th>\n         <th>&#51221;&#54952;&#51456; &#53076;&#52824;(W9MLRQ03)</th>\n         <th>&#49569;&#49836;&#55148; &#53076;&#52824;(UXFNB9P9)</th>\n         <th>&#51221;&#54952;&#49457; &#53076;&#52824;(E1RQ3HCM)</th>\n         <th>&#50724;&#49884;&#54785; &#53076;&#52824;(6NJXI005)</th>\n         <th>&#50724;&#46041;&#50756; &#53076;&#52824;(0O48DQCH)</th>\n         <th>&#51076;&#49836;&#51648; &#53076;&#52824;(TXKB5IPL)</th>\n         <th>&#51312;&#49436;&#50689; &#53076;&#52824;(0VG1N1M4)</th>\n         <th>&#48149;&#49457;&#48124; &#53076;&#52824;(Z3EDAX7O)</th>\n         <th>&#52572;&#51060;&#54984; &#53076;&#52824;(F9BXHUIW)</th>\n         <th>&#49888;&#52264;&#48124; &#53076;&#52824;(BXQNFYSE)</th>\n         <th>&#50504;&#52292;&#54788; &#53076;&#52824;(WEURSEW0)</th>\n         <th>&#51312;&#50864;&#52268; &#53076;&#52824;(WWN531JQ)</th>\n         <th>&#44608;&#52268;&#54785; &#53076;&#52824;(ZPKK20QU)</th>\n         <th>&#48176;&#49556;&#50980; &#53076;&#52824;(WC0AC6ME)</th>\n         <th>&#49569;&#51648;&#50504; &#53076;&#52824;(2MNIJN3F)</th>\n         <th>&#49552;&#52292;&#50500; &#53076;&#52824;(BL3GH0DR)</th>\n         <th>&#50504;&#49457;&#51008; &#53076;&#52824;(Z58HLXF1)</th>\n         <th>&#54620;&#46041;&#54620; &#53076;&#52824;(TSFSQH0A)</th>\n         <th>&#54889;&#49548;&#50689; &#53076;&#52824;(91YZ8NY0)</th>\n         <th>&#48177;&#49444;&#55148; &#53076;&#52824;(EAIJXNHP)</th>\n         <th>&#47928;&#49464;&#55148; &#53076;&#52824;(7NQPBZK3)</th>\n         <th>&#54889;&#51116;&#50864; &#53076;&#52824;(YIFMV1GQ)</th>\n         <th>&#51076;&#49836;&#48124; &#53076;&#52824;(GWF6MDWP)</th>\n         <th>&#48149;&#46020;&#50689; &#53076;&#52824;(I4KVQ5G0)</th>\n         <th>&#54728;&#49688;&#50672; &#53076;&#52824;(Z6YFPL34)</th>\n         <th>&#54728;&#51452;&#50896; &#53076;&#52824;(71T6JNK0)</th>\n         <th>&#51060;&#51648;&#50696; &#53076;&#52824;(Z77MI98E)</th>\n         <th>&#51109;&#51648;&#54952; &#53076;&#52824;(XBJH0VO3)</th>\n         <th>&#49888;&#49688;&#50672; &#53076;&#52824;(4274HJ8M)</th>\n         <th>&#50504;&#52292;&#50980; &#53076;&#52824;(IAYRGMJ2)</th>\n         <th>&#44608;&#50980;&#44508; &#53076;&#52824;(E7BBXJHO)</th>\n         <th>&#50724;&#49688;&#51652; &#53076;&#52824;(9ZKGH8EO)</th>\n         <th>&#48149;&#49436;&#50672; &#53076;&#52824;(5NXNMBCN)</th>\n         <th>&#51204;&#51648;&#50756; &#53076;&#52824;(P6QG38DS)</th>\n         <th>&#48177;&#52292;&#54984; &#53076;&#52824;(89CN5XHA)</th>\n         <th>&#48177;&#51008;&#49457; &#53076;&#52824;(WWFBXFX6)</th>\n         <th>&#47928;&#49548;&#50980; &#53076;&#52824;(2WDVTB40)</th>\n         <th>&#54620;&#46041;&#50696; &#53076;&#52824;(OD8IV4Q5)</th>\n         <th>&#44428;&#49884;&#50980; &#53076;&#52824;(4MEMXAVM)</th>\n         <th>&#51312;&#52488;&#50672; &#53076;&#52824;(3JBE9GKO)</th>\n         <th>&#51312;&#49688;&#50500; &#53076;&#52824;(V5CSCQ45)</th>\n         <th>&#44053;&#51648;&#55148; &#53076;&#52824;(NOEP7X8B)</th>\n         <th>&#47928;&#49849;&#54785; &#53076;&#52824;(6LHXIU5N)</th>\n         <th>&#48149;&#49457;&#51008; &#53076;&#52824;(4KO70A9P)</th>\n         <th>&#47928;&#49440;&#55148; &#53076;&#52824;(NTELEEEO)</th>\n         <th>&#44053;&#51008;&#50864; &#53076;&#52824;(EJIHL7OE)</th>\n         <th>&#51109;&#49849;&#55148; &#53076;&#52824;(85BWE3V1)</th>\n         <th>&#44256;&#49688;&#51060; &#53076;&#52824;(NKHXTMRU)</th>\n         <th>&#51204;&#51648;&#54788; &#53076;&#52824;(SQHB3H66)</th>\n         <th>&#49552;&#49688;&#50672; &#53076;&#52824;(Z5GQG6SI)</th>\n         <th>&#49888;&#49457;&#48712; &#53076;&#52824;(7CIDQT0X)</th>\n         <th>&#50724;&#52488;&#48712; &#53076;&#52824;(A3WOLAQM)</th>\n         <th>&#49436;&#49688;&#51221; &#53076;&#52824;(F36LORFC)</th>\n         <th>&#51221;&#49436;&#50984; &#53076;&#52824;(LX1G7EMD)</th>\n         <th>&#44256;&#50864;&#51116; &#53076;&#52824;(SKNL9Z4P)</th>\n         <th>&#47928;&#54620;&#44508; &#53076;&#52824;(OU1WVDGA)</th>\n         <th>&#54889;&#49464;&#50504; &#53076;&#52824;(3QUBQAVE)</th>\n         <th>&#54861;&#49457;&#51008; &#53076;&#52824;(2I3QJQ5O)</th>\n         <th>&#44256;&#49457;&#51008; &#53076;&#52824;(34T7XPYR)</th>\n         <th>&#48177;&#54620;&#50984; &#53076;&#52824;(HPWAN8R0)</th>\n         <th>&#50504;&#49836;&#51008; &#53076;&#52824;(QAVWJSZ1)</th>\n      </tr>\n      <tr>\n         <th>Access Code</th>\n         <th></th>\n         <th></th>\n         <th></th>\n         <th></th>\n         <th></th>\n         <th></th>\n         <th></th>\n         <th></th>\n         <th></th>\n         <th></th>\n         <th></th>\n         <th></th>\n         <th></th>\n         <th></th>\n         <th></th>\n         <th></th>\n         <th></th>\n         <th></th>\n         <th></th>\n         <th></th>\n         <th></th>\n         <th></th>\n         <th></th>\n         <th></th>\n         <th></th>\n         <th></th>\n         <th></th>\n         <th></th>\n         <th></th>\n         <th></th>\n         <th></th>\n         <th></th>\n         <th></th>\n         <th></th>\n         <th></th>\n         <th></th>\n         <th></th>\n         <th></th>\n         <th></th>\n         <th></th>\n         <th></th>\n         <th></th>\n         <th></th>\n         <th></th>\n         <th></th>\n         <th></th>\n         <th></th>\n         <th></th>\n         <th></th>\n         <th></th>\n         <th></th>\n         <th></th>\n         <th></th>\n         <th></th>\n         <th></th>\n         <th></th>\n         <th></th>\n         <th></th>\n         <th></th>\n         <th></th>\n         <th></th>\n         <th></th>\n         <th></th>\n         <th></th>\n         <th></th>\n         <th></th>\n         <th></th>\n         <th></th>\n         <th></th>\n         <th></th>\n         <th></th>\n         <th></th>\n         <th></th>\n         <th></th>\n         <th></th>\n         <th></th>\n         <th></th>\n         <th></th>\n         <th></th>\n         <th></th>\n         <th></th>\n         <th></th>\n         <th></th>\n         <th></th>\n         <th></th>\n         <th></th>\n         <th></th>\n         <th></th>\n         <th></th>\n         <th></th>\n         <th></th>\n         <th></th>\n         <th></th>\n         <th></th>\n         <th></th>\n         <th></th>\n         <th></th>\n         <th></th>\n         <th></th>\n         <th></th>\n         <th></th>\n         <th></th>\n      </tr>\n   </thead>\n   <tbody>\n      <tr>\n         <th>Y9RY2VSI</th>\n         <td>&#44608;&#49849;&#54812;</td>\n         <td>completed</td>\n         <td>0</td>\n         <td>0</td>\n         <td>0</td>\n         <td>0</td>\n         <td>0</td>\n         <td>0</td>\n         <td>0</td>\n         <td>0</td>\n         <td>0</td>\n         <td>0</td>\n         <td>0</td>\n         <td>0</td>\n         <td>0</td>\n         <td>0</td>\n         <td>0</td>\n         <td>0</td>\n         <td>0</td>\n         <td>0</td>\n         <td>0</td>\n         <td>0</td>\n         <td>0</td>\n         <td>0</td>\n         <td>0</td>\n         <td>0</td>\n         <td>0</td>\n         <td>0</td>\n         <td>0</td>\n         <td>0</td>\n         <td>0</td>\n         <td>0</td>\n         <td>0</td>\n         <td>0</td>\n         <td>0</td>\n         <td>0</td>\n         <td>0</td>\n         <td>0</td>\n         <td>0</td>\n         <td>0</td>\n         <td>0</td>\n         <td>0</td>\n         <td>0</td>\n         <td>0</td>\n         <td>0</td>\n         <td>0</td>\n         <td>0</td>\n         <td>0</td>\n         <td>0</td>\n         <td>0</td>\n         <td>0</td>\n         <td>0</td>\n         <td>0</td>\n         <td>0</td>\n         <td>0</td>\n         <td>0</td>\n         <td>0</td>\n         <td>0</td>\n         <td>0</td>\n         <td>0</td>\n         <td>0</td>\n         <td>0</td>\n         <td>0</td>\n         <td>0</td>\n         <td>0</td>\n         <td>0</td>\n         <td>0</td>\n         <td>0</td>\n         <td>0</td>\n         <td>0</td>\n         <td>0</td>\n         <td>0</td>\n         <td>0</td>\n         <td>0</td>\n         <td>0</td>\n         <td>0</td>\n         <td>0</td>\n         <td>0</td>\n         <td>0</td>\n         <td>0</td>\n         <td>0</td>\n         <td>0</td>\n         <td>0</td>\n         <td>0</td>\n         <td>0</td>\n         <td>0</td>\n         <td>0</td>\n         <td>0</td>\n         <td>0</td>\n         <td>0</td>\n         <td>0</td>\n         <td>0</td>\n         <td>0</td>\n         <td>0</td>\n         <td>0</td>\n         <td>1</td>\n         <td>0</td>\n         <td>0</td>\n         <td>0</td>\n         <td>0</td>\n         <td>0</td>\n         <td>0</td>\n      </tr>\n      <tr>\n         <th>3GTN3S3B</th>\n         <td>&#54728;&#49849;&#51456;</td>\n         <td>completed</td>\n         <td>0</td>\n         <td>0</td>\n         <td>0</td>\n         <td>0</td>\n         <td>0</td>\n         <td>0</td>\n         <td>0</td>\n         <td>0</td>\n         <td>0</td>\n         <td>0</td>\n         <td>0</td>\n         <td>0</td>\n         <td>0</td>\n         <td>0</td>\n         <td>0</td>\n         <td>0</td>\n         <td>0</td>\n         <td>0</td>\n         <td>0</td>\n         <td>0</td>\n         <td>0</td>\n         <td>0</td>\n         <td>0</td>\n         <td>0</td>\n         <td>0</td>\n         <td>0</td>\n         <td>0</td>\n         <td>0</td>\n         <td>0</td>\n         <td>0</td>\n         <td>0</td>\n         <td>0</td>\n         <td>0</td>\n         <td>0</td>\n         <td>0</td>\n         <td>0</td>\n         <td>0</td>\n         <td>0</td>\n         <td>0</td>\n         <td>0</td>\n         <td>0</td>\n         <td>0</td>\n         <td>0</td>\n         <td>0</td>\n         <td>0</td>\n         <td>0</td>\n         <td>0</td>\n         <td>0</td>\n         <td>0</td>\n         <td>0</td>\n         <td>0</td>\n         <td>0</td>\n         <td>0</td>\n         <td>0</td>\n         <td>0</td>\n         <td>0</td>\n         <td>0</td>\n         <td>0</td>\n         <td>0</td>\n         <td>0</td>\n         <td>0</td>\n         <td>0</td>\n         <td>0</td>\n         <td>0</td>\n         <td>2</td>\n         <td>0</td>\n         <td>0</td>\n         <td>0</td>\n         <td>0</td>\n         <td>0</td>\n         <td>0</td>\n         <td>0</td>\n         <td>0</td>\n         <td>0</td>\n         <td>0</td>\n         <td>0</td>\n         <td>0</td>\n         <td>2</td>\n         <td>0</td>\n         <td>0</td>\n         <td>0</td>\n         <td>0</td>\n         <td>0</td>\n         <td>0</td>\n         <td>0</td>\n         <td>0</td>\n         <td>0</td>\n         <td>0</td>\n         <td>0</td>\n         <td>0</td>\n         <td>0</td>\n         <td>0</td>\n         <td>0</td>\n         <td>0</td>\n         <td>1</td>\n         <td>0</td>\n         <td>0</td>\n         <td>0</td>\n         <td>0</td>\n         <td>0</td>\n      </tr>\n      <tr>\n         <th>6B0IG276</th>\n         <td>&#51060;&#51648;&#48124;</td>\n         <td>completed</td>\n         <td>0</td>\n         <td>0</td>\n         <td>0</td>\n         <td>0</td>\n         <td>0</td>\n         <td>0</td>\n         <td>0</td>\n         <td>0</td>\n         <td>0</td>\n         <td>0</td>\n         <td>0</td>\n         <td>0</td>\n         <td>0</td>\n         <td>0</td>\n         <td>0</td>\n         <td>0</td>\n         <td>0</td>\n         <td>0</td>\n         <td>0</td>\n         <td>0</td>\n         <td>0</td>\n         <td>0</td>\n         <td>0</td>\n         <td>0</td>\n         <td>0</td>\n         <td>0</td>\n         <td>0</td>\n         <td>0</td>\n         <td>0</td>\n         <td>0</td>\n         <td>0</td>\n         <td>0</td>\n         <td>0</td>\n         <td>0</td>\n         <td>0</td>\n         <td>0</td>\n         <td>0</td>\n         <td>0</td>\n         <td>0</td>\n         <td>0</td>\n         <td>0</td>\n         <td>0</td>\n         <td>0</td>\n         <td>0</td>\n         <td>0</td>\n         <td>0</td>\n         <td>0</td>\n         <td>0</td>\n         <td>0</td>\n         <td>0</td>\n         <td>0</td>\n         <td>0</td>\n         <td>0</td>\n         <td>0</td>\n         <td>0</td>\n         <td>0</td>\n         <td>0</td>\n         <td>0</td>\n         <td>0</td>\n         <td>0</td>\n         <td>0</td>\n         <td>0</td>\n         <td>0</td>\n         <td>0</td>\n         <td>0</td>\n         <td>0</td>\n         <td>0</td>\n         <td>0</td>\n         <td>0</td>\n         <td>0</td>\n         <td>0</td>\n         <td>0</td>\n         <td>0</td>\n         <td>0</td>\n         <td>0</td>\n         <td>0</td>\n         <td>0</td>\n         <td>0</td>\n         <td>0</td>\n         <td>0</td>\n         <td>0</td>\n         <td>0</td>\n         <td>0</td>\n         <td>0</td>\n         <td>0</td>\n         <td>0</td>\n         <td>0</td>\n         <td>0</td>\n         <td>0</td>\n         <td>0</td>\n         <td>0</td>\n         <td>0</td>\n         <td>0</td>\n         <td>0</td>\n         <td>0</td>\n         <td>0</td>\n         <td>0</td>\n         <td>0</td>\n         <td>0</td>\n         <td>0</td>\n      </tr>\n      <tr>\n         <th>EMGRU2MO</th>\n         <td>&#51109;&#49444;&#50980;</td>\n         <td>completed</td>\n         <td>0</td>\n         <td>0</td>\n         <td>0</td>\n         <td>0</td>\n         <td>0</td>\n         <td>0</td>\n         <td>1</td>\n         <td>0</td>\n         <td>0</td>\n         <td>0</td>\n         <td>0</td>\n         <td>0</td>\n         <td>0</td>\n         <td>0</td>\n         <td>0</td>\n         <td>0</td>\n         <td>0</td>\n         <td>0</td>\n         <td>0</td>\n         <td>0</td>\n         <td>0</td>\n         <td>0</td>\n         <td>0</td>\n         <td>0</td>\n         <td>0</td>\n         <td>0</td>\n         <td>0</td>\n         <td>0</td>\n         <td>0</td>\n         <td>0</td>\n         <td>0</td>\n         <td>0</td>\n         <td>0</td>\n         <td>0</td>\n         <td>0</td>\n         <td>0</td>\n         <td>0</td>\n         <td>0</td>\n         <td>0</td>\n         <td>0</td>\n         <td>0</td>\n         <td>0</td>\n         <td>0</td>\n         <td>0</td>\n         <td>0</td>\n         <td>0</td>\n         <td>0</td>\n         <td>0</td>\n         <td>0</td>\n         <td>0</td>\n         <td>0</td>\n         <td>0</td>\n         <td>0</td>\n         <td>0</td>\n         <td>0</td>\n         <td>0</td>\n         <td>0</td>\n         <td>0</td>\n         <td>0</td>\n         <td>0</td>\n         <td>0</td>\n         <td>0</td>\n         <td>0</td>\n         <td>0</td>\n         <td>0</td>\n         <td>0</td>\n         <td>0</td>\n         <td>0</td>\n         <td>0</td>\n         <td>0</td>\n         <td>0</td>\n         <td>0</td>\n         <td>0</td>\n         <td>0</td>\n         <td>0</td>\n         <td>0</td>\n         <td>0</td>\n         <td>0</td>\n         <td>0</td>\n         <td>0</td>\n         <td>0</td>\n         <td>0</td>\n         <td>0</td>\n         <td>0</td>\n         <td>0</td>\n         <td>0</td>\n         <td>0</td>\n         <td>0</td>\n         <td>0</td>\n         <td>0</td>\n         <td>0</td>\n         <td>0</td>\n         <td>0</td>\n         <td>0</td>\n         <td>0</td>\n         <td>0</td>\n         <td>0</td>\n         <td>0</td>\n         <td>0</td>\n         <td>0</td>\n      </tr>\n      <tr>\n         <th>1ELG96TX</th>\n         <td>&#49436;&#49457;&#48712;</td>\n         <td>completed</td>\n         <td>0</td>\n         <td>0</td>\n         <td>0</td>\n         <td>0</td>\n         <td>0</td>\n         <td>0</td>\n         <td>0</td>\n         <td>0</td>\n         <td>0</td>\n         <td>0</td>\n         <td>0</td>\n         <td>0</td>\n         <td>0</td>\n         <td>0</td>\n         <td>0</td>\n         <td>0</td>\n         <td>0</td>\n         <td>0</td>\n         <td>0</td>\n         <td>0</td>\n         <td>0</td>\n         <td>0</td>\n         <td>0</td>\n         <td>0</td>\n         <td>0</td>\n         <td>0</td>\n         <td>0</td>\n         <td>0</td>\n         <td>0</td>\n         <td>0</td>\n         <td>0</td>\n         <td>0</td>\n         <td>0</td>\n         <td>0</td>\n         <td>0</td>\n         <td>0</td>\n         <td>0</td>\n         <td>0</td>\n         <td>0</td>\n         <td>0</td>\n         <td>0</td>\n         <td>0</td>\n         <td>0</td>\n         <td>0</td>\n         <td>0</td>\n         <td>0</td>\n         <td>0</td>\n         <td>0</td>\n         <td>0</td>\n         <td>0</td>\n         <td>0</td>\n         <td>0</td>\n         <td>0</td>\n         <td>0</td>\n         <td>0</td>\n         <td>0</td>\n         <td>0</td>\n         <td>0</td>\n         <td>0</td>\n         <td>0</td>\n         <td>0</td>\n         <td>0</td>\n         <td>0</td>\n         <td>1</td>\n         <td>0</td>\n         <td>0</td>\n         <td>0</td>\n         <td>0</td>\n         <td>0</td>\n         <td>0</td>\n         <td>0</td>\n         <td>0</td>\n         <td>0</td>\n         <td>0</td>\n         <td>0</td>\n         <td>0</td>\n         <td>0</td>\n         <td>0</td>\n         <td>0</td>\n         <td>0</td>\n         <td>0</td>\n         <td>0</td>\n         <td>0</td>\n         <td>0</td>\n         <td>0</td>\n         <td>0</td>\n         <td>0</td>\n         <td>0</td>\n         <td>0</td>\n         <td>0</td>\n         <td>0</td>\n         <td>0</td>\n         <td>0</td>\n         <td>0</td>\n         <td>0</td>\n         <td>0</td>\n         <td>0</td>\n         <td>0</td>\n         <td>0</td>\n         <td>0</td>\n      </tr>\n   </tbody>\n</table>"
    },
    {
      "metadata": {
        "colab_type": "text",
        "id": "zaiyBBCqxs8n"
      },
      "cell_type": "markdown",
      "source": "힌트: pd.[concat](https://pandas.pydata.org/pandas-docs/stable/generated/pandas.concat.html)을 사용하면 편하게 두 개의 데이터프레임을 합칠 수 있습니다."
    },
    {
      "metadata": {
        "colab_type": "code",
        "id": "8NPgOsbbxs8q",
        "colab": {},
        "trusted": true
      },
      "cell_type": "code",
      "source": "# Write your code here!",
      "execution_count": null,
      "outputs": []
    },
    {
      "metadata": {
        "colab_type": "text",
        "id": "ykFaFnxNxs80"
      },
      "cell_type": "markdown",
      "source": "**14. 코치별 담당 사용자(total) / 구매 완료 횟수(completed) / 캔슬 횟수(canceled) / 환불 횟수(refunded)를 구해주세요.**\n\n이 수치를 통해 좋은 코칭을 하는 사람과 좋은 코칭을 하지 못하는 사람을 구분할 수 있습니다. 최종적으로는 다음의 결과가 나와야 합니다."
    },
    {
      "metadata": {
        "colab_type": "text",
        "id": "sBvVkUQxxs83"
      },
      "cell_type": "markdown",
      "source": "<table border=\"1\" class=\"dataframe\" style=\"float: left;\">\n   <thead>\n      <tr style=\"text-align: right;\">\n         <th>Status</th>\n         <th>cancelled</th>\n         <th>completed</th>\n         <th>refunded</th>\n      </tr>\n   </thead>\n   <tbody>\n      <tr>\n         <th>&#51221;&#51008;&#50724; &#53076;&#52824;(VEV4PGJB)</th>\n         <td>18</td>\n         <td>23</td>\n         <td>3</td>\n      </tr>\n      <tr>\n         <th>&#50724;&#49849;&#54785; &#53076;&#52824;(VENPKBP9)</th>\n         <td>14</td>\n         <td>44</td>\n         <td>9</td>\n      </tr>\n      <tr>\n         <th>&#51312;&#49548;&#51008; &#53076;&#52824;(D0WASBXN)</th>\n         <td>12</td>\n         <td>12</td>\n         <td>1</td>\n      </tr>\n      <tr>\n         <th>&#44256;&#50689;&#51116; &#53076;&#52824;(C91AVNGB)</th>\n         <td>22</td>\n         <td>27</td>\n         <td>4</td>\n      </tr>\n      <tr>\n         <th>&#51312;&#49688;&#48124; &#53076;&#52824;(OBCAO3W0)</th>\n         <td>49</td>\n         <td>46</td>\n         <td>8</td>\n      </tr>\n   </tbody>\n</table>"
    },
    {
      "metadata": {
        "colab_type": "code",
        "id": "YtwliDLwxs86",
        "colab": {},
        "trusted": true
      },
      "cell_type": "code",
      "source": "# Write your code here!",
      "execution_count": null,
      "outputs": []
    },
    {
      "metadata": {
        "colab_type": "text",
        "id": "qNtXu_r_xs9I"
      },
      "cell_type": "markdown",
      "source": "**15. 코치별 전환율(conversion rate) / 취소율(cancellation rate)를 계산해주세요.**\n\n여기서 전환율은 전체 구매자 대비 구매 완료(completed)를 한 사람, 취소율은 전체 구매자 대비 취소(cancelled)나 환불(refunded)을 한 사람을 나타냅니다. 이 두 개를 구한 뒤, 1) 전환율이 높은 코치, 2) 취소율이 높은 코치 순으로 정렬해주세요. 단 모수가 부족한 경우를 배제하기 위해, 코칭을 100회 이상 하지 않은 사용자는 배제하도록 하겠습니다.\n\n전환율이 높을수록 해당 코치가 고객에게 만족스러운 코칭을 제공한다고 볼 수 있으며, 해당 코치의 노하우를 다른 코치들에게 전파할 수 있도록 노력해야 합니다. 최종적으로 다음의 결과가 나와야 합니다.\n"
    },
    {
      "metadata": {
        "colab_type": "text",
        "id": "Jnb3FZCRxs9M"
      },
      "cell_type": "markdown",
      "source": "<table border=\"1\" class=\"dataframe\" style=\"float: left;\">\n   <thead>\n      <tr style=\"text-align: right;\">\n         <th>Status</th>\n         <th>cancelled</th>\n         <th>completed</th>\n         <th>refunded</th>\n         <th>total</th>\n         <th>conversion rate</th>\n         <th>cancellation rate</th>\n      </tr>\n   </thead>\n   <tbody>\n      <tr>\n         <th>&#51312;&#50864;&#52268; &#53076;&#52824;(WWN531JQ)</th>\n         <td>36</td>\n         <td>65</td>\n         <td>6</td>\n         <td>107</td>\n         <td>0.607477</td>\n         <td>0.392523</td>\n      </tr>\n      <tr>\n         <th>&#54728;&#49836;&#51648; &#53076;&#52824;(DWVG5IFL)</th>\n         <td>43</td>\n         <td>71</td>\n         <td>3</td>\n         <td>117</td>\n         <td>0.606838</td>\n         <td>0.393162</td>\n      </tr>\n      <tr>\n         <th>&#54728;&#49457;&#50896; &#53076;&#52824;(9124O1IH)</th>\n         <td>43</td>\n         <td>76</td>\n         <td>7</td>\n         <td>126</td>\n         <td>0.603175</td>\n         <td>0.396825</td>\n      </tr>\n      <tr>\n         <th>&#51312;&#49444;&#50689; &#53076;&#52824;(U7L98DAO)</th>\n         <td>48</td>\n         <td>78</td>\n         <td>6</td>\n         <td>132</td>\n         <td>0.590909</td>\n         <td>0.409091</td>\n      </tr>\n      <tr>\n         <th>&#44428;&#49836;&#50689; &#53076;&#52824;(E3GD4106)</th>\n         <td>42</td>\n         <td>70</td>\n         <td>9</td>\n         <td>121</td>\n         <td>0.578512</td>\n         <td>0.421488</td>\n      </tr>\n   </tbody>\n</table>"
    },
    {
      "metadata": {
        "colab_type": "text",
        "id": "oKtBu1qvxs9Q"
      },
      "cell_type": "markdown",
      "source": "반면 취소율이 높을수록 해당 코치가 고객에게 만족스럽지 않은 코칭을 제공한다고 볼 수 있습니다. 이럴 경우 구체적으로 어떤 부분에서 문제가 생겼는지를 코칭팀에서 파악하여 이를 수정할 수 있어야 합니다. 최종적으로는 다음의 결과가 나와야 합니다."
    },
    {
      "metadata": {
        "colab_type": "text",
        "id": "8pK4K7Hzxs9U"
      },
      "cell_type": "markdown",
      "source": "<table border=\"1\" class=\"dataframe\" style=\"float: left;\">\n   <thead>\n      <tr style=\"text-align: right;\">\n         <th>Status</th>\n         <th>cancelled</th>\n         <th>completed</th>\n         <th>refunded</th>\n         <th>total</th>\n         <th>conversion rate</th>\n         <th>cancellation rate</th>\n      </tr>\n   </thead>\n   <tbody>\n      <tr>\n         <th>&#51312;&#49688;&#48124; &#53076;&#52824;(OBCAO3W0)</th>\n         <td>49</td>\n         <td>46</td>\n         <td>8</td>\n         <td>103</td>\n         <td>0.446602</td>\n         <td>0.553398</td>\n      </tr>\n      <tr>\n         <th>&#48149;&#46020;&#50689; &#53076;&#52824;(I4KVQ5G0)</th>\n         <td>77</td>\n         <td>70</td>\n         <td>6</td>\n         <td>153</td>\n         <td>0.457516</td>\n         <td>0.542484</td>\n      </tr>\n      <tr>\n         <th>&#50724;&#46041;&#50756; &#53076;&#52824;(0O48DQCH)</th>\n         <td>55</td>\n         <td>56</td>\n         <td>7</td>\n         <td>118</td>\n         <td>0.474576</td>\n         <td>0.525424</td>\n      </tr>\n      <tr>\n         <th>&#51312;&#52488;&#50672; &#53076;&#52824;(3JBE9GKO)</th>\n         <td>55</td>\n         <td>56</td>\n         <td>5</td>\n         <td>116</td>\n         <td>0.482759</td>\n         <td>0.517241</td>\n      </tr>\n      <tr>\n         <th>&#50724;&#52488;&#48712; &#53076;&#52824;(A3WOLAQM)</th>\n         <td>124</td>\n         <td>150</td>\n         <td>27</td>\n         <td>301</td>\n         <td>0.498339</td>\n         <td>0.501661</td>\n      </tr>\n   </tbody>\n</table>"
    },
    {
      "metadata": {
        "colab_type": "code",
        "id": "38IeVkRMxs9X",
        "colab": {},
        "trusted": true
      },
      "cell_type": "code",
      "source": "# Write your code here!",
      "execution_count": null,
      "outputs": []
    },
    {
      "metadata": {
        "colab_type": "text",
        "id": "zC58W5abxs9e"
      },
      "cell_type": "markdown",
      "source": "이제 이 결과를 바탕으로, 고객에게 만족도를 높일 수 있도록 코칭을 개선할 수 있을 것입니다."
    },
    {
      "metadata": {
        "colab_type": "text",
        "id": "BwZ4UYKExs9g"
      },
      "cell_type": "markdown",
      "source": "## 제출\n\n과제를 다 끝내셨으면 http://bit.ly/ds-assignment 에서 안내에 따라 과제를 제출하여 주세요! 과제를 제출해주시면 솔루션과 검토 결과를 드립니다. 오프라인 수업의 경우 과제를 제출하지 않으시더라도 솔루션은 다음 수업 시간에 제공해드립니다.\n\n수업이나 과제 관련 질문, 수료증 문의 등은 담당 튜터(조교)에게 문의 주세요. 영수증 발급 등의 문의는 support@dsschool.co.kr 로 메일 주시면 담당자분이 응대해주실 겁니다. 기타 궁금한 사항은 슬랙으로 문의 주세요!"
    },
    {
      "metadata": {
        "colab_type": "code",
        "id": "Zskcao-1xs9i",
        "colab": {},
        "trusted": true
      },
      "cell_type": "code",
      "source": "",
      "execution_count": null,
      "outputs": []
    }
  ],
  "metadata": {
    "colab": {
      "name": "noom(assignment).ipynb",
      "provenance": [],
      "collapsed_sections": [
        "uigID7zoxs5H",
        "timW74dSxs8S"
      ],
      "include_colab_link": true
    },
    "kernelspec": {
      "name": "python3",
      "display_name": "Python 3",
      "language": "python"
    },
    "language_info": {
      "mimetype": "text/x-python",
      "nbconvert_exporter": "python",
      "name": "python",
      "pygments_lexer": "ipython3",
      "version": "3.5.4",
      "file_extension": ".py",
      "codemirror_mode": {
        "version": 3,
        "name": "ipython"
      }
    }
  },
  "nbformat": 4,
  "nbformat_minor": 1
}